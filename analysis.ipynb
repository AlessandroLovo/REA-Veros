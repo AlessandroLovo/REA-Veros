{
 "cells": [
  {
   "cell_type": "markdown",
   "metadata": {},
   "source": [
    "# Analysis\n",
    "\n",
    "In this notebook I analyze the result of the runs with the rare event algorithm and produce figures to put in my PhD thesis"
   ]
  },
  {
   "cell_type": "code",
   "execution_count": null,
   "metadata": {},
   "outputs": [],
   "source": [
    "import numpy as np\n",
    "import matplotlib.pyplot as plt\n",
    "%matplotlib widget\n",
    "import matplotlib\n",
    "matplotlib.rc('font', size=18)\n",
    "from tqdm.notebook import tqdm\n",
    "import os\n",
    "import uncertainties as unc\n",
    "\n",
    "import general_purpose.uplotlib as uplt\n",
    "import general_purpose.utilities as ut\n",
    "import rea.reconstruct as rec\n"
   ]
  },
  {
   "cell_type": "code",
   "execution_count": null,
   "metadata": {},
   "outputs": [],
   "source": [
    "def get_run(folder, iteration=None):\n",
    "    if iteration is None:\n",
    "        try:\n",
    "            run = {'folder': folder, 'rec_dict': ut.json2dict(f'{folder}/reconstructed.json')}\n",
    "        except FileNotFoundError:\n",
    "            # detect last iteration\n",
    "            iterations = [int(f[1:]) for f in os.listdir(folder) if f[0] == 'i']\n",
    "            iteration = np.max(iterations)\n",
    "            run = {'folder': folder, 'rec_dict': rec.reconstruct(f'{folder}/i{iteration:04d}')}\n",
    "            ut.dict2json(run['rec_dict'], f'{folder}/reconstructed.json')\n",
    "    else:\n",
    "        run = {'folder': folder, 'rec_dict': rec.reconstruct(f'{folder}/i{iteration:04d}')}\n",
    "    \n",
    "    run['abs_observables'] = {}\n",
    "    run['rel_observables'] = {}\n",
    "    for rname, r in run['rec_dict']['members'].items():\n",
    "        last_segment_traj = np.load(f\"{folder}/{run['rec_dict']['folders'][-1]}/{r['ancestry'][-1]}-traj.npy\")\n",
    "        first_segment_traj = np.load(f\"{folder}/{run['rec_dict']['folders'][0]}/{r['ancestry'][0]}-traj.npy\")\n",
    "        run['abs_observables'][rname] = last_segment_traj[-1,1]\n",
    "        run['rel_observables'][rname] = last_segment_traj[-1,1] - first_segment_traj[0,1]\n",
    "        \n",
    "    first_segment_traj = np.load(f\"{folder}/{run['rec_dict']['folders'][0]}/{r['ancestry'][0]}-traj.npy\")\n",
    "    run['duration'] = last_segment_traj[-1,0] - first_segment_traj[0,0]\n",
    "        \n",
    "    return run\n",
    "\n",
    "def compute_trajectories(run):\n",
    "    folder = run['folder']\n",
    "    rec_dict = run['rec_dict']\n",
    "    rec_trajs = {}\n",
    "\n",
    "    for rname, r in tqdm(rec_dict['members'].items()):\n",
    "        traj = []\n",
    "        for subfolder,e in zip(rec_dict['folders'], r['ancestry']):\n",
    "            traj.append(np.load(f'{folder}/{subfolder}/{e}-traj.npy'))\n",
    "        traj = np.concatenate(traj)\n",
    "\n",
    "        rec_trajs[rname] = traj\n",
    "    \n",
    "    run['traj'] = rec_trajs\n",
    "    \n",
    "    return rec_trajs\n",
    "\n",
    "def full_traj(path_to_end='veros/__test__/r2_minimal/i0009/e01'):\n",
    "    it_folder, e = path_to_end.rsplit('/', 1)\n",
    "    if '-' in e:\n",
    "        e = e.split('-')[0]\n",
    "    run_folder, it_folder = it_folder.rsplit('/', 1)\n",
    "    i = int(it_folder[1:])\n",
    "    l = len(it_folder) - 1\n",
    "    # print(i,e)\n",
    "    end = np.load(f'{run_folder}/{it_folder}/{e}-traj.npy')\n",
    "    if i == 0:\n",
    "        return end\n",
    "    info = ut.json2dict(f'{run_folder}/{it_folder}/info.json')\n",
    "    parent = info['members'][e]['parent']\n",
    "    return np.concatenate([full_traj(f'{run_folder}/i{i-1:0{l}d}/{parent}'), end])\n",
    "    \n",
    "\n",
    "def killed_segments(run):\n",
    "    cemetery = {}\n",
    "    for i,ifol in enumerate(run['rec_dict']['folders'] + [run['rec_dict']['last_folder']]):\n",
    "        if i == 0:\n",
    "            continue\n",
    "        prev_fol = run['rec_dict']['folders'][i-1]\n",
    "        info = ut.json2dict(f'{run[\"folder\"]}/{ifol}/info.json')\n",
    "        survivors = set(m['parent'] for m in info['members'].values())\n",
    "        dead = set(list(info['members'])) - survivors\n",
    "        cemetery[prev_fol] = [full_traj(f'{run[\"folder\"]}/{prev_fol}/{d}') for d in dead]\n",
    "    return cemetery\n",
    "\n",
    "def plot_traj(run, start=0, **kwargs):\n",
    "    if 'traj' not in run:\n",
    "        compute_trajectories(run)\n",
    "    label = kwargs.pop('label', None)\n",
    "    for traj in run['traj'].values():\n",
    "        plt.plot(traj[start:,0]-traj[0,0], -traj[start:,1], label=label, **kwargs)\n",
    "        label = None\n",
    "\n",
    "def expectation(run, func, mode='abs', **kwargs):\n",
    "    _f = np.array([func(x, **kwargs) for x in run[f'{mode}_observables'].values()])\n",
    "    _w = np.array([r['weight'] for r in run['rec_dict']['members'].values()])\n",
    "    # _w = np.exp(-np.array([r['cum_log_escore'] for r in rec_dict['members'].values()]))\n",
    "    # _n = np.exp(rec_dict['cum_log_norm_factor'])\n",
    "\n",
    "    mean = np.mean(_f*_w)\n",
    "    std = np.sqrt(np.mean((_f*_w)**2)/len(_w))\n",
    "\n",
    "    return unc.ufloat(mean,std)\n",
    "\n",
    "def f(x, a):\n",
    "    return float(x>a)\n",
    "\n",
    "def get_infos(folder):\n",
    "    i = 0\n",
    "    infos = {}\n",
    "    while True:\n",
    "        try:\n",
    "            infos[i] = ut.json2dict(f'{folder}/i{i:04d}/info.json')\n",
    "            i += 1\n",
    "        except FileNotFoundError:\n",
    "            break\n",
    "            \n",
    "    return infos"
   ]
  },
  {
   "cell_type": "markdown",
   "metadata": {},
   "source": [
    "## Visualization of killed trajectories and ensemble progress"
   ]
  },
  {
   "cell_type": "code",
   "execution_count": null,
   "metadata": {},
   "outputs": [],
   "source": [
    "folder = 'veros/__test__/r2_minimal'\n",
    "\n",
    "# folder = 'demo/__test__/c-e50-fold0_minimal'\n",
    "# folder = 'demo/__test__/k4-e50-fold0_minimal'\n",
    "# folder = 'demo/__test__/k20-e50_minimal'\n",
    "# folder = 'demo/__test__/k4-t100-e50-fold1_minimal'\n",
    "\n",
    "run = get_run(folder)\n",
    "_ = compute_trajectories(run)"
   ]
  },
  {
   "cell_type": "code",
   "execution_count": null,
   "metadata": {},
   "outputs": [],
   "source": [
    "cemetery = killed_segments(run)\n",
    "cemetery_traj = {}\n",
    "for k, v in cemetery.items():\n",
    "    vt = v[0][:,0] - v[0][0,0]\n",
    "    vt = np.stack([vt]+[v[i][:,1] for i in range(len(v))], axis=1)\n",
    "    cemetery_traj[k] = vt"
   ]
  },
  {
   "cell_type": "code",
   "execution_count": null,
   "metadata": {},
   "outputs": [],
   "source": [
    "plt.close(1)\n",
    "fig, ax = plt.subplots(num=1, figsize=(9,6))\n",
    "\n",
    "for i,c in enumerate(list(cemetery_traj.values())[::-1]):\n",
    "    plt.plot(c[:,0], -c[:,1:]-i*0.5, color='red', alpha=0.1)\n",
    "\n",
    "plot_traj(run, alpha=0.5, color='black')\n",
    "\n",
    "\n",
    "fig.tight_layout()"
   ]
  },
  {
   "cell_type": "code",
   "execution_count": null,
   "metadata": {},
   "outputs": [],
   "source": [
    "for l in list(cemetery.values())[-1]:\n",
    "    print(l.shape, l[0,0])\n"
   ]
  },
  {
   "cell_type": "code",
   "execution_count": null,
   "metadata": {},
   "outputs": [],
   "source": [
    "cemetery.keys()"
   ]
  },
  {
   "cell_type": "markdown",
   "metadata": {},
   "source": [
    "## The problem of ensemble collapse"
   ]
  },
  {
   "cell_type": "code",
   "execution_count": null,
   "metadata": {},
   "outputs": [],
   "source": [
    "# folder = 'veros/__test__/rA-k20t50_minimal'\n",
    "\n",
    "# folder = 'demo/__test__/k4-t20-e50-fold0_minimal'\n",
    "# folder = 'demo/__test__/k4-t20-e200-fold0_minimal'\n",
    "# folder = 'demo/__test__/k4-t20-e1000-fold0_minimal'\n",
    "\n",
    "# folder = 'veros-temp-noise/__test__/rY1AAtlN-k30t1_minimal'\n",
    "folder = 'veros-temp-noise/__test__/rY1AAtlN-k20t1_minimal'\n",
    "\n",
    "run = get_run(folder)\n",
    "its = int(run['rec_dict']['last_folder'][1:])"
   ]
  },
  {
   "cell_type": "code",
   "execution_count": null,
   "metadata": {},
   "outputs": [],
   "source": [
    "plt.close(2)\n",
    "fig, ax = plt.subplots(num=2, figsize=(9,6))\n",
    "\n",
    "ax2 = ax.twinx()\n",
    "\n",
    "# t_offset = 0.01\n",
    "t_offset = 0\n",
    "\n",
    "# t_adj = 0\n",
    "t_adj = 1\n",
    "\n",
    "t_end = 0\n",
    "krs = []\n",
    "for i in range(its):\n",
    "    cur_fol = f'{folder}/i{i:04d}'\n",
    "    next_fol = f'{folder}/i{i+1:04d}'\n",
    "    info = ut.json2dict(f'{next_fol}/info.json')\n",
    "    survivors = set(m['parent'] for m in info['members'].values())\n",
    "    dead = set(list(info['members'])) - survivors\n",
    "\n",
    "    t_end_prev = t_end\n",
    "    trajs = {m: full_traj(f'{cur_fol}/{m}') for m in tqdm(info['members'])}\n",
    "    ens_mean = -uplt.avg(np.stack([c[:,-1] for c in trajs.values()]), axis=0)\n",
    "    t = list(trajs.values())[0][:,0] - list(trajs.values())[0][0,0] + t_adj\n",
    "    t_end = t[-1]\n",
    "\n",
    "    uplt.errorband(t[t>t_end_prev], ens_mean[t>t_end_prev], ax=ax, color='black', label='ensemble mean' if i == 0 else None)\n",
    "    \n",
    "    c = [-trajs[m][-1,-1] for m in dead]\n",
    "    ax.scatter([t_end - t_offset]*len(c), c, color='red', alpha=0.5, label='killed' if i == 0 else None)\n",
    "\n",
    "    c = [-trajs[m][-1,-1] for m in survivors]\n",
    "    ax.scatter([t_end + t_offset]*len(c), c, color='green', alpha=0.5, label='cloned' if i == 0 else None)\n",
    "\n",
    "    ax.axvline(t_end, color='gray', alpha=0.2)\n",
    "\n",
    "    kill_ratio = len(dead)/len(info['members'])\n",
    "    krs.append(kill_ratio)\n",
    "    ax2.scatter([t_end], [kill_ratio], color='blue', alpha=1)\n",
    "\n",
    "## Veros\n",
    "# ax.set_xlabel('time [yr]')\n",
    "# ax.set_ylabel(' '*12 + 'AMOC strength [Sv]')\n",
    "\n",
    "# ax.set_ybound(6.9,8.4)\n",
    "# ax.set_yticks(np.arange(7.4, 8.4, 0.2))\n",
    "\n",
    "# ax2.set_ybound(0,3.2)\n",
    "# ax2.set_yticks(np.arange(0.2,1.1,0.2))\n",
    "\n",
    "# ax.grid(axis='y')\n",
    "# ax2.grid(axis='y', linestyle='dashed')\n",
    "# ax2.set_ylabel('kill ratio'+ ' '*38)\n",
    "\n",
    "# ax.legend(loc='center left')\n",
    "\n",
    "## OU\n",
    "ax.set_xlabel('time')\n",
    "ax.set_ylabel(' '*12 + '$X$')\n",
    "\n",
    "ax.set_ybound(-6,1)\n",
    "ax.set_yticks(np.arange(-4,1.1))\n",
    "\n",
    "ax2.set_ybound(0,3.2)\n",
    "ax2.set_yticks(np.arange(0.2,1.1,0.2))\n",
    "\n",
    "ax.grid(axis='y')\n",
    "ax2.grid(axis='y', linestyle='dashed')\n",
    "ax2.set_ylabel('kill ratio'+ ' '*38)\n",
    "\n",
    "ax.legend(loc=(0.01, 0.32))\n",
    "\n",
    "\n",
    "fig.tight_layout()"
   ]
  },
  {
   "cell_type": "code",
   "execution_count": null,
   "metadata": {},
   "outputs": [],
   "source": [
    "# fig.savefig('../papers/PhD_Thesis/manuscript/Figures/REA-VerOS/ensemble-collapse-issue.pdf')\n",
    "fig.savefig('../papers/PhD_Thesis/manuscript/Figures/REA-VerOS/evolution-ou-e1000.pdf')"
   ]
  },
  {
   "cell_type": "markdown",
   "metadata": {},
   "source": [
    "### Track probabilities"
   ]
  },
  {
   "cell_type": "code",
   "execution_count": null,
   "metadata": {},
   "outputs": [],
   "source": [
    "its = int(run['rec_dict']['last_folder'][1:])\n",
    "runs = [get_run(folder, i) for i in range(1,its)]\n",
    "weights = np.stack([np.array([r['weight'] for r in run['rec_dict']['members'].values()]) for run in runs])\n",
    "value_at_end = np.stack([np.array([np.load(f'{folder}/{run[\"rec_dict\"][\"last_folder\"]}/e{m[1:]}-traj.npy')[-1,-1] for m in run['rec_dict']['members']]) for run in runs])\n",
    "\n",
    "# add the first iteration\n",
    "_w = np.ones(len(runs[0]['rec_dict']['members']))\n",
    "_f = np.array([np.load(f'{folder}/i0000/e{m[1:]}-traj.npy')[-1,-1] for m in runs[0]['rec_dict']['members']])\n",
    "\n",
    "weights = np.vstack([_w, weights])\n",
    "value_at_end = -np.vstack([_f, value_at_end])\n",
    "\n",
    "t = []\n",
    "for i in range(its):\n",
    "    c = full_traj(f\"{folder}/i{i:04d}/e{list(run['rec_dict']['members'])[0][1:]}\")\n",
    "    t.append(c[-1,0] - c[0,0] + t_adj)\n",
    "t = np.array(t)\n",
    "\n",
    "weights.shape, value_at_end.shape"
   ]
  },
  {
   "cell_type": "code",
   "execution_count": null,
   "metadata": {},
   "outputs": [],
   "source": [
    "t"
   ]
  },
  {
   "cell_type": "code",
   "execution_count": null,
   "metadata": {},
   "outputs": [],
   "source": [
    "np.mean(weights, axis=1), np.mean(value_at_end, axis=1)"
   ]
  },
  {
   "cell_type": "code",
   "execution_count": null,
   "metadata": {},
   "outputs": [],
   "source": [
    "medians = np.median(value_at_end, axis=1)\n",
    "mins = np.min(value_at_end, axis=1)\n",
    "maxs = np.max(value_at_end, axis=1)\n",
    "# medians = np.quantile(value_at_end, 0.1, axis=1)\n",
    "probs = np.mean(weights*(value_at_end.T <= medians).T, axis=1)"
   ]
  },
  {
   "cell_type": "code",
   "execution_count": null,
   "metadata": {},
   "outputs": [],
   "source": [
    "probs[0]"
   ]
  },
  {
   "cell_type": "code",
   "execution_count": null,
   "metadata": {},
   "outputs": [],
   "source": [
    "plt.close(2)\n",
    "fig, ax = plt.subplots(num=2, figsize=(9,6))\n",
    "\n",
    "plt.semilogy(medians, probs, '-', color='gray', alpha=0.5)\n",
    "plt.scatter(medians, probs, c=t, cmap='jet')\n",
    "plt.colorbar(label='time [yr]')\n",
    "\n",
    "## veros\n",
    "plt.xlabel('Median AMOC strength [Sv]')\n",
    "plt.ylabel('$p_{1/2}$') # probability of being below the median of the ensemble (before selection is applied)\n",
    "\n",
    "fig.tight_layout()"
   ]
  },
  {
   "cell_type": "code",
   "execution_count": null,
   "metadata": {},
   "outputs": [],
   "source": [
    "plt.close(3)\n",
    "fig, ax = plt.subplots(num=3, figsize=(9,6))\n",
    "\n",
    "plt.plot(t,maxs, color='black', linestyle='dotted', label='max')\n",
    "plt.plot(t,medians, color='black', label='median')\n",
    "plt.plot(t,mins, color='black', linestyle='dashed', label='min')\n",
    "\n",
    "## veros\n",
    "plt.xlabel('time [yr]')\n",
    "plt.ylabel('AMOC strength [Sv]')\n",
    "\n",
    "## ou\n",
    "# plt.xlabel('time')\n",
    "# plt.ylabel('$X$')\n",
    "\n",
    "# plt.legend(loc='upper center')\n",
    "plt.legend()\n",
    "\n",
    "ax2 = ax.twinx()\n",
    "ax2.semilogy(t,probs, color='red')\n",
    "plt.ylabel('$p_{1/2}$', color='red')\n",
    "plt.setp(ax2.get_yticklabels(), color='red')\n",
    "\n",
    "fig.tight_layout()"
   ]
  },
  {
   "cell_type": "code",
   "execution_count": null,
   "metadata": {},
   "outputs": [],
   "source": [
    "# fig.savefig('../papers/PhD_Thesis/manuscript/Figures/REA-VerOS/p0.5-veros-t5.pdf')\n",
    "# fig.savefig('../papers/PhD_Thesis/manuscript/Figures/REA-VerOS/p0.5-ou.pdf')\n",
    "fig.savefig('../papers/PhD_Thesis/manuscript/Figures/REA-VerOS/p0.5-veros-noise.pdf')"
   ]
  },
  {
   "cell_type": "markdown",
   "metadata": {},
   "source": [
    "## New attractor"
   ]
  },
  {
   "cell_type": "code",
   "execution_count": null,
   "metadata": {},
   "outputs": [],
   "source": [
    "folder = 'veros/__test__/r2_minimal'\n",
    "folder_relax = 'veros/__test__/r2-relax_minimal'\n",
    "\n",
    "run = get_run(folder)\n",
    "run_relax = get_run(folder_relax)\n",
    "\n",
    "_ = compute_trajectories(run)\n",
    "_ = compute_trajectories(run_relax)"
   ]
  },
  {
   "cell_type": "code",
   "execution_count": null,
   "metadata": {},
   "outputs": [],
   "source": [
    "plt.close(3)\n",
    "fig, ax = plt.subplots(num=3, figsize=(9,6))\n",
    "\n",
    "plot_traj(run, alpha=0.5, color='black')\n",
    "plot_traj(run_relax, start=run['traj']['r01'].shape[0] - 1, alpha=0.5, color='blue')\n",
    "\n",
    "fig.tight_layout()"
   ]
  },
  {
   "cell_type": "code",
   "execution_count": null,
   "metadata": {},
   "outputs": [],
   "source": [
    "from matplotlib.gridspec import GridSpec"
   ]
  },
  {
   "cell_type": "code",
   "execution_count": null,
   "metadata": {},
   "outputs": [],
   "source": [
    "plt.close(4)\n",
    "fig = plt.figure(num=4, figsize=(10,6))\n",
    "gs = GridSpec(4,6)\n",
    "ax_plot = fig.add_subplot(gs[:,0:4])\n",
    "\n",
    "stab = -20\n",
    "\n",
    "plot_traj(run, alpha=0.2, color='black', label='$k=20$')\n",
    "plot_traj(run_relax, start=run['traj']['r01'].shape[0] - 1, alpha=0.2, color='blue', label='$k=0$')\n",
    "\n",
    "plt.axvline(run['traj']['r01'][-1,0] - run['traj']['r01'][0,0], color='blue', linestyle='dashed')\n",
    "plt.axvline(run_relax['traj']['r01'][stab,0] - run_relax['traj']['r01'][0,0], color='blue', linestyle='dotted')\n",
    "e01 = np.load(f'{folder}/i0000/e01-traj.npy')\n",
    "plt.axvline(e01[-1,0] - e01[0,0], color='black', linestyle='dotted')\n",
    "\n",
    "plt.xlabel('time [yr]')\n",
    "plt.ylabel('AMOC strength [Sv]')\n",
    "plt.legend()\n",
    "\n",
    "\n",
    "\n",
    "ax_hist = fig.add_subplot(gs[:,4:])\n",
    "\n",
    "bin_edges = np.linspace(ax_plot.get_ylim()[0], ax_plot.get_ylim()[1], 50)\n",
    "\n",
    "#hist of the old attractor\n",
    "pts_control = -np.concatenate([np.load(f'{folder}/i0000/e{e[1:]}-traj.npy')[:,1] for e in run['rec_dict']['members']])\n",
    "hist, bin_edges = np.histogram(pts_control, bins=bin_edges, density=True)\n",
    "ax_hist.plot(hist, 0.5*(bin_edges[:-1] + bin_edges[1:]), color='black')\n",
    "\n",
    "#hist of the new attractor\n",
    "pts = -np.concatenate([c[stab:, 1] for c in run_relax['traj'].values()])\n",
    "hist, bin_edges = np.histogram(pts, bins=bin_edges, density=True)\n",
    "ax_hist.plot(hist, 0.5*(bin_edges[:-1] + bin_edges[1:]), color='blue')\n",
    "\n",
    "ax_hist.set_ylim(*ax_plot.get_ylim())\n",
    "ax_hist.set_yticklabels([])\n",
    "\n",
    "fig.tight_layout()"
   ]
  },
  {
   "cell_type": "code",
   "execution_count": null,
   "metadata": {},
   "outputs": [],
   "source": [
    "fig.savefig('../papers/PhD_Thesis/manuscript/Figures/REA-VerOS/new-attractor.pdf')"
   ]
  },
  {
   "cell_type": "code",
   "execution_count": null,
   "metadata": {},
   "outputs": [],
   "source": [
    "ctrl = uplt.avg(pts_control).item()\n",
    "new = uplt.avg(pts).item()"
   ]
  },
  {
   "cell_type": "code",
   "execution_count": null,
   "metadata": {},
   "outputs": [],
   "source": [
    "(new.n - ctrl.n) / ctrl.s"
   ]
  },
  {
   "cell_type": "markdown",
   "metadata": {},
   "source": [
    "### Probability ?"
   ]
  },
  {
   "cell_type": "code",
   "execution_count": null,
   "metadata": {},
   "outputs": [],
   "source": [
    "_w = np.array([r['weight'] for r in run['rec_dict']['members'].values()])\n",
    "_f = -np.array([run['traj'][e][-1,-1] for e in run['rec_dict']['members']])\n",
    "np.mean(_w)"
   ]
  },
  {
   "cell_type": "code",
   "execution_count": null,
   "metadata": {},
   "outputs": [],
   "source": [
    "_w"
   ]
  },
  {
   "cell_type": "code",
   "execution_count": null,
   "metadata": {},
   "outputs": [],
   "source": [
    "np.argmax(_w) + 1"
   ]
  },
  {
   "cell_type": "code",
   "execution_count": null,
   "metadata": {},
   "outputs": [],
   "source": [
    "plt.close(1)\n",
    "fig, ax = plt.subplots(num=1, figsize=(9,6))\n",
    "\n",
    "plt.scatter(_f, _w)\n",
    "\n",
    "fig.tight_layout()"
   ]
  },
  {
   "cell_type": "code",
   "execution_count": null,
   "metadata": {},
   "outputs": [],
   "source": [
    "np.sum(_f < 7.9)"
   ]
  },
  {
   "cell_type": "code",
   "execution_count": null,
   "metadata": {},
   "outputs": [],
   "source": [
    "np.mean(_w*(_f < 7.9))"
   ]
  },
  {
   "cell_type": "markdown",
   "metadata": {},
   "source": [
    "## Shorter resampling time"
   ]
  },
  {
   "cell_type": "code",
   "execution_count": null,
   "metadata": {},
   "outputs": [],
   "source": [
    "folder = 'veros/__test__/r01--k__16--nens__50--T__5_minimal'\n",
    "# folder = 'veros/__test__/r3_minimal' # 20 year resampling time\n",
    "run = get_run(folder)"
   ]
  },
  {
   "cell_type": "markdown",
   "metadata": {},
   "source": []
  }
 ],
 "metadata": {
  "kernelspec": {
   "display_name": "mlk",
   "language": "python",
   "name": "mlk"
  },
  "language_info": {
   "codemirror_mode": {
    "name": "ipython",
    "version": 3
   },
   "file_extension": ".py",
   "mimetype": "text/x-python",
   "name": "python",
   "nbconvert_exporter": "python",
   "pygments_lexer": "ipython3",
   "version": "3.10.12"
  }
 },
 "nbformat": 4,
 "nbformat_minor": 2
}
