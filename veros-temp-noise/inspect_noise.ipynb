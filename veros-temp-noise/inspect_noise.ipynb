{
 "cells": [
  {
   "cell_type": "code",
   "execution_count": null,
   "id": "66382b55-d9a1-4614-bb6b-f6da20e9361d",
   "metadata": {},
   "outputs": [],
   "source": [
    "import numpy as np\n",
    "import matplotlib\n",
    "import matplotlib.pyplot as plt\n",
    "%matplotlib widget\n",
    "matplotlib.rc('font', size=18)\n",
    "import uncertainties as unc\n",
    "import scipy.special as ss\n",
    "\n",
    "from tqdm.notebook import tqdm\n",
    "\n",
    "import sys\n",
    "sys.path.append('../')\n",
    "import general_purpose.utilities as ut\n",
    "import general_purpose.uplotlib as uplt\n",
    "\n",
    "from importlib import reload\n",
    "\n",
    "import rea.reconstruct as rec"
   ]
  },
  {
   "cell_type": "markdown",
   "id": "4b6abe90",
   "metadata": {},
   "source": [
    "# View the files"
   ]
  },
  {
   "cell_type": "code",
   "execution_count": null,
   "id": "2e8a20e3",
   "metadata": {},
   "outputs": [],
   "source": [
    "eofs_re = np.load('EOFs_rescaled.npy')\n",
    "eofs_re.shape"
   ]
  },
  {
   "cell_type": "code",
   "execution_count": null,
   "id": "d105c08e-baae-4fad-852d-07ed8288c48c",
   "metadata": {},
   "outputs": [],
   "source": [
    "pcs_re = np.load('PCs_rescaled.npy')\n",
    "pcs_re.shape"
   ]
  },
  {
   "cell_type": "code",
   "execution_count": null,
   "id": "cfd16f1e-13ac-41b5-b869-5b3dcc670383",
   "metadata": {},
   "outputs": [],
   "source": [
    "lm = np.load('landMask.npy')\n",
    "lm.shape"
   ]
  },
  {
   "cell_type": "code",
   "execution_count": null,
   "id": "ef195c70-c6f6-44c5-810b-cf92881461d2",
   "metadata": {},
   "outputs": [],
   "source": [
    "yw_rho = np.load('yw_rho.npy')\n",
    "yw_sigma = np.load('yw_sigma.npy')\n",
    "\n",
    "yw_rho.shape, yw_sigma.shape"
   ]
  },
  {
   "cell_type": "code",
   "execution_count": null,
   "id": "d461b213-c7b7-4815-a518-5b4c7f2ac121",
   "metadata": {},
   "outputs": [],
   "source": [
    "plt.figure()\n",
    "plt.contourf(eofs_re[7])\n",
    "plt.colorbar()"
   ]
  },
  {
   "cell_type": "code",
   "execution_count": null,
   "id": "c650a919-b8d1-4253-8e8e-f70e85c7e43e",
   "metadata": {},
   "outputs": [],
   "source": [
    "plt.figure()\n",
    "plt.plot(yw_sigma)"
   ]
  },
  {
   "cell_type": "markdown",
   "id": "51857818",
   "metadata": {},
   "source": [
    "# Effect of noise on the dynamics"
   ]
  },
  {
   "cell_type": "code",
   "execution_count": null,
   "id": "a0daeaa5",
   "metadata": {},
   "outputs": [],
   "source": [
    "def get_run(folder, iteration=None):\n",
    "    if iteration is None:\n",
    "        run = {'folder': folder, 'rec_dict': ut.json2dict(f'{folder}/reconstructed.json')}\n",
    "    else:\n",
    "        run = {'folder': folder, 'rec_dict': rec.reconstruct(f'{folder}/i{iteration:04d}')}\n",
    "    \n",
    "    run['abs_observables'] = {}\n",
    "    run['rel_observables'] = {}\n",
    "    for rname, r in run['rec_dict']['members'].items():\n",
    "        last_segment_traj = np.load(f\"{folder}/{run['rec_dict']['folders'][-1]}/{r['ancestry'][-1]}-traj.npy\")\n",
    "        first_segment_traj = np.load(f\"{folder}/{run['rec_dict']['folders'][0]}/{r['ancestry'][0]}-traj.npy\")\n",
    "        run['abs_observables'][rname] = last_segment_traj[-1,1]\n",
    "        run['rel_observables'][rname] = last_segment_traj[-1,1] - first_segment_traj[0,1]\n",
    "        \n",
    "    first_segment_traj = np.load(f\"{folder}/{run['rec_dict']['folders'][0]}/{r['ancestry'][0]}-traj.npy\")\n",
    "    run['duration'] = last_segment_traj[-1,0] - first_segment_traj[0,0]\n",
    "        \n",
    "    return run\n",
    "\n",
    "def compute_trajectories(run):\n",
    "    folder = run['folder']\n",
    "    rec_dict = run['rec_dict']\n",
    "    rec_trajs = {}\n",
    "\n",
    "    for rname, r in tqdm(rec_dict['members'].items()):\n",
    "        traj = []\n",
    "        for subfolder,e in zip(rec_dict['folders'], r['ancestry']):\n",
    "            traj.append(np.load(f'{folder}/{subfolder}/{e}-traj.npy'))\n",
    "        traj = np.concatenate(traj)\n",
    "\n",
    "        rec_trajs[rname] = traj\n",
    "    \n",
    "    run['traj'] = rec_trajs\n",
    "    \n",
    "    return rec_trajs\n",
    "\n",
    "def plot_traj(run, start=0, **kwargs):\n",
    "    if 'traj' not in run:\n",
    "        compute_trajectories(run)\n",
    "    for traj in run['traj'].values():\n",
    "        plt.plot(traj[start:,0]-traj[0,0], -traj[start:,1], **kwargs)\n",
    "\n",
    "def expectation(run, func, mode='abs', **kwargs):\n",
    "    _f = np.array([func(x, **kwargs) for x in run[f'{mode}_observables'].values()])\n",
    "    _w = np.array([r['weight'] for r in run['rec_dict']['members'].values()])\n",
    "    # _w = np.exp(-np.array([r['cum_log_escore'] for r in rec_dict['members'].values()]))\n",
    "    # _n = np.exp(rec_dict['cum_log_norm_factor'])\n",
    "\n",
    "    mean = np.mean(_f*_w)\n",
    "    std = np.sqrt(np.mean((_f*_w)**2)/len(_w))\n",
    "\n",
    "    return unc.ufloat(mean,std)\n",
    "\n",
    "def f(x, a):\n",
    "    return float(x>a)\n",
    "\n",
    "def get_infos(folder):\n",
    "    i = 0\n",
    "    infos = {}\n",
    "    while True:\n",
    "        try:\n",
    "            infos[i] = ut.json2dict(f'{folder}/i{i:04d}/info.json')\n",
    "            i += 1\n",
    "        except FileNotFoundError:\n",
    "            break\n",
    "            \n",
    "    return infos\n"
   ]
  },
  {
   "cell_type": "code",
   "execution_count": null,
   "id": "49a3efe9-25ea-42cf-ad72-3e99f96d1da1",
   "metadata": {},
   "outputs": [],
   "source": [
    "run_no_noise = get_run('../veros/__test__/r-0_minimal')\n",
    "run_noise = get_run('__test__/rn-0_minimal')\n",
    "\n",
    "compute_trajectories(run_no_noise)\n",
    "_ = compute_trajectories(run_noise)"
   ]
  },
  {
   "cell_type": "markdown",
   "id": "12a2d2d0-f656-4fc9-a608-46b435e26b43",
   "metadata": {},
   "source": [
    "## Plot the two trajectories"
   ]
  },
  {
   "cell_type": "code",
   "execution_count": null,
   "id": "f8d0084b-fccf-427b-a1d2-482a2172d77e",
   "metadata": {},
   "outputs": [],
   "source": [
    "plt.close(1)\n",
    "fig, ax = plt.subplots(num=1, figsize=(9,6))\n",
    "\n",
    "plot_traj(run_no_noise, color='blue', label='no noise')\n",
    "plot_traj(run_noise, color='red', label='noise')\n",
    "\n",
    "plt.legend()\n",
    "\n",
    "plt.xlabel('time [yr]')\n",
    "plt.ylabel('AMOC strength [Sv]')\n",
    "\n",
    "fig.tight_layout()"
   ]
  },
  {
   "cell_type": "code",
   "execution_count": null,
   "id": "10d6c277",
   "metadata": {},
   "outputs": [],
   "source": []
  }
 ],
 "metadata": {
  "kernelspec": {
   "display_name": "py3.9",
   "language": "python",
   "name": "py3.9"
  },
  "language_info": {
   "codemirror_mode": {
    "name": "ipython",
    "version": 3
   },
   "file_extension": ".py",
   "mimetype": "text/x-python",
   "name": "python",
   "nbconvert_exporter": "python",
   "pygments_lexer": "ipython3",
   "version": "3.9.12"
  }
 },
 "nbformat": 4,
 "nbformat_minor": 5
}
