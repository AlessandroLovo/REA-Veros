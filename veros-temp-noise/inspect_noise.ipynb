{
 "cells": [
  {
   "cell_type": "code",
   "execution_count": null,
   "id": "66382b55-d9a1-4614-bb6b-f6da20e9361d",
   "metadata": {},
   "outputs": [],
   "source": [
    "import numpy as np\n",
    "import matplotlib\n",
    "import matplotlib.pyplot as plt\n",
    "%matplotlib widget\n",
    "matplotlib.rc('font', size=18)\n",
    "import uncertainties as unc\n",
    "import scipy.special as ss\n",
    "import xarray as xr\n",
    "\n",
    "from tqdm.notebook import tqdm\n",
    "\n",
    "import sys\n",
    "sys.path.append('../')\n",
    "import general_purpose.utilities as ut\n",
    "import general_purpose.uplotlib as uplt\n",
    "import general_purpose.cartopy_plots as cplt\n",
    "\n",
    "from importlib import reload\n",
    "\n",
    "import rea.reconstruct as rec"
   ]
  },
  {
   "cell_type": "markdown",
   "id": "4b6abe90",
   "metadata": {},
   "source": [
    "# View the files"
   ]
  },
  {
   "cell_type": "code",
   "execution_count": null,
   "id": "bbb17e57-3039-471c-83e2-f725a5a7e075",
   "metadata": {},
   "outputs": [],
   "source": [
    "folder = '../veros-noise-product/atlantic2'"
   ]
  },
  {
   "cell_type": "code",
   "execution_count": null,
   "id": "2e8a20e3",
   "metadata": {},
   "outputs": [],
   "source": [
    "# eofs_re = np.load('EOFs_new.npy')\n",
    "eofs_re = np.load(f'{folder}/EOFs.npy')\n",
    "eofs_re.shape"
   ]
  },
  {
   "cell_type": "code",
   "execution_count": null,
   "id": "d105c08e-baae-4fad-852d-07ed8288c48c",
   "metadata": {},
   "outputs": [],
   "source": [
    "pcs_re = np.load(f'{folder}/PCs.npy')\n",
    "pcs_re.shape"
   ]
  },
  {
   "cell_type": "code",
   "execution_count": null,
   "id": "cfd16f1e-13ac-41b5-b869-5b3dcc670383",
   "metadata": {},
   "outputs": [],
   "source": [
    "lm = np.load(f'{folder}/landMask.npy')\n",
    "lm.shape"
   ]
  },
  {
   "cell_type": "code",
   "execution_count": null,
   "id": "34223af1-a29f-4a8d-8d04-f43024c297a7",
   "metadata": {},
   "outputs": [],
   "source": [
    "lags = np.load(f'{folder}/Lags.npy')\n",
    "lags.shape"
   ]
  },
  {
   "cell_type": "code",
   "execution_count": null,
   "id": "ef195c70-c6f6-44c5-810b-cf92881461d2",
   "metadata": {},
   "outputs": [],
   "source": [
    "yw_rho = np.load(f'{folder}/yw_rho.npy')\n",
    "yw_sigma = np.load(f'{folder}/yw_sigma.npy')\n",
    "\n",
    "yw_rho.shape, yw_sigma.shape"
   ]
  },
  {
   "cell_type": "code",
   "execution_count": null,
   "id": "d461b213-c7b7-4815-a518-5b4c7f2ac121",
   "metadata": {},
   "outputs": [],
   "source": [
    "plt.figure()\n",
    "plt.contourf(eofs_re[0])\n",
    "plt.colorbar()"
   ]
  },
  {
   "cell_type": "code",
   "execution_count": null,
   "id": "c650a919-b8d1-4253-8e8e-f70e85c7e43e",
   "metadata": {},
   "outputs": [],
   "source": [
    "plt.figure()\n",
    "plt.plot(yw_sigma)"
   ]
  },
  {
   "cell_type": "code",
   "execution_count": null,
   "id": "e0b278f8-4abe-40f2-ad8d-9abf12ae84e5",
   "metadata": {},
   "outputs": [],
   "source": [
    "plt.figure()\n",
    "plt.plot(lags)"
   ]
  },
  {
   "cell_type": "code",
   "execution_count": null,
   "id": "9dca4158-054a-46f6-a35e-cabd2bd71992",
   "metadata": {},
   "outputs": [],
   "source": [
    "yw_rho.shape"
   ]
  },
  {
   "cell_type": "code",
   "execution_count": null,
   "id": "995050d2-aa94-4cd2-98ea-d8bd240500f1",
   "metadata": {},
   "outputs": [],
   "source": [
    "eof_id = 6\n",
    "\n",
    "plt.close(4)\n",
    "plt.figure(num=4)\n",
    "_ = plt.plot(np.arange(yw_rho.shape[1]), yw_rho[eof_id - 1], marker='o')"
   ]
  },
  {
   "cell_type": "markdown",
   "id": "d1fb054c-ed6c-498a-a0b2-de20ae712b14",
   "metadata": {},
   "source": [
    "### Plot the EOFs with the proper coordinates"
   ]
  },
  {
   "cell_type": "code",
   "execution_count": null,
   "id": "c2375352-e897-4493-af9a-9222d6422011",
   "metadata": {},
   "outputs": [],
   "source": [
    "av = xr.load_dataset('../veros-temp-noise-old/__test__/e1.0000.averages.nc')"
   ]
  },
  {
   "cell_type": "code",
   "execution_count": null,
   "id": "9852e546-2006-40c5-875e-5dda52a40c43",
   "metadata": {},
   "outputs": [],
   "source": [
    "av"
   ]
  },
  {
   "cell_type": "code",
   "execution_count": null,
   "id": "f52920d6-173e-4272-9fdb-3dbcaf4cda2c",
   "metadata": {},
   "outputs": [],
   "source": [
    "av['yt']"
   ]
  },
  {
   "cell_type": "code",
   "execution_count": null,
   "id": "aafe916a-db41-4cc5-a551-d018171ff159",
   "metadata": {},
   "outputs": [],
   "source": [
    "LON, LAT = np.meshgrid(av['xt'] - 360, av['yt'])"
   ]
  },
  {
   "cell_type": "code",
   "execution_count": null,
   "id": "d5ef712b-1e20-4381-afee-e89e4207a49f",
   "metadata": {},
   "outputs": [],
   "source": [
    "plt.close(2)\n",
    "fig = plt.figure(num=2, figsize=(8,4))\n",
    "ax = fig.add_subplot(111, projection=cplt.ccrs.PlateCarree())\n",
    "\n",
    "cplt.geo_plotter(ax, LON, LAT,\n",
    "                 # eofs_re[0][::-1,:],\n",
    "                 lm[::-1],\n",
    "                 greenwich=True,\n",
    "                 draw_gridlines=False, draw_labels=False,\n",
    "                 put_colorbar=False\n",
    "                )"
   ]
  },
  {
   "cell_type": "code",
   "execution_count": null,
   "id": "479db1d1-6d93-4bc9-8194-c1b121fb35e7",
   "metadata": {},
   "outputs": [],
   "source": [
    "reload(cplt)"
   ]
  },
  {
   "cell_type": "code",
   "execution_count": null,
   "id": "bc12596d-3562-4697-90e1-2d0f5c3a2cac",
   "metadata": {},
   "outputs": [],
   "source": [
    "vmax = np.nanmax(np.abs(eofs_re))\n",
    "ofl = (8,11)\n",
    "plots_per_fig = np.prod(ofl)\n",
    "start = 48\n",
    "plt.close('all')\n",
    "i = 0\n",
    "while i < 1:\n",
    "    lower = start + plots_per_fig*i\n",
    "    upper = min(start + plots_per_fig*(i+1), eofs_re.shape[0])\n",
    "    if upper <= lower:\n",
    "        break\n",
    "    ims = cplt.mfp(LON, LAT, eofs_re[lower:upper].transpose(1,2,0)[::-1,:,:],\n",
    "                   projections=cplt.ccrs.PlateCarree(), extents=None, titles=list(range(lower + 1,upper + 1)),\n",
    "                   figsize=(18,9),\n",
    "                   # figsize=(12,6),\n",
    "                   fig_num = 8 + i,\n",
    "                   one_fig_layout=ofl,\n",
    "                   # mx=vmax,\n",
    "                   # colorbar='shared',\n",
    "                   colorbar='individual',\n",
    "                   put_colorbar=False,\n",
    "                   # apply_tight_layout=False\n",
    "                  )\n",
    "    i += 1"
   ]
  },
  {
   "cell_type": "markdown",
   "id": "51857818",
   "metadata": {},
   "source": [
    "# Effect of noise on the dynamics"
   ]
  },
  {
   "cell_type": "code",
   "execution_count": null,
   "id": "a0daeaa5",
   "metadata": {},
   "outputs": [],
   "source": [
    "def get_run(folder, iteration=None):\n",
    "    if iteration is None:\n",
    "        run = {'folder': folder, 'rec_dict': ut.json2dict(f'{folder}/reconstructed.json')}\n",
    "    else:\n",
    "        run = {'folder': folder, 'rec_dict': rec.reconstruct(f'{folder}/i{iteration:04d}')}\n",
    "    \n",
    "    run['abs_observables'] = {}\n",
    "    run['rel_observables'] = {}\n",
    "    for rname, r in run['rec_dict']['members'].items():\n",
    "        last_segment_traj = np.load(f\"{folder}/{run['rec_dict']['folders'][-1]}/{r['ancestry'][-1]}-traj.npy\")\n",
    "        first_segment_traj = np.load(f\"{folder}/{run['rec_dict']['folders'][0]}/{r['ancestry'][0]}-traj.npy\")\n",
    "        run['abs_observables'][rname] = last_segment_traj[-1,1]\n",
    "        run['rel_observables'][rname] = last_segment_traj[-1,1] - first_segment_traj[0,1]\n",
    "        \n",
    "    first_segment_traj = np.load(f\"{folder}/{run['rec_dict']['folders'][0]}/{r['ancestry'][0]}-traj.npy\")\n",
    "    run['duration'] = last_segment_traj[-1,0] - first_segment_traj[0,0]\n",
    "        \n",
    "    return run\n",
    "\n",
    "def compute_trajectories(run):\n",
    "    folder = run['folder']\n",
    "    rec_dict = run['rec_dict']\n",
    "    rec_trajs = {}\n",
    "\n",
    "    for rname, r in tqdm(rec_dict['members'].items()):\n",
    "        traj = []\n",
    "        for subfolder,e in zip(rec_dict['folders'], r['ancestry']):\n",
    "            traj.append(np.load(f'{folder}/{subfolder}/{e}-traj.npy'))\n",
    "        traj = np.concatenate(traj)\n",
    "\n",
    "        rec_trajs[rname] = traj\n",
    "    \n",
    "    run['traj'] = rec_trajs\n",
    "    \n",
    "    return rec_trajs\n",
    "\n",
    "def plot_traj(run, start=0, **kwargs):\n",
    "    if 'traj' not in run:\n",
    "        compute_trajectories(run)\n",
    "    for traj in run['traj'].values():\n",
    "        plt.plot(traj[start:,0]-traj[0,0], -traj[start:,1], **kwargs)\n",
    "\n",
    "def expectation(run, func, mode='abs', **kwargs):\n",
    "    _f = np.array([func(x, **kwargs) for x in run[f'{mode}_observables'].values()])\n",
    "    _w = np.array([r['weight'] for r in run['rec_dict']['members'].values()])\n",
    "    # _w = np.exp(-np.array([r['cum_log_escore'] for r in rec_dict['members'].values()]))\n",
    "    # _n = np.exp(rec_dict['cum_log_norm_factor'])\n",
    "\n",
    "    mean = np.mean(_f*_w)\n",
    "    std = np.sqrt(np.mean((_f*_w)**2)/len(_w))\n",
    "\n",
    "    return unc.ufloat(mean,std)\n",
    "\n",
    "def f(x, a):\n",
    "    return float(x>a)\n",
    "\n",
    "def get_infos(folder):\n",
    "    i = 0\n",
    "    infos = {}\n",
    "    while True:\n",
    "        try:\n",
    "            infos[i] = ut.json2dict(f'{folder}/i{i:04d}/info.json')\n",
    "            i += 1\n",
    "        except FileNotFoundError:\n",
    "            break\n",
    "            \n",
    "    return infos\n"
   ]
  },
  {
   "cell_type": "code",
   "execution_count": null,
   "id": "49a3efe9-25ea-42cf-ad72-3e99f96d1da1",
   "metadata": {},
   "outputs": [],
   "source": [
    "## atlantic noise\n",
    "# runs = {\n",
    "#     '0': get_run('../veros/__test__/r-0_minimal'),\n",
    "#     '1': get_run('__test__/rAtlN_s1-k0_minimal/'),\n",
    "#     '2': get_run('__test__/rAtlN_s2-k0_minimal/'),\n",
    "#     '5': get_run('__test__/rAtlN_s5-k0_minimal/')\n",
    "# }\n",
    "\n",
    "# atlantic noise, yearly resolution\n",
    "control = np.load('../veros/__test__/amoc_max_f8_2_yearly.npy')\n",
    "control[0] -= control[0,0]\n",
    "control[1] *= -1\n",
    "i = 0\n",
    "runs = {\n",
    "    # '0': {'traj': {'r1': control.T[200:400]}},\n",
    "    '0': {'traj': {'r1': control.T[i:i+500]}},\n",
    "    # '1': get_run('__test__/rY1AAtlN_s1-k0_minimal/'),\n",
    "    '1': get_run('__test__/rY1AtlN_s1-k0_minimal/'),\n",
    "}\n",
    "\n",
    "## ocean noise (wrong)\n",
    "# runs = {\n",
    "#     '0': get_run('../veros/__test__/r-0_minimal'),\n",
    "#     '1': get_run('__test__/rN_s1-k0_minimal/'),\n",
    "#     '2': get_run('__test__/rN_s2-k0_minimal'),\n",
    "#     '5': get_run('__test__/rN_s5-k0_minimal')\n",
    "# }\n",
    "\n",
    "## global noise (wrong)\n",
    "# runs = {\n",
    "#     '0': get_run('../veros/__test__/r-0_minimal'),\n",
    "#     '1': get_run('../veros-temp-noise-old/__test__/rn-0_minimal/'),\n",
    "#     '2': get_run('../veros-temp-noise-old/__test__/rn_s2-0_minimal'),\n",
    "#     '5': get_run('../veros-temp-noise-old/__test__/rn_s5-0_minimal')\n",
    "# }\n",
    "\n",
    "# for run in runs.values():\n",
    "#     compute_trajectories(run)"
   ]
  },
  {
   "cell_type": "markdown",
   "id": "12a2d2d0-f656-4fc9-a608-46b435e26b43",
   "metadata": {},
   "source": [
    "## Plot the trajectories"
   ]
  },
  {
   "cell_type": "code",
   "execution_count": null,
   "id": "e3680657",
   "metadata": {},
   "outputs": [],
   "source": [
    "runs['0']['traj']['r1']"
   ]
  },
  {
   "cell_type": "code",
   "execution_count": null,
   "id": "f8d0084b-fccf-427b-a1d2-482a2172d77e",
   "metadata": {},
   "outputs": [],
   "source": [
    "plt.close(1)\n",
    "fig, ax = plt.subplots(num=1, figsize=(9,6))\n",
    "\n",
    "for s,run in runs.items():\n",
    "    plot_traj(run, label=fr'$\\sigma = {s}$')\n",
    "\n",
    "plt.legend()\n",
    "\n",
    "plt.xlabel('time [yr]')\n",
    "plt.ylabel('AMOC strength [Sv]')\n",
    "\n",
    "# plt.xlim(0,500)\n",
    "\n",
    "fig.tight_layout()"
   ]
  },
  {
   "cell_type": "code",
   "execution_count": null,
   "id": "bd59db26",
   "metadata": {},
   "outputs": [],
   "source": [
    "# fig.savefig('../../papers/PhD_Thesis/manuscript/Figures/REA-VerOS/control-v-sigma.pdf')\n",
    "fig.savefig('../../papers/PhD_Thesis/manuscript/Figures/REA-VerOS/control-v-sigma-Y1.pdf')"
   ]
  },
  {
   "cell_type": "code",
   "execution_count": null,
   "id": "10d6c277",
   "metadata": {},
   "outputs": [],
   "source": [
    "stds = {s: np.std(run['traj']['r1'][:,1]) for s,run in runs.items()}\n",
    "stds"
   ]
  },
  {
   "cell_type": "code",
   "execution_count": null,
   "id": "ec9d2c22-421b-454c-b051-c440c502dab6",
   "metadata": {},
   "outputs": [],
   "source": [
    "plt.close(7)\n",
    "fig,ax = plt.subplots(num=7, figsize=(9,6))\n",
    "\n",
    "plt.plot([int(s) for s in stds], stds.values(), marker='o')\n",
    "\n",
    "plt.xlabel(r'Noise rescaling factor ($\\sigma$)')\n",
    "plt.ylabel('AMOC std [Sv]')\n",
    "\n",
    "fig.tight_layout()"
   ]
  },
  {
   "cell_type": "code",
   "execution_count": null,
   "id": "e356019a-8b98-4d5f-82bf-eaa62973104f",
   "metadata": {},
   "outputs": [],
   "source": [
    "import statsmodels.tsa.stattools as sss"
   ]
  },
  {
   "cell_type": "code",
   "execution_count": null,
   "id": "40f0d8d4-b096-4a8e-9642-ed10e7716ea2",
   "metadata": {},
   "outputs": [],
   "source": [
    "lags = 100\n",
    "yres = 1\n",
    "acfs = {s: sss.acf(run['traj']['r1'][:,1], nlags=lags//yres-1) for s,run in runs.items()}"
   ]
  },
  {
   "cell_type": "code",
   "execution_count": null,
   "id": "04aa853e-24b9-49f1-a4a1-33cdc7500392",
   "metadata": {},
   "outputs": [],
   "source": [
    "plt.close(8)\n",
    "fig,ax = plt.subplots(num=8, figsize=(9,6))\n",
    "\n",
    "for s,acf in acfs.items():\n",
    "    plt.plot(np.arange(lags)[::yres], acf, label=fr'$\\sigma = {s}$')\n",
    "\n",
    "plt.axhline(0, linestyle='dashed', color='black')\n",
    "\n",
    "plt.xlabel('Lag [yr]')\n",
    "plt.ylabel('Autocorrelation')\n",
    "plt.legend()\n",
    "\n",
    "fig.tight_layout()"
   ]
  },
  {
   "cell_type": "code",
   "execution_count": null,
   "id": "2fddb0fd-87b4-4159-8e41-b7884cd2bfa6",
   "metadata": {},
   "outputs": [],
   "source": [
    "plt.figure()\n",
    "plt.plot(np.arange(lags)[::yres], sss.acf(runs['0']['traj']['r1'][:100,1], nlags=lags//yres-1))\n",
    "plt.plot(np.arange(lags)[::yres], sss.acf(runs['1']['traj']['r1'][:,1], nlags=lags//yres-1))"
   ]
  },
  {
   "cell_type": "markdown",
   "id": "d3f5e847-cd8e-421c-9ced-2e04e7509144",
   "metadata": {},
   "source": [
    "### Power spectra"
   ]
  },
  {
   "cell_type": "code",
   "execution_count": null,
   "id": "786d75d7",
   "metadata": {},
   "outputs": [],
   "source": [
    "data = runs['1']['traj']['r1'][:,1]\n",
    "data = data - np.mean(data)\n",
    "ps = np.abs(np.fft.fft(data))**2\n",
    "\n",
    "time_step = 1\n",
    "freqs = np.fft.fftfreq(data.size, time_step)\n",
    "\n",
    "ps = ps[1:len(ps)//2]\n",
    "freqs = freqs[1:len(freqs)//2]\n",
    "\n",
    "plt.close(10)\n",
    "fig, ax = plt.subplots(num=10, figsize=(9,6))\n",
    "\n",
    "plt.loglog(1/freqs, ps)\n",
    "\n",
    "fig.tight_layout()"
   ]
  },
  {
   "cell_type": "code",
   "execution_count": null,
   "id": "a3f6435f",
   "metadata": {},
   "outputs": [],
   "source": [
    "data = control[1][i:i+500]\n",
    "data = data - np.mean(data)\n",
    "c_ps = np.abs(np.fft.fft(data))**2\n",
    "\n",
    "time_step = 1\n",
    "c_freqs = np.fft.fftfreq(data.size, time_step)\n",
    "\n",
    "c_ps = c_ps[1:len(c_ps)//2]\n",
    "c_freqs = c_freqs[1:len(c_freqs)//2]\n",
    "\n",
    "plt.close(10)\n",
    "fig, ax = plt.subplots(num=10, figsize=(9,6))\n",
    "\n",
    "plt.loglog(1/c_freqs, c_ps)\n",
    "\n",
    "fig.tight_layout()"
   ]
  },
  {
   "cell_type": "code",
   "execution_count": null,
   "id": "ed1c9051",
   "metadata": {},
   "outputs": [],
   "source": [
    "plt.close(2)\n",
    "fig, ax = plt.subplots(num=2, figsize=(9,6))\n",
    "\n",
    "plt.loglog(1/c_freqs, c_ps, label=r'$\\sigma = 0$')\n",
    "plt.loglog(1/freqs, ps, label=r'$\\sigma = 1$')\n",
    "\n",
    "imx = np.argmax(c_ps)\n",
    "plt.scatter(1/c_freqs[imx], c_ps[imx])\n",
    "\n",
    "imx = np.argmax(ps)\n",
    "plt.scatter(1/freqs[imx], ps[imx])\n",
    "\n",
    "plt.legend()\n",
    "plt.grid()\n",
    "\n",
    "plt.xlabel('Period [yr]')\n",
    "plt.ylabel('Power [$\\mathrm{Sv}^2\\mathrm{yr}$]')\n",
    "\n",
    "fig.tight_layout()"
   ]
  },
  {
   "cell_type": "code",
   "execution_count": null,
   "id": "436ffb55",
   "metadata": {},
   "outputs": [],
   "source": [
    "fig.savefig('../../papers/PhD_Thesis/manuscript/Figures/REA-VerOS/power-spectrum-v-sigma.pdf')"
   ]
  },
  {
   "cell_type": "markdown",
   "id": "c8ae1cd3",
   "metadata": {},
   "source": []
  }
 ],
 "metadata": {
  "kernelspec": {
   "display_name": "mlk",
   "language": "python",
   "name": "mlk"
  },
  "language_info": {
   "codemirror_mode": {
    "name": "ipython",
    "version": 3
   },
   "file_extension": ".py",
   "mimetype": "text/x-python",
   "name": "python",
   "nbconvert_exporter": "python",
   "pygments_lexer": "ipython3",
   "version": "3.10.12"
  }
 },
 "nbformat": 4,
 "nbformat_minor": 5
}
