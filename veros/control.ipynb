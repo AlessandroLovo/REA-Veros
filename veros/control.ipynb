{
 "cells": [
  {
   "cell_type": "code",
   "execution_count": null,
   "id": "d380f144-76a5-4a83-96a9-7f3af6c0cee0",
   "metadata": {},
   "outputs": [],
   "source": [
    "import numpy as np\n",
    "import matplotlib\n",
    "import matplotlib.pyplot as plt\n",
    "%matplotlib widget\n",
    "matplotlib.rc('font', size=18)\n",
    "\n",
    "import statsmodels.tsa.stattools as sss\n",
    "from tqdm.notebook import tqdm\n",
    "\n",
    "import sys\n",
    "sys.path.append('../')\n",
    "from general_purpose import uplotlib as uplt"
   ]
  },
  {
   "cell_type": "code",
   "execution_count": null,
   "id": "d8b3370d",
   "metadata": {},
   "outputs": [],
   "source": [
    "ctrl = np.load('__test__/amoc_max_f8_2_yearly.npy')\n",
    "ctrl[0] -= ctrl[0,0] # set initial time to 0\n",
    "ctrl.shape"
   ]
  },
  {
   "cell_type": "code",
   "execution_count": null,
   "id": "421ee627",
   "metadata": {},
   "outputs": [],
   "source": [
    "ctrl5_0 = np.convolve(ctrl[0],np.ones(5)/5, mode='valid')[::5]\n",
    "ctrl5_1 = np.convolve(ctrl[1],np.ones(5)/5, mode='valid')[::5]\n",
    "\n",
    "ctrl5 = np.stack([ctrl5_0,ctrl5_1])\n",
    "ctrl5.shape"
   ]
  },
  {
   "cell_type": "code",
   "execution_count": null,
   "id": "01c4a9b0-19f5-4757-9aac-63aaaa7fdbae",
   "metadata": {},
   "outputs": [],
   "source": [
    "rr = []\n",
    "for i in range(50):\n",
    "    rr.append(np.load(f'__test__/rr_minimal/e{i+1:02d}-traj.npy'))\n",
    "rr = np.concatenate(rr).T\n",
    "rr[1] *= -1\n",
    "rr[0] -= rr[0,0]\n",
    "rr.shape"
   ]
  },
  {
   "cell_type": "markdown",
   "id": "8d039424",
   "metadata": {},
   "source": [
    "## Timeseries"
   ]
  },
  {
   "cell_type": "code",
   "execution_count": null,
   "id": "33b6bc8a",
   "metadata": {},
   "outputs": [],
   "source": [
    "plt.close(1)\n",
    "fig, ax = plt.subplots(num=1, figsize=(9,6))\n",
    "\n",
    "plt.plot(ctrl[0], ctrl[1], label='yearly')\n",
    "plt.plot(ctrl5[0], ctrl5[1], label='5-yr average')\n",
    "\n",
    "plt.plot(rr[0], rr[1], label='rr')\n",
    "\n",
    "plt.xlabel('time [yr]')\n",
    "plt.ylabel('AMOC strength [Sv]')\n",
    "\n",
    "plt.legend()\n",
    "\n",
    "fig.tight_layout()"
   ]
  },
  {
   "cell_type": "markdown",
   "id": "bcfaeeef",
   "metadata": {},
   "source": [
    "## Histogram"
   ]
  },
  {
   "cell_type": "code",
   "execution_count": null,
   "id": "1001d0bc",
   "metadata": {},
   "outputs": [],
   "source": [
    "bins = 100\n",
    "\n",
    "plt.close(2)\n",
    "fig, ax = plt.subplots(num=2, figsize=(9,6))\n",
    "\n",
    "plt.hist(ctrl[1], density=True, bins=bins, alpha=0.7, label='yearly')\n",
    "plt.hist(ctrl5[1], density=True, bins=bins, alpha=0.7, label='5-yr average')\n",
    "\n",
    "plt.xlabel('AMOC strength [Sv]')\n",
    "\n",
    "plt.legend()\n",
    "\n",
    "fig.tight_layout()"
   ]
  },
  {
   "cell_type": "code",
   "execution_count": null,
   "id": "15bd209f",
   "metadata": {},
   "outputs": [],
   "source": [
    "plt.close('all')"
   ]
  },
  {
   "cell_type": "code",
   "execution_count": null,
   "id": "6bf4fa21",
   "metadata": {},
   "outputs": [],
   "source": [
    "fit = False\n",
    "\n",
    "fig, axs, fit_params = uplt.side_hist_plot(ctrl[0]/1e3, ctrl[1], bins=50, fit=fit, xlabel='time [kyr]', ylabel='AMOC strength [Sv]', figsize=(9,6), label='yearly')\n",
    "fig, axs, fit_params5 = uplt.side_hist_plot(ctrl5[0]/1e3, ctrl5[1], bins=50, fit=fit, xlabel='time [kyr]', ylabel='AMOC strength [Sv]', external_axes=axs, label='5-yr average')\n",
    "\n",
    "fig.tight_layout()"
   ]
  },
  {
   "cell_type": "code",
   "execution_count": null,
   "id": "09f87b38",
   "metadata": {},
   "outputs": [],
   "source": [
    "fig.savefig('../../papers/PhD_Thesis/manuscript/Figures/REA-VerOS/control-ts-no-noise.pdf')"
   ]
  },
  {
   "cell_type": "code",
   "execution_count": null,
   "id": "c2110ee6",
   "metadata": {},
   "outputs": [],
   "source": [
    "uplt.avg(ctrl[1]), uplt.avg(ctrl5[1])"
   ]
  },
  {
   "cell_type": "markdown",
   "id": "ed88b1f9",
   "metadata": {},
   "source": [
    "## Autocorrelation"
   ]
  },
  {
   "cell_type": "code",
   "execution_count": null,
   "id": "31594999-2cb5-4e1f-a125-e8042d084864",
   "metadata": {},
   "outputs": [],
   "source": [
    "lags = 200\n",
    "acf = sss.acf(ctrl[1], nlags=lags-1)\n",
    "acf5 = sss.acf(ctrl5[1], nlags=lags//5-1)"
   ]
  },
  {
   "cell_type": "code",
   "execution_count": null,
   "id": "cc3c5921-fd45-4d33-a816-e4f515ed81fe",
   "metadata": {},
   "outputs": [],
   "source": [
    "plt.close(3)\n",
    "fig,ax = plt.subplots(num=3, figsize=(9,6))\n",
    "\n",
    "plt.plot(np.arange(lags), acf, label='yearly')\n",
    "plt.plot(np.arange(lags)[::5], acf5, label='5-yr average')\n",
    "\n",
    "plt.axhline(0, linestyle='dashed', color='black')\n",
    "\n",
    "plt.xlabel('Lag [yr]')\n",
    "plt.ylabel('Autocorrelation')\n",
    "plt.legend()\n",
    "\n",
    "fig.tight_layout()"
   ]
  },
  {
   "cell_type": "markdown",
   "id": "911ba2ef",
   "metadata": {},
   "source": [
    "#### Try to compute a more robust acf"
   ]
  },
  {
   "cell_type": "code",
   "execution_count": null,
   "id": "0e961b0c",
   "metadata": {},
   "outputs": [],
   "source": [
    "ctrl.shape, ctrl5.shape"
   ]
  },
  {
   "cell_type": "code",
   "execution_count": null,
   "id": "3cf009f6",
   "metadata": {},
   "outputs": [],
   "source": [
    "nfolds = 10\n",
    "lags = 200\n",
    "\n",
    "\n",
    "# split the data into nfolds and compute for each the acf\n",
    "b = ctrl[1].shape[0]//nfolds\n",
    "b5 = ctrl5[1].shape[0]//nfolds\n",
    "acfs = []\n",
    "acfs5 = []\n",
    "for i in tqdm(range(nfolds)):\n",
    "    acfs.append(sss.acf(ctrl[1][i*b:(i+1)*b], nlags=lags-1))\n",
    "    acfs5.append(sss.acf(ctrl5[1][i*b5:(i+1)*b5], nlags=lags//5-1))\n",
    "\n",
    "acfs = np.array(acfs)\n",
    "acfm = uplt.avg(acfs, axis=0)\n",
    "\n",
    "acfs5 = np.array(acfs5)\n",
    "acfm5 = uplt.avg(acfs5, axis=0)"
   ]
  },
  {
   "cell_type": "code",
   "execution_count": null,
   "id": "6ea655f4",
   "metadata": {},
   "outputs": [],
   "source": [
    "plt.close(3)\n",
    "fig,ax = plt.subplots(num=3, figsize=(9,6))\n",
    "\n",
    "uplt.errorband(np.arange(lags), acfm, label='yearly')\n",
    "uplt.errorband(np.arange(lags)[::5], acfm5, label='5-yr average')\n",
    "\n",
    "plt.axhline(0, linestyle='dashed', color='black')\n",
    "\n",
    "plt.xlabel('Lag [yr]')\n",
    "plt.ylabel('Autocorrelation')\n",
    "plt.legend()\n",
    "\n",
    "fig.tight_layout()"
   ]
  },
  {
   "cell_type": "code",
   "execution_count": null,
   "id": "d8d03ecf",
   "metadata": {},
   "outputs": [],
   "source": [
    "fig.savefig('../../papers/PhD_Thesis/manuscript/Figures/REA-VerOS/control-acf-no-noise.pdf')"
   ]
  },
  {
   "cell_type": "code",
   "execution_count": null,
   "id": "9b1064e3-ce01-4a53-9596-9449e8f8f60e",
   "metadata": {},
   "outputs": [],
   "source": [
    "lag = 50\n",
    "plt.close(4)\n",
    "fig,ax = plt.subplots(num=4, figsize=(9,6))\n",
    "\n",
    "diffs = ctrl5[1,lag//5:] - ctrl5[1,:-lag//5]\n",
    "\n",
    "plt.hist(diffs, bins=50)\n",
    "\n",
    "fig.tight_layout()"
   ]
  },
  {
   "cell_type": "code",
   "execution_count": null,
   "id": "6cec5baf-8a48-4790-aa90-22d104148e58",
   "metadata": {},
   "outputs": [],
   "source": [
    "np.std(diffs)"
   ]
  },
  {
   "cell_type": "markdown",
   "id": "dc667976",
   "metadata": {},
   "source": [
    "## Compute a plausible value of k"
   ]
  },
  {
   "cell_type": "code",
   "execution_count": null,
   "id": "11ddc59d",
   "metadata": {},
   "outputs": [],
   "source": [
    "lag = 1000\n",
    "\n",
    "diffs = ctrl5[1,lag//5:] - ctrl5[1,:-lag//5]\n",
    "\n",
    "plt.close(5)\n",
    "fig, ax = plt.subplots(num=5, figsize=(9,6))\n",
    "\n",
    "plt.hist(diffs, bins=50)\n",
    "\n",
    "fig.tight_layout()"
   ]
  },
  {
   "cell_type": "code",
   "execution_count": null,
   "id": "94a6a46d",
   "metadata": {},
   "outputs": [],
   "source": [
    "coeff = 1/np.std(diffs)\n",
    "coeff"
   ]
  },
  {
   "cell_type": "code",
   "execution_count": null,
   "id": "be116357",
   "metadata": {},
   "outputs": [],
   "source": [
    "# coefficient for choosing k based on the extremity of the level:\n",
    "# k = 1/std(V(t) - V(t-s)) * a\n",
    "\n",
    "lags = np.arange(10, 5000, 5)\n",
    "coeffs = []\n",
    "for lag in lags:\n",
    "    diffs = ctrl5[1,lag//5:] - ctrl5[1,:-lag//5]\n",
    "    coeffs.append(1/np.std(diffs))\n",
    "coeffs = np.array(coeffs)\n",
    "\n",
    "plt.close(6)\n",
    "fig, ax = plt.subplots(num=6, figsize=(9,6))\n",
    "\n",
    "plt.semilogx(lags, coeffs)\n",
    "\n",
    "plt.xlabel('$T$ [yr]')\n",
    "plt.ylabel(r'$1/\\sigma(v_T)$ $[\\mathrm{Sv}^{-1}]$')\n",
    "# plt.title(r'Suggested $k$ for pushing the system 1 standard deviation away from the mean')\n",
    "\n",
    "fig.tight_layout()"
   ]
  },
  {
   "cell_type": "code",
   "execution_count": null,
   "id": "3fd42c2e",
   "metadata": {},
   "outputs": [],
   "source": [
    "fig.savefig('../../papers/PhD_Thesis/manuscript/Figures/REA-VerOS/suggested-k-no-noise.pdf')"
   ]
  },
  {
   "cell_type": "markdown",
   "id": "2b7a4ffb",
   "metadata": {},
   "source": [
    "## Kill ratio vs k"
   ]
  },
  {
   "cell_type": "code",
   "execution_count": null,
   "id": "357277aa-38a7-4982-97b7-265f59aa35b0",
   "metadata": {},
   "outputs": [],
   "source": [
    "def softmax(x, axis=None):\n",
    "    x = np.exp(x)\n",
    "    return x/np.sum(x, axis=axis)\n",
    "\n",
    "def kill_ratio(ks=1, sigma=1, N=50, samples=500):\n",
    "    kill_ratios = []\n",
    "    for i in range(samples):\n",
    "        x = np.random.normal(0,sigma, size=N)\n",
    "        y = N*softmax(ks*x)\n",
    "        kill_ratios.append(np.sum(1 - y[y < 1])/N)\n",
    "    return uplt.avg(kill_ratios).item()"
   ]
  },
  {
   "cell_type": "code",
   "execution_count": null,
   "id": "42be1342-3099-4413-89ba-3cbcb9b57348",
   "metadata": {},
   "outputs": [],
   "source": [
    "sigma = 1\n",
    "ks = np.arange(0, 20, 0.2)\n",
    "N = 100\n",
    "samples = 500\n",
    "\n",
    "krs = []\n",
    "for k in tqdm(ks):\n",
    "    krs.append(kill_ratio(sigma*k, N=N, samples=samples))\n",
    "krs = np.array(krs)"
   ]
  },
  {
   "cell_type": "code",
   "execution_count": null,
   "id": "78b5f099-4ac9-4a4d-b4e2-62cb4519d2e9",
   "metadata": {},
   "outputs": [],
   "source": [
    "plt.close(7)\n",
    "fig,ax = plt.subplots(num=7, figsize=(9,6))\n",
    "uplt.errorband(ks*sigma, krs)\n",
    "\n",
    "plt.axhline(1 - 1/N, color='red', label=r'$1 - 1/N$')\n",
    "\n",
    "plt.xlabel(r'$k\\sigma$')\n",
    "plt.ylabel('kill ratio')\n",
    "\n",
    "plt.title(fr'${N = }$')\n",
    "plt.legend()\n",
    "\n",
    "fig.tight_layout()"
   ]
  },
  {
   "cell_type": "code",
   "execution_count": null,
   "id": "59404d65-5b4d-460a-a523-ce4ee1bb82a6",
   "metadata": {},
   "outputs": [],
   "source": [
    "kill_ratio(ks=1.8)"
   ]
  },
  {
   "cell_type": "code",
   "execution_count": null,
   "id": "551c8564-c75c-4fa8-b3b2-c4f35be42873",
   "metadata": {},
   "outputs": [],
   "source": [
    "1.8/np.std(diffs)"
   ]
  },
  {
   "cell_type": "code",
   "execution_count": null,
   "id": "dbe25cf3-de5f-41bd-8b46-78203d96de92",
   "metadata": {},
   "outputs": [],
   "source": [
    "kill_ratio(6.9*np.std(diffs))"
   ]
  },
  {
   "cell_type": "code",
   "execution_count": null,
   "id": "903d6173-b5b3-461b-9822-77e423d2e68b",
   "metadata": {},
   "outputs": [],
   "source": []
  }
 ],
 "metadata": {
  "kernelspec": {
   "display_name": "mlk",
   "language": "python",
   "name": "mlk"
  },
  "language_info": {
   "codemirror_mode": {
    "name": "ipython",
    "version": 3
   },
   "file_extension": ".py",
   "mimetype": "text/x-python",
   "name": "python",
   "nbconvert_exporter": "python",
   "pygments_lexer": "ipython3",
   "version": "3.10.12"
  }
 },
 "nbformat": 4,
 "nbformat_minor": 5
}
