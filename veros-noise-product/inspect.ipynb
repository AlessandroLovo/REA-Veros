{
 "cells": [
  {
   "cell_type": "code",
   "execution_count": null,
   "id": "279db753-fec4-4368-afc8-164b1bc092fa",
   "metadata": {},
   "outputs": [],
   "source": [
    "import numpy as np"
   ]
  },
  {
   "cell_type": "code",
   "execution_count": null,
   "id": "f5b4870b-d25d-440c-8118-6802db6712e5",
   "metadata": {},
   "outputs": [],
   "source": [
    "fol1 = 'ocean'\n",
    "fol2 = 'ocean-bis'"
   ]
  },
  {
   "cell_type": "code",
   "execution_count": null,
   "id": "f9574acc-c94d-4d75-a28d-2ea0afa6f918",
   "metadata": {},
   "outputs": [],
   "source": [
    "name = 'EOFs'\n",
    "# name = 'Lags'\n",
    "# name = 'landMask'\n",
    "# name = 'PCs'\n",
    "# name = 'yw_rho'\n",
    "# name = 'yw_sigma'"
   ]
  },
  {
   "cell_type": "code",
   "execution_count": null,
   "id": "fce5b464-48a7-45b1-b484-0ca191ad2243",
   "metadata": {},
   "outputs": [],
   "source": [
    "f1 = np.load(f'{fol1}/{name}.npy')\n",
    "f2 = np.load(f'{fol2}/{name}.npy')\n",
    "\n",
    "if name == 'PCs_new':\n",
    "    f1 = f1.T\n",
    "    f2 = f2.T"
   ]
  },
  {
   "cell_type": "code",
   "execution_count": null,
   "id": "ba8ada5d-4c04-4040-84e1-276c8d671a96",
   "metadata": {},
   "outputs": [],
   "source": [
    "f1.shape, f2.shape"
   ]
  },
  {
   "cell_type": "code",
   "execution_count": null,
   "id": "a31b16e5-ce2a-4973-ae0f-b795300178b1",
   "metadata": {},
   "outputs": [],
   "source": [
    "f3 = np.load(f'../veros-temp-noise/{name}.npy')\n",
    "\n",
    "if name == 'PCs_new':\n",
    "    f3 = f3.T\n",
    "f3.shape"
   ]
  },
  {
   "cell_type": "code",
   "execution_count": null,
   "id": "febec4da-a81b-4d18-8957-093e9ee52a7e",
   "metadata": {},
   "outputs": [],
   "source": [
    "np.allclose(f1[~np.isnan(f1)], f3[~np.isnan(f3)])"
   ]
  },
  {
   "cell_type": "code",
   "execution_count": null,
   "id": "c2d39c83-61be-44eb-9367-6f66be177128",
   "metadata": {},
   "outputs": [],
   "source": [
    "_f1 = f1[:135,...]\n",
    "print(_f1.shape, f2.shape)\n",
    "print((np.isnan(_f1) == np.isnan(f2)).all())\n",
    "np.allclose(_f1[~np.isnan(_f1)], f2[~np.isnan(f2)])"
   ]
  },
  {
   "cell_type": "code",
   "execution_count": null,
   "id": "b972f3a6-8ae5-4049-b78c-aa1599864a31",
   "metadata": {},
   "outputs": [],
   "source": [
    "f1"
   ]
  },
  {
   "cell_type": "code",
   "execution_count": null,
   "id": "131ccedc-a23c-43de-8a49-49c774cfbb15",
   "metadata": {},
   "outputs": [],
   "source": [
    "f3"
   ]
  },
  {
   "cell_type": "code",
   "execution_count": null,
   "id": "3bfbb044-7f9a-4dff-bbf3-206a487ae76e",
   "metadata": {},
   "outputs": [],
   "source": [
    "np.max(np.abs(_f1[~np.isnan(_f1)]/f2[~np.isnan(f2)] - 1))"
   ]
  },
  {
   "cell_type": "code",
   "execution_count": null,
   "id": "50e99838-11c9-49ab-bfe7-c089585c2c0b",
   "metadata": {},
   "outputs": [],
   "source": [
    "import matplotlib.pyplot as plt\n",
    "%matplotlib widget\n",
    "\n",
    "import sys\n",
    "sys.path.append('../')\n",
    "import general_purpose.cartopy_plots as cplt\n",
    "import xarray as xr"
   ]
  },
  {
   "cell_type": "code",
   "execution_count": null,
   "id": "4c73c77c-9483-45f4-a35f-d868b3aa8fd8",
   "metadata": {},
   "outputs": [],
   "source": [
    "av = xr.load_dataset('../veros-temp-noise-old/__test__/e1.0000.averages.nc')"
   ]
  },
  {
   "cell_type": "code",
   "execution_count": null,
   "id": "6dddf430-d715-4e0d-9fd8-546ea2669295",
   "metadata": {},
   "outputs": [],
   "source": [
    "LON, LAT = np.meshgrid(av['xt'] - 360, av['yt'])"
   ]
  },
  {
   "cell_type": "code",
   "execution_count": null,
   "id": "b45d38ad-ae38-4996-809d-127d5f9ccede",
   "metadata": {},
   "outputs": [],
   "source": [
    "e = 134\n",
    "\n",
    "plt.close(2)\n",
    "fig = plt.figure(num=2, figsize=(8,4))\n",
    "ax = fig.add_subplot(111, projection=cplt.ccrs.PlateCarree())\n",
    "\n",
    "cplt.geo_plotter(ax, LON, LAT,\n",
    "                 f2[e][::-1,:]/f1[e][::-1,:] - 1,\n",
    "                 greenwich=True,\n",
    "                 draw_gridlines=False, draw_labels=False,\n",
    "                 put_colorbar=True\n",
    "                )"
   ]
  },
  {
   "cell_type": "code",
   "execution_count": null,
   "id": "6a0b7eae-b5c4-4ff0-8517-b728f7029c4a",
   "metadata": {},
   "outputs": [],
   "source": []
  }
 ],
 "metadata": {
  "kernelspec": {
   "display_name": "py3.9",
   "language": "python",
   "name": "py3.9"
  },
  "language_info": {
   "codemirror_mode": {
    "name": "ipython",
    "version": 3
   },
   "file_extension": ".py",
   "mimetype": "text/x-python",
   "name": "python",
   "nbconvert_exporter": "python",
   "pygments_lexer": "ipython3",
   "version": "3.9.12"
  }
 },
 "nbformat": 4,
 "nbformat_minor": 5
}
