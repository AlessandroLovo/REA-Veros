{
 "cells": [
  {
   "cell_type": "code",
   "execution_count": null,
   "id": "3ceccad5-49bc-4c2b-9610-7f6a6248b355",
   "metadata": {},
   "outputs": [],
   "source": [
    "import numpy as np\n",
    "import matplotlib.pyplot as plt\n",
    "%matplotlib widget\n",
    "\n",
    "import pandas as pd\n",
    "import xarray as xr"
   ]
  },
  {
   "cell_type": "code",
   "execution_count": null,
   "id": "fde846ba-6067-4d7c-8db7-9fc404475b34",
   "metadata": {},
   "outputs": [],
   "source": [
    "ts = xr.open_dataset('HEAVY--Land_and_Ocean_LatLong1.nc')"
   ]
  },
  {
   "cell_type": "code",
   "execution_count": null,
   "id": "abc728b9-8b5b-4cf0-98a6-b86ecffa0089",
   "metadata": {},
   "outputs": [],
   "source": [
    "ts"
   ]
  },
  {
   "cell_type": "code",
   "execution_count": null,
   "id": "14999685-ec02-4701-be57-d871a50bf909",
   "metadata": {},
   "outputs": [],
   "source": []
  }
 ],
 "metadata": {
  "kernelspec": {
   "display_name": "py3.9",
   "language": "python",
   "name": "py3.9"
  },
  "language_info": {
   "codemirror_mode": {
    "name": "ipython",
    "version": 3
   },
   "file_extension": ".py",
   "mimetype": "text/x-python",
   "name": "python",
   "nbconvert_exporter": "python",
   "pygments_lexer": "ipython3",
   "version": "3.9.12"
  }
 },
 "nbformat": 4,
 "nbformat_minor": 5
}
