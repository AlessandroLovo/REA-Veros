{
 "cells": [
  {
   "cell_type": "code",
   "execution_count": null,
   "id": "3ceccad5-49bc-4c2b-9610-7f6a6248b355",
   "metadata": {},
   "outputs": [],
   "source": [
    "import numpy as np\n",
    "import matplotlib.pyplot as plt\n",
    "%matplotlib widget\n",
    "import matplotlib\n",
    "matplotlib.rc('font', size=18)\n",
    "\n",
    "import pandas as pd\n",
    "import xarray as xr\n",
    "from scipy.stats import linregress\n",
    "from tqdm.notebook import tqdm\n",
    "\n",
    "import sys\n",
    "sys.path.append('../')\n",
    "\n",
    "from general_purpose import cartopy_plots as cplt"
   ]
  },
  {
   "cell_type": "code",
   "execution_count": null,
   "id": "fde846ba-6067-4d7c-8db7-9fc404475b34",
   "metadata": {},
   "outputs": [],
   "source": [
    "ts = xr.open_dataset('HEAVY--Land_and_Ocean_LatLong1.nc')"
   ]
  },
  {
   "cell_type": "code",
   "execution_count": null,
   "id": "abc728b9-8b5b-4cf0-98a6-b86ecffa0089",
   "metadata": {},
   "outputs": [],
   "source": [
    "ts"
   ]
  },
  {
   "cell_type": "code",
   "execution_count": null,
   "id": "14999685-ec02-4701-be57-d871a50bf909",
   "metadata": {},
   "outputs": [],
   "source": [
    "LON,LAT = np.meshgrid(ts.longitude.data,ts.latitude.data)"
   ]
  },
  {
   "cell_type": "markdown",
   "id": "4c71b960-f647-42e2-a4a6-6f35d8615317",
   "metadata": {},
   "source": [
    "## Plot the land_mask"
   ]
  },
  {
   "cell_type": "code",
   "execution_count": null,
   "id": "3a61eed6-ae79-4504-80b2-5e2f8bc78a9f",
   "metadata": {},
   "outputs": [],
   "source": [
    "cplt.mfp(LON, LAT, ts.land_mask.data.reshape(*ts.land_mask.shape,1),\n",
    "         figsize=(12,6),\n",
    "         # draw_coastlines=False,\n",
    "         projections=cplt.ccrs.PlateCarree(),\n",
    "         colorbar='shared',\n",
    "         extents=None,\n",
    "         titles=['Annual mean temperature [C]'],\n",
    "        )"
   ]
  },
  {
   "cell_type": "code",
   "execution_count": null,
   "id": "97ebc7fe-a051-4898-87df-6dd981f2986e",
   "metadata": {},
   "outputs": [],
   "source": [
    "ocean_mask = ts.land_mask == 0\n",
    "atlantic_mask = ocean_mask.copy()\n",
    "\n",
    "# mask out everything below 35 deg south\n",
    "atlantic_mask[atlantic_mask.latitude < -35] = False\n",
    "atlantic_mask[atlantic_mask.latitude > 80] = False\n",
    "\n",
    "atlantic_mask[:,atlantic_mask.longitude > 25] = False\n",
    "atlantic_mask[:,atlantic_mask.longitude < -120] = False\n",
    "\n",
    "for i in range(atlantic_mask.shape[0]):\n",
    "    if atlantic_mask.latitude[i] > 20 or atlantic_mask.latitude[i] < -35:\n",
    "        continue\n",
    "    j = np.argmax(atlantic_mask.data[i])\n",
    "    while atlantic_mask.data[i,j]:\n",
    "        j += 1\n",
    "    atlantic_mask[i,:j] = False\n",
    "    \n",
    "atlantic_mask[:, atlantic_mask.longitude < -100] = False\n",
    "\n",
    "plt.close(2)\n",
    "fig = plt.figure(num=2, figsize=(12,9))\n",
    "ax = fig.add_subplot(111, projection=cplt.ccrs.PlateCarree())\n",
    "\n",
    "cplt.geo_plotter(ax, LON, LAT,\n",
    "                 atlantic_mask,\n",
    "                 greenwich=True,\n",
    "                 draw_gridlines=False, draw_labels=False,\n",
    "                 put_colorbar=True\n",
    "                )"
   ]
  },
  {
   "cell_type": "markdown",
   "id": "f5402229-766e-4c99-8c7c-f4ebe68ced18",
   "metadata": {},
   "source": [
    "## Plot the climatology"
   ]
  },
  {
   "cell_type": "code",
   "execution_count": null,
   "id": "a5fa90ef-4a7f-4261-969a-dc7fe93c81f7",
   "metadata": {},
   "outputs": [],
   "source": [
    "ts.climatology.shape"
   ]
  },
  {
   "cell_type": "code",
   "execution_count": null,
   "id": "7367939c-0a37-4418-a833-ac0d3eb0e74c",
   "metadata": {},
   "outputs": [],
   "source": [
    "months=['Jan','Feb','Mar','Apr','May','Jun','Jul','Aug','Sep','Oct','Nov','Dec']\n",
    "ofl = (4,3)\n",
    "ims = cplt.mfp(LON, LAT, ts.climatology.data.transpose(1,2,0),\n",
    "               figsize=(16,9),\n",
    "               one_fig_layout=ofl,\n",
    "               # draw_coastlines=False,\n",
    "               projections=cplt.ccrs.PlateCarree(),\n",
    "               colorbar='shared',\n",
    "               put_colorbar=False,\n",
    "               extents=None,\n",
    "               titles=months,\n",
    "              )\n",
    "\n",
    "plt.close(3)\n",
    "fig,ax = plt.subplots(num=3, figsize=(10,2))\n",
    "plt.colorbar(ims[0],cax=ax,orientation='horizontal', extend='both', label='T [C]')\n",
    "fig.tight_layout()"
   ]
  },
  {
   "cell_type": "markdown",
   "id": "ff611aec-2164-41f6-8c8d-34b479c6d99f",
   "metadata": {},
   "source": [
    "### Compute climatology anomaly"
   ]
  },
  {
   "cell_type": "code",
   "execution_count": null,
   "id": "1239c881-25c8-4490-a831-3b2b9f907b02",
   "metadata": {},
   "outputs": [],
   "source": [
    "mean = ts.climatology.mean('month_number')"
   ]
  },
  {
   "cell_type": "code",
   "execution_count": null,
   "id": "d5a9a845-f54d-4412-a24b-5f463b8d93bf",
   "metadata": {},
   "outputs": [],
   "source": [
    "cplt.mfp(LON, LAT, mean.data.reshape(*mean.shape,1),\n",
    "         figsize=(12,6),\n",
    "         # draw_coastlines=False,\n",
    "         projections=cplt.ccrs.PlateCarree(),\n",
    "         colorbar='shared',\n",
    "         extents=None,\n",
    "         titles=['Annual mean temperature [C]'],\n",
    "         draw_labels=True,\n",
    "         draw_gridlines=True\n",
    "        )"
   ]
  },
  {
   "cell_type": "code",
   "execution_count": null,
   "id": "a782a654-e4ef-4f64-891f-411cf60c5bf7",
   "metadata": {},
   "outputs": [],
   "source": [
    "ano_clim = ts.climatology - mean"
   ]
  },
  {
   "cell_type": "code",
   "execution_count": null,
   "id": "5aeb7e31-e7be-4ce8-97b8-2ad081ef06b9",
   "metadata": {},
   "outputs": [],
   "source": [
    "months=['Jan','Feb','Mar','Apr','May','Jun','Jul','Aug','Sep','Oct','Nov','Dec']\n",
    "ofl = (4,3)\n",
    "cplt.mfp(LON, LAT, ano_clim.data.transpose(1,2,0),\n",
    "         figsize=(16,9),\n",
    "         one_fig_layout=ofl,\n",
    "         # draw_coastlines=False,\n",
    "         projections=cplt.ccrs.PlateCarree(),\n",
    "         colorbar='shared',\n",
    "         extents=None,\n",
    "         titles=months,\n",
    "        )"
   ]
  },
  {
   "cell_type": "markdown",
   "id": "c848094b-783d-4ff6-9737-364053c19291",
   "metadata": {},
   "source": [
    "## Plot a few snapshots"
   ]
  },
  {
   "cell_type": "code",
   "execution_count": null,
   "id": "1e71a7cd-fe35-4c19-ab23-8a919fec0971",
   "metadata": {},
   "outputs": [],
   "source": [
    "ts.temperature.shape"
   ]
  },
  {
   "cell_type": "code",
   "execution_count": null,
   "id": "d4694f7d-7275-4f5c-9a3e-3af953cd87e3",
   "metadata": {},
   "outputs": [],
   "source": [
    "i = 12*100\n",
    "ofl = (4,3)\n",
    "ims = cplt.mfp(LON, LAT, ts.temperature.data[i:i+np.prod(ofl)].transpose(1,2,0),\n",
    "               figsize=(16,9),\n",
    "               one_fig_layout=ofl,\n",
    "               # draw_coastlines=False,\n",
    "               projections=cplt.ccrs.PlateCarree(),\n",
    "               colorbar='shared',\n",
    "               put_colorbar=False,\n",
    "               extents=None,\n",
    "               titles=months,\n",
    "              )\n",
    "\n",
    "plt.close(3)\n",
    "fig,ax = plt.subplots(num=3, figsize=(10,2))\n",
    "plt.colorbar(ims[0],cax=ax,orientation='horizontal', extend='both', label='T [C]')\n",
    "fig.tight_layout()"
   ]
  },
  {
   "cell_type": "code",
   "execution_count": null,
   "id": "25b5b026-e745-4c00-9d5d-d8b13455d061",
   "metadata": {},
   "outputs": [],
   "source": [
    "plt.close(19)\n",
    "plt.figure(figsize=(9,6), num=19)\n",
    "ts.temperature.isel(latitude=125, longitude=200).plot()\n",
    "plt.plot(ts.time.data, ts.temperature.isel(longitude=200, latitude=125).data - ano_clim_periodic[:,125,200])\n",
    "fig.tight_layout()"
   ]
  },
  {
   "cell_type": "code",
   "execution_count": null,
   "id": "df4fe544-11a9-437b-9a73-f5dbde9af292",
   "metadata": {},
   "outputs": [],
   "source": [
    "pn = ts.temperature.isnull().mean(['longitude','latitude'])"
   ]
  },
  {
   "cell_type": "code",
   "execution_count": null,
   "id": "87bdbeb3-36f5-4a6c-ba0d-a4443d0daa93",
   "metadata": {},
   "outputs": [],
   "source": [
    "pno = ts.temperature.where(ocean_mask).isnull().mean(['longitude','latitude']) - (1 - np.mean(ocean_mask))"
   ]
  },
  {
   "cell_type": "code",
   "execution_count": null,
   "id": "b1d2d1e6-b8f5-4c33-8f47-df528985bd23",
   "metadata": {},
   "outputs": [],
   "source": [
    "pna = ts.temperature.where(atlantic_mask).isnull().mean(['longitude','latitude']) - (1 - np.mean(atlantic_mask))"
   ]
  },
  {
   "cell_type": "code",
   "execution_count": null,
   "id": "a25ca3b7-a249-488f-9e6d-a9c7e91c7fbe",
   "metadata": {},
   "outputs": [],
   "source": [
    "plt.close(4)\n",
    "fig,ax = plt.subplots(figsize=(9,6), num=4)\n",
    "pn.plot(label='all')\n",
    "pno.plot(label='ocean only')\n",
    "pna.plot(label='altantic only')\n",
    "plt.ylabel('Fraction of missing points')\n",
    "plt.xlabel('Year')\n",
    "plt.legend()"
   ]
  },
  {
   "cell_type": "markdown",
   "id": "03cefedc-17d1-4802-8b24-bfa84b53af65",
   "metadata": {},
   "source": [
    "### Plot a few time series"
   ]
  },
  {
   "cell_type": "code",
   "execution_count": null,
   "id": "edba7986-2256-4097-a597-3eae4b03da90",
   "metadata": {},
   "outputs": [],
   "source": [
    "lon = 30\n",
    "lat = 35\n",
    "ilon = np.argmin((ts.longitude.data - lon)**2)\n",
    "ilat = np.argmin((ts.latitude.data - lat)**2)\n",
    "lon = ts.longitude.data[ilon]\n",
    "lat = ts.latitude.data[ilat]\n",
    "\n",
    "plt.close(9)\n",
    "fig,ax = plt.subplots(num=9, figsize=(9,6))\n",
    "ts.temperature.isel(longitude=ilon, latitude=ilat).plot()\n",
    "\n",
    "plt.axhline(0, linestyle='dashed', color='black')\n",
    "\n",
    "fig.tight_layout()"
   ]
  },
  {
   "cell_type": "markdown",
   "id": "223c47b6-e950-42ca-9081-5ed0903bff16",
   "metadata": {},
   "source": [
    "## Global mean temperature dataset"
   ]
  },
  {
   "cell_type": "markdown",
   "id": "d37a51f4-87ce-48e6-8cf7-7e9070244773",
   "metadata": {},
   "source": [
    "### Make the file readable by pandas"
   ]
  },
  {
   "cell_type": "code",
   "execution_count": null,
   "id": "48b514b6-fa6f-413e-9413-233000a547db",
   "metadata": {},
   "outputs": [],
   "source": [
    "with open('HEAVY--global_temp-sea_ice_from_air.txt', 'r') as orig:\n",
    "    with open('HEAVY--global_temp-sea_ice_from_air.csv', 'w') as dest:\n",
    "        for line in orig.readlines():\n",
    "            if line.startswith('%'):\n",
    "                line = f'#{line[1:]}'\n",
    "            else:\n",
    "                line = ','.join(filter(lambda x: x != '', line.split(' ')))\n",
    "            dest.write(line)"
   ]
  },
  {
   "cell_type": "markdown",
   "id": "1e5c5ac4-a9ec-41e3-a286-e59d3892e04b",
   "metadata": {},
   "source": [
    "### Load the data"
   ]
  },
  {
   "cell_type": "code",
   "execution_count": null,
   "id": "145f041c-e266-42ca-bd2f-062885853c9c",
   "metadata": {},
   "outputs": [],
   "source": [
    "df = pd.read_csv('HEAVY--global_temp-sea_ice_from_air.csv', sep=',', comment='#')\n",
    "df['time'] = df['year'] + (df['month'] - 0.5)/12"
   ]
  },
  {
   "cell_type": "code",
   "execution_count": null,
   "id": "53edaab3-0da1-4ba3-b8b8-a00430e96141",
   "metadata": {},
   "outputs": [],
   "source": [
    "df"
   ]
  },
  {
   "cell_type": "code",
   "execution_count": null,
   "id": "242ef908-9fc5-46aa-b700-14a117fcf736",
   "metadata": {},
   "outputs": [],
   "source": [
    "plt.close(9)\n",
    "fig,ax = plt.subplots(num=9, figsize=(9,6))\n",
    "plt.plot(df['time'], df['a-m'])\n",
    "\n",
    "plt.xlabel('time [yr]')\n",
    "plt.ylabel('Global mean temperature anomaly [C]')\n",
    "\n",
    "plt.axhline(0, linestyle='dashed', color='black')\n",
    "\n",
    "fig.tight_layout()"
   ]
  },
  {
   "cell_type": "code",
   "execution_count": null,
   "id": "26c2cbfb-1bee-4cc4-9abf-f65f5127930b",
   "metadata": {},
   "outputs": [],
   "source": [
    "lon = 65\n",
    "lat = 35\n",
    "ilon = np.argmin((ts.longitude.data - lon)**2)\n",
    "ilat = np.argmin((ts.latitude.data - lat)**2)\n",
    "lon = ts.longitude.data[ilon]\n",
    "lat = ts.latitude.data[ilat]\n",
    "\n",
    "plt.close(10)\n",
    "fig,ax = plt.subplots(num=10, figsize=(9,6))\n",
    "plt.scatter(df['a-m'], ts.temperature.isel(longitude=ilon, latitude=ilat).data, alpha=0.5)\n",
    "\n",
    "fig.tight_layout()"
   ]
  },
  {
   "cell_type": "markdown",
   "id": "8ba4ea87-16f5-4599-9e52-87e5687d012a",
   "metadata": {},
   "source": [
    "## Detrend the data"
   ]
  },
  {
   "cell_type": "code",
   "execution_count": null,
   "id": "308b9184-6fc4-4f98-be8c-2b4823ea98af",
   "metadata": {},
   "outputs": [],
   "source": [
    "def regress(t):\n",
    "    mask = np.isnan(t.data)\n",
    "    res = linregress(df['a-m'][~mask], t[~mask])\n",
    "    return res.slope, res.intercept"
   ]
  },
  {
   "cell_type": "code",
   "execution_count": null,
   "id": "130d0a06-22b5-4c45-9cec-444460670e6c",
   "metadata": {},
   "outputs": [],
   "source": [
    "res = xr.apply_ufunc(regress, ts.temperature, input_core_dims=[['time']], output_core_dims=[[],[]], vectorize=True)"
   ]
  },
  {
   "cell_type": "code",
   "execution_count": null,
   "id": "ee880daa-f646-4b08-92d5-71a21ce93794",
   "metadata": {},
   "outputs": [],
   "source": [
    "reg = xr.Dataset({'slope': res[0], 'intercept': res[1]})\n",
    "reg"
   ]
  },
  {
   "cell_type": "code",
   "execution_count": null,
   "id": "32046cc4-c525-4b2c-9bcc-ed1b7f2c470f",
   "metadata": {},
   "outputs": [],
   "source": [
    "reg.to_netcdf('HEAVY--regression-tALL.nc')"
   ]
  },
  {
   "cell_type": "code",
   "execution_count": null,
   "id": "3a6c4cf6-2433-44ac-b147-8fe2d9a0e365",
   "metadata": {},
   "outputs": [],
   "source": [
    "cplt.mfp(LON, LAT, np.stack([reg['slope'].data,reg['intercept'].data], axis=-1),\n",
    "         figsize=(12,12),\n",
    "         one_fig_layout=(2,1),\n",
    "         # draw_coastlines=False,\n",
    "         projections=cplt.ccrs.PlateCarree(),\n",
    "         colorbar='individual',\n",
    "         extents=None,\n",
    "         titles=['Slope', 'Intercept [C]'],\n",
    "         draw_labels=True,\n",
    "         draw_gridlines=True\n",
    "        )"
   ]
  },
  {
   "cell_type": "code",
   "execution_count": null,
   "id": "4047f346-56f2-41ba-bdf6-278020b6243a",
   "metadata": {},
   "outputs": [],
   "source": []
  }
 ],
 "metadata": {
  "kernelspec": {
   "display_name": "mlk",
   "language": "python",
   "name": "mlk"
  },
  "language_info": {
   "codemirror_mode": {
    "name": "ipython",
    "version": 3
   },
   "file_extension": ".py",
   "mimetype": "text/x-python",
   "name": "python",
   "nbconvert_exporter": "python",
   "pygments_lexer": "ipython3",
   "version": "3.9.16"
  }
 },
 "nbformat": 4,
 "nbformat_minor": 5
}
