{
 "cells": [
  {
   "cell_type": "code",
   "execution_count": null,
   "id": "3ceccad5-49bc-4c2b-9610-7f6a6248b355",
   "metadata": {},
   "outputs": [],
   "source": [
    "import numpy as np\n",
    "import matplotlib.pyplot as plt\n",
    "%matplotlib widget\n",
    "import matplotlib\n",
    "matplotlib.rc('font', size=18)\n",
    "\n",
    "import pandas as pd\n",
    "import xarray as xr\n",
    "from scipy.stats import linregress\n",
    "from tqdm.notebook import tqdm\n",
    "\n",
    "import sys\n",
    "sys.path.append('../')\n",
    "\n",
    "from general_purpose import cartopy_plots as cplt"
   ]
  },
  {
   "cell_type": "code",
   "execution_count": null,
   "id": "fde846ba-6067-4d7c-8db7-9fc404475b34",
   "metadata": {},
   "outputs": [],
   "source": [
    "ts = xr.open_dataset('HEAVY--Land_and_Ocean_LatLong1.nc')\n",
    "ts"
   ]
  },
  {
   "cell_type": "code",
   "execution_count": null,
   "id": "14999685-ec02-4701-be57-d871a50bf909",
   "metadata": {},
   "outputs": [],
   "source": [
    "LON,LAT = np.meshgrid(ts.longitude.data,ts.latitude.data)"
   ]
  },
  {
   "cell_type": "markdown",
   "id": "4c71b960-f647-42e2-a4a6-6f35d8615317",
   "metadata": {},
   "source": [
    "## Plot the land_mask"
   ]
  },
  {
   "cell_type": "code",
   "execution_count": null,
   "id": "3a61eed6-ae79-4504-80b2-5e2f8bc78a9f",
   "metadata": {},
   "outputs": [],
   "source": [
    "cplt.mfp(LON, LAT, ts.land_mask.data.reshape(*ts.land_mask.shape,1),\n",
    "         figsize=(12,6),\n",
    "         # draw_coastlines=False,\n",
    "         projections=cplt.ccrs.PlateCarree(),\n",
    "         colorbar='shared',\n",
    "         extents=None,\n",
    "         titles=['Annual mean temperature [C]'],\n",
    "        )"
   ]
  },
  {
   "cell_type": "code",
   "execution_count": null,
   "id": "97ebc7fe-a051-4898-87df-6dd981f2986e",
   "metadata": {},
   "outputs": [],
   "source": [
    "ocean_mask = ts.land_mask == 0\n",
    "atlantic_mask = ocean_mask.copy()\n",
    "\n",
    "# mask out everything below 35 deg south\n",
    "atlantic_mask[atlantic_mask.latitude < -35] = False\n",
    "atlantic_mask[atlantic_mask.latitude > 80] = False\n",
    "\n",
    "atlantic_mask[:,atlantic_mask.longitude > 25] = False\n",
    "atlantic_mask[:,atlantic_mask.longitude < -120] = False\n",
    "\n",
    "for i in range(atlantic_mask.shape[0]):\n",
    "    if atlantic_mask.latitude[i] > 20 or atlantic_mask.latitude[i] < -35:\n",
    "        continue\n",
    "    j = np.argmax(atlantic_mask.data[i])\n",
    "    while atlantic_mask.data[i,j]:\n",
    "        j += 1\n",
    "    atlantic_mask[i,:j] = False\n",
    "    \n",
    "atlantic_mask[:, atlantic_mask.longitude < -100] = False\n",
    "\n",
    "plt.close(2)\n",
    "fig = plt.figure(num=2, figsize=(12,9))\n",
    "ax = fig.add_subplot(111, projection=cplt.ccrs.PlateCarree())\n",
    "\n",
    "cplt.geo_plotter(ax, LON, LAT,\n",
    "                 atlantic_mask,\n",
    "                 greenwich=True,\n",
    "                 draw_gridlines=False, draw_labels=False,\n",
    "                 put_colorbar=True\n",
    "                )"
   ]
  },
  {
   "cell_type": "markdown",
   "id": "f5402229-766e-4c99-8c7c-f4ebe68ced18",
   "metadata": {},
   "source": [
    "## Plot the climatology"
   ]
  },
  {
   "cell_type": "code",
   "execution_count": null,
   "id": "a5fa90ef-4a7f-4261-969a-dc7fe93c81f7",
   "metadata": {},
   "outputs": [],
   "source": [
    "ts.climatology.shape"
   ]
  },
  {
   "cell_type": "code",
   "execution_count": null,
   "id": "7367939c-0a37-4418-a833-ac0d3eb0e74c",
   "metadata": {},
   "outputs": [],
   "source": [
    "months=['Jan','Feb','Mar','Apr','May','Jun','Jul','Aug','Sep','Oct','Nov','Dec']\n",
    "ofl = (4,3)\n",
    "ims = cplt.mfp(LON, LAT, ts.climatology.data.transpose(1,2,0),\n",
    "               figsize=(16,9),\n",
    "               one_fig_layout=ofl,\n",
    "               # draw_coastlines=False,\n",
    "               projections=cplt.ccrs.PlateCarree(),\n",
    "               colorbar='shared',\n",
    "               put_colorbar=False,\n",
    "               extents=None,\n",
    "               titles=months,\n",
    "              )\n",
    "\n",
    "plt.close(3)\n",
    "fig,ax = plt.subplots(num=3, figsize=(10,2))\n",
    "plt.colorbar(ims[0],cax=ax,orientation='horizontal', extend='both', label='T [C]')\n",
    "fig.tight_layout()"
   ]
  },
  {
   "cell_type": "markdown",
   "id": "ff611aec-2164-41f6-8c8d-34b479c6d99f",
   "metadata": {},
   "source": [
    "### Compute climatology anomaly"
   ]
  },
  {
   "cell_type": "code",
   "execution_count": null,
   "id": "1239c881-25c8-4490-a831-3b2b9f907b02",
   "metadata": {},
   "outputs": [],
   "source": [
    "mean = ts.climatology.mean('month_number')"
   ]
  },
  {
   "cell_type": "code",
   "execution_count": null,
   "id": "d5a9a845-f54d-4412-a24b-5f463b8d93bf",
   "metadata": {},
   "outputs": [],
   "source": [
    "cplt.mfp(LON, LAT, mean.data.reshape(*mean.shape,1),\n",
    "         figsize=(12,6),\n",
    "         # draw_coastlines=False,\n",
    "         projections=cplt.ccrs.PlateCarree(),\n",
    "         colorbar='shared',\n",
    "         extents=None,\n",
    "         titles=['Annual mean temperature [C]'],\n",
    "         draw_labels=True,\n",
    "         draw_gridlines=True\n",
    "        )"
   ]
  },
  {
   "cell_type": "code",
   "execution_count": null,
   "id": "a782a654-e4ef-4f64-891f-411cf60c5bf7",
   "metadata": {},
   "outputs": [],
   "source": [
    "ano_clim = ts.climatology - mean"
   ]
  },
  {
   "cell_type": "code",
   "execution_count": null,
   "id": "5aeb7e31-e7be-4ce8-97b8-2ad081ef06b9",
   "metadata": {},
   "outputs": [],
   "source": [
    "months=['Jan','Feb','Mar','Apr','May','Jun','Jul','Aug','Sep','Oct','Nov','Dec']\n",
    "ofl = (4,3)\n",
    "cplt.mfp(LON, LAT, ano_clim.data.transpose(1,2,0),\n",
    "         figsize=(16,9),\n",
    "         one_fig_layout=ofl,\n",
    "         # draw_coastlines=False,\n",
    "         projections=cplt.ccrs.PlateCarree(),\n",
    "         colorbar='shared',\n",
    "         extents=None,\n",
    "         titles=months,\n",
    "        )"
   ]
  },
  {
   "cell_type": "markdown",
   "id": "c848094b-783d-4ff6-9737-364053c19291",
   "metadata": {},
   "source": [
    "## Plot a few snapshots"
   ]
  },
  {
   "cell_type": "code",
   "execution_count": null,
   "id": "1e71a7cd-fe35-4c19-ab23-8a919fec0971",
   "metadata": {},
   "outputs": [],
   "source": [
    "ts.temperature.shape"
   ]
  },
  {
   "cell_type": "code",
   "execution_count": null,
   "id": "d4694f7d-7275-4f5c-9a3e-3af953cd87e3",
   "metadata": {},
   "outputs": [],
   "source": [
    "i = 12*100\n",
    "ofl = (4,3)\n",
    "ims = cplt.mfp(LON, LAT, ts.temperature.data[i:i+np.prod(ofl)].transpose(1,2,0),\n",
    "               figsize=(16,9),\n",
    "               one_fig_layout=ofl,\n",
    "               # draw_coastlines=False,\n",
    "               projections=cplt.ccrs.PlateCarree(),\n",
    "               colorbar='shared',\n",
    "               put_colorbar=False,\n",
    "               extents=None,\n",
    "               titles=months,\n",
    "              )\n",
    "\n",
    "plt.close(3)\n",
    "fig,ax = plt.subplots(num=3, figsize=(10,2))\n",
    "plt.colorbar(ims[0],cax=ax,orientation='horizontal', extend='both', label='T [C]')\n",
    "fig.tight_layout()"
   ]
  },
  {
   "cell_type": "code",
   "execution_count": null,
   "id": "25b5b026-e745-4c00-9d5d-d8b13455d061",
   "metadata": {},
   "outputs": [],
   "source": [
    "plt.close(19)\n",
    "plt.figure(figsize=(9,6), num=19)\n",
    "ts.temperature.isel(latitude=125, longitude=200).plot()\n",
    "plt.plot(ts.time.data, ts.temperature.isel(longitude=200, latitude=125).data - ano_clim_periodic[:,125,200])\n",
    "fig.tight_layout()"
   ]
  },
  {
   "cell_type": "code",
   "execution_count": null,
   "id": "df4fe544-11a9-437b-9a73-f5dbde9af292",
   "metadata": {},
   "outputs": [],
   "source": [
    "pn = ts.temperature.isnull().mean(['longitude','latitude'])"
   ]
  },
  {
   "cell_type": "code",
   "execution_count": null,
   "id": "87bdbeb3-36f5-4a6c-ba0d-a4443d0daa93",
   "metadata": {},
   "outputs": [],
   "source": [
    "pno = ts.temperature.where(ocean_mask).isnull().mean(['longitude','latitude']) - (1 - np.mean(ocean_mask))"
   ]
  },
  {
   "cell_type": "code",
   "execution_count": null,
   "id": "b1d2d1e6-b8f5-4c33-8f47-df528985bd23",
   "metadata": {},
   "outputs": [],
   "source": [
    "pna = ts.temperature.where(atlantic_mask).isnull().mean(['longitude','latitude']) - (1 - np.mean(atlantic_mask))"
   ]
  },
  {
   "cell_type": "code",
   "execution_count": null,
   "id": "a25ca3b7-a249-488f-9e6d-a9c7e91c7fbe",
   "metadata": {},
   "outputs": [],
   "source": [
    "plt.close(4)\n",
    "fig,ax = plt.subplots(figsize=(9,6), num=4)\n",
    "pn.plot(label='all')\n",
    "pno.plot(label='ocean only')\n",
    "pna.plot(label='altantic only')\n",
    "plt.ylabel('Fraction of missing points')\n",
    "plt.xlabel('Year')\n",
    "plt.legend()"
   ]
  },
  {
   "cell_type": "markdown",
   "id": "80302c68-0a7e-4a3a-9489-ac3f3e2f6454",
   "metadata": {},
   "source": [
    "## Remove the data before 1870"
   ]
  },
  {
   "cell_type": "code",
   "execution_count": null,
   "id": "4719034b-e6dc-44ce-bd78-052dbf95ac85",
   "metadata": {},
   "outputs": [],
   "source": [
    "first_year = 1870\n",
    "ts = ts.sel(time=slice(1870,None))\n",
    "ts"
   ]
  },
  {
   "cell_type": "markdown",
   "id": "03cefedc-17d1-4802-8b24-bfa84b53af65",
   "metadata": {},
   "source": [
    "### Plot a few time series"
   ]
  },
  {
   "cell_type": "code",
   "execution_count": null,
   "id": "edba7986-2256-4097-a597-3eae4b03da90",
   "metadata": {},
   "outputs": [],
   "source": [
    "lon = 30\n",
    "lat = 75\n",
    "ilon = np.argmin((ts.longitude.data - lon)**2)\n",
    "ilat = np.argmin((ts.latitude.data - lat)**2)\n",
    "lon = ts.longitude.data[ilon]\n",
    "lat = ts.latitude.data[ilat]\n",
    "\n",
    "plt.close(9)\n",
    "fig,ax = plt.subplots(num=9, figsize=(9,6))\n",
    "ts.temperature.isel(longitude=ilon, latitude=ilat).plot()\n",
    "\n",
    "plt.axhline(0, linestyle='dashed', color='black')\n",
    "\n",
    "fig.tight_layout()"
   ]
  },
  {
   "cell_type": "markdown",
   "id": "223c47b6-e950-42ca-9081-5ed0903bff16",
   "metadata": {},
   "source": [
    "## Global mean temperature dataset"
   ]
  },
  {
   "cell_type": "markdown",
   "id": "d37a51f4-87ce-48e6-8cf7-7e9070244773",
   "metadata": {},
   "source": [
    "### Make the file readable by pandas"
   ]
  },
  {
   "cell_type": "code",
   "execution_count": null,
   "id": "48b514b6-fa6f-413e-9413-233000a547db",
   "metadata": {},
   "outputs": [],
   "source": [
    "with open('HEAVY--global_temp-sea_ice_from_air.txt', 'r') as orig:\n",
    "    with open('HEAVY--global_temp-sea_ice_from_air.csv', 'w') as dest:\n",
    "        for line in orig.readlines():\n",
    "            if line.startswith('%'):\n",
    "                line = f'#{line[1:]}'\n",
    "            else:\n",
    "                line = ','.join(filter(lambda x: x != '', line.split(' ')))\n",
    "            dest.write(line)"
   ]
  },
  {
   "cell_type": "markdown",
   "id": "1e5c5ac4-a9ec-41e3-a286-e59d3892e04b",
   "metadata": {},
   "source": [
    "### Load the data"
   ]
  },
  {
   "cell_type": "code",
   "execution_count": null,
   "id": "145f041c-e266-42ca-bd2f-062885853c9c",
   "metadata": {},
   "outputs": [],
   "source": [
    "df = pd.read_csv('HEAVY--global_temp-sea_ice_from_air.csv', sep=',', comment='#')\n",
    "df['time'] = df['year'] + (df['month'] - 0.5)/12\n",
    "\n",
    "df = df.loc[df['time'] >= first_year]\n",
    "assert len(df) == ts.time.shape[0]\n",
    "df"
   ]
  },
  {
   "cell_type": "code",
   "execution_count": null,
   "id": "e86cc7cc-8aa0-4cef-abca-d9bab34bc171",
   "metadata": {},
   "outputs": [],
   "source": [
    "global_mean = xr.DataArray(df['a-m'], coords=[ts.time], name='global_mean')\n",
    "global_mean"
   ]
  },
  {
   "cell_type": "code",
   "execution_count": null,
   "id": "242ef908-9fc5-46aa-b700-14a117fcf736",
   "metadata": {},
   "outputs": [],
   "source": [
    "plt.close(9)\n",
    "fig,ax = plt.subplots(num=9, figsize=(9,6))\n",
    "global_mean.plot()\n",
    "\n",
    "# plt.xlabel('time [yr]')\n",
    "# plt.ylabel('Global mean temperature anomaly [C]')\n",
    "\n",
    "plt.axhline(0, linestyle='dashed', color='black')\n",
    "\n",
    "fig.tight_layout()"
   ]
  },
  {
   "cell_type": "code",
   "execution_count": null,
   "id": "26c2cbfb-1bee-4cc4-9abf-f65f5127930b",
   "metadata": {},
   "outputs": [],
   "source": [
    "lon = 0\n",
    "lat = 78\n",
    "ilon = np.argmin((ts.longitude.data - lon)**2)\n",
    "ilat = np.argmin((ts.latitude.data - lat)**2)\n",
    "lon = ts.longitude.data[ilon]\n",
    "lat = ts.latitude.data[ilat]\n",
    "\n",
    "plt.close(10)\n",
    "fig,ax = plt.subplots(num=10, figsize=(9,6))\n",
    "plt.scatter(df['a-m'], ts.temperature.isel(longitude=ilon, latitude=ilat).data, alpha=0.5)\n",
    "# plt.scatter(df['a-m'], final_temperature.isel(longitude=ilon, latitude=ilat).data, alpha=0.5)\n",
    "\n",
    "plt.axhline(0, color='black', linestyle='dashed')\n",
    "\n",
    "fig.tight_layout()"
   ]
  },
  {
   "cell_type": "markdown",
   "id": "8ba4ea87-16f5-4599-9e52-87e5687d012a",
   "metadata": {},
   "source": [
    "## Detrend the data"
   ]
  },
  {
   "cell_type": "markdown",
   "id": "02bad5cf-c64c-4522-b8aa-4f135f290213",
   "metadata": {},
   "source": [
    "### Compute trends"
   ]
  },
  {
   "cell_type": "code",
   "execution_count": null,
   "id": "308b9184-6fc4-4f98-be8c-2b4823ea98af",
   "metadata": {},
   "outputs": [],
   "source": [
    "def regress(t):\n",
    "    mask = np.isnan(t.data)\n",
    "    x = global_mean[~mask]\n",
    "    y = t[~mask]\n",
    "    assert x.shape == y.shape\n",
    "    res = linregress(x, y)\n",
    "    return res.slope, res.intercept"
   ]
  },
  {
   "cell_type": "code",
   "execution_count": null,
   "id": "130d0a06-22b5-4c45-9cec-444460670e6c",
   "metadata": {},
   "outputs": [],
   "source": [
    "res = xr.apply_ufunc(regress, ts.temperature, input_core_dims=[['time']], output_core_dims=[[],[]], vectorize=True)"
   ]
  },
  {
   "cell_type": "code",
   "execution_count": null,
   "id": "ee880daa-f646-4b08-92d5-71a21ce93794",
   "metadata": {},
   "outputs": [],
   "source": [
    "reg = xr.Dataset({'slope': res[0], 'intercept': res[1]})\n",
    "reg"
   ]
  },
  {
   "cell_type": "code",
   "execution_count": null,
   "id": "32046cc4-c525-4b2c-9bcc-ed1b7f2c470f",
   "metadata": {},
   "outputs": [],
   "source": [
    "reg.to_netcdf(f'HEAVY--regression-{first_year}-.nc')"
   ]
  },
  {
   "cell_type": "code",
   "execution_count": null,
   "id": "76824388-45cc-4b69-aa84-37db87d348c4",
   "metadata": {},
   "outputs": [],
   "source": [
    "reg = xr.open_dataset(f'HEAVY--regression-{first_year}-.nc')"
   ]
  },
  {
   "cell_type": "code",
   "execution_count": null,
   "id": "3a6c4cf6-2433-44ac-b147-8fe2d9a0e365",
   "metadata": {},
   "outputs": [],
   "source": [
    "cplt.mfp(LON, LAT, np.stack([reg['slope'].data,reg['intercept'].data], axis=-1),\n",
    "         figsize=(12,12),\n",
    "         one_fig_layout=(2,1),\n",
    "         # draw_coastlines=False,\n",
    "         projections=cplt.ccrs.PlateCarree(),\n",
    "         colorbar='individual',\n",
    "         extents=None,\n",
    "         titles=['Slope', 'Intercept [C]'],\n",
    "         draw_labels=True,\n",
    "         draw_gridlines=True\n",
    "        )"
   ]
  },
  {
   "cell_type": "code",
   "execution_count": null,
   "id": "1d8724bf-a425-4603-b971-9980bb7d909f",
   "metadata": {},
   "outputs": [],
   "source": [
    "lon = 0\n",
    "lat = 78\n",
    "ilon = np.argmin((ts.longitude.data - lon)**2)\n",
    "ilat = np.argmin((ts.latitude.data - lat)**2)\n",
    "lon = ts.longitude.data[ilon]\n",
    "lat = ts.latitude.data[ilat]\n",
    "\n",
    "plt.close(10)\n",
    "fig,ax = plt.subplots(num=10, figsize=(9,6))\n",
    "plt.scatter(global_mean.data, ts.temperature.isel(longitude=ilon, latitude=ilat).data, alpha=0.5)\n",
    "ax.set_xlim(*ax.get_xlim())\n",
    "x = np.array(ax.get_xlim())\n",
    "plt.plot(x, reg.intercept.isel(longitude=ilon, latitude=ilat).data + reg.slope.isel(longitude=ilon, latitude=ilat).data*x, color='orange')\n",
    "# plt.scatter(df['a-m'], detrended_temperature.isel(longitude=ilon, latitude=ilat).data, alpha=0.5)\n",
    "# plt.scatter(df['a-m'], final_temperature.isel(longitude=ilon, latitude=ilat).data, alpha=0.5)\n",
    "\n",
    "plt.axhline(0, color='black', linestyle='dashed')\n",
    "plt.axvline(0, color='black', linestyle='dashed')\n",
    "\n",
    "plt.xlabel('global mean temperature anomaly [C]')\n",
    "plt.ylabel(f'Temperature anomaly [C]' )\n",
    "plt.title(f'{lon = }, {lat = }')\n",
    "\n",
    "fig.tight_layout()"
   ]
  },
  {
   "cell_type": "markdown",
   "id": "85d39e10-95bb-416c-b87a-67c0689bb6f6",
   "metadata": {},
   "source": [
    "### Remove trend"
   ]
  },
  {
   "cell_type": "code",
   "execution_count": null,
   "id": "ca1bf049-3177-407f-8c21-b9866d177686",
   "metadata": {},
   "outputs": [],
   "source": [
    "detrended_temperature = ts.temperature - reg.intercept - reg.slope*global_mean\n",
    "detrended_temperature"
   ]
  },
  {
   "cell_type": "markdown",
   "id": "9b689aaf-0374-4d9c-a1a2-5d56089b0ce5",
   "metadata": {},
   "source": [
    "### Is there a residual seasonal cycle?"
   ]
  },
  {
   "cell_type": "code",
   "execution_count": null,
   "id": "eb4dea0b-36ba-4d67-87a5-1d2905db3256",
   "metadata": {},
   "outputs": [],
   "source": [
    "seasonal = ts.climatology.data.copy()\n",
    "for i in range(12):\n",
    "    seasonal[i] = np.nanmean(detrended_temperature[i::12], axis=0)\n",
    "    # seasonal[i] = np.nanmean(final_temperature[i::12], axis=0)\n",
    "seasonal = xr.DataArray(seasonal, coords=ts.climatology.coords)\n",
    "seasonal"
   ]
  },
  {
   "cell_type": "code",
   "execution_count": null,
   "id": "b148644e-72cf-4b7d-a823-2acdc3a0d440",
   "metadata": {},
   "outputs": [],
   "source": [
    "months=['Jan','Feb','Mar','Apr','May','Jun','Jul','Aug','Sep','Oct','Nov','Dec']\n",
    "ofl = (4,3)\n",
    "ims = cplt.mfp(LON, LAT, seasonal.data.transpose(1,2,0),\n",
    "               figsize=(16,9),\n",
    "               one_fig_layout=ofl,\n",
    "               # draw_coastlines=False,\n",
    "               projections=cplt.ccrs.PlateCarree(),\n",
    "               colorbar='shared',\n",
    "               put_colorbar=False,\n",
    "               extents=None,\n",
    "               titles=months,\n",
    "              )\n",
    "\n",
    "plt.close(3)\n",
    "fig,ax = plt.subplots(num=3, figsize=(10,2))\n",
    "plt.colorbar(ims[0],cax=ax,orientation='horizontal', extend='both', label='T [C]')\n",
    "fig.tight_layout()"
   ]
  },
  {
   "cell_type": "code",
   "execution_count": null,
   "id": "74a4cdc4-6aca-44e2-9299-61854fcec9e9",
   "metadata": {},
   "outputs": [],
   "source": [
    "seasonal_mean = seasonal.mean('month_number')"
   ]
  },
  {
   "cell_type": "code",
   "execution_count": null,
   "id": "dcb29439-5daf-43ee-8057-227b5d568b2e",
   "metadata": {},
   "outputs": [],
   "source": [
    "cplt.mfp(LON, LAT, seasonal_mean.data.reshape(*seasonal_mean.shape,1),\n",
    "         figsize=(12,6),\n",
    "         # draw_coastlines=False,\n",
    "         projections=cplt.ccrs.PlateCarree(),\n",
    "         colorbar='shared',\n",
    "         extents=None,\n",
    "         titles=['Annual mean temperature [C]'],\n",
    "         draw_labels=True,\n",
    "         draw_gridlines=True\n",
    "        )"
   ]
  },
  {
   "cell_type": "code",
   "execution_count": null,
   "id": "35e690d7-5500-42a5-a4b6-ca8a736bbb6e",
   "metadata": {},
   "outputs": [],
   "source": [
    "ofl = (4,3)\n",
    "ims = cplt.mfp(LON, LAT, (seasonal - seasonal_mean).data.transpose(1,2,0),\n",
    "               figsize=(16,9),\n",
    "               one_fig_layout=ofl,\n",
    "               # draw_coastlines=False,\n",
    "               projections=cplt.ccrs.PlateCarree(),\n",
    "               colorbar='shared',\n",
    "               put_colorbar=False,\n",
    "               extents=None,\n",
    "               titles=months,\n",
    "              )\n",
    "\n",
    "plt.close(3)\n",
    "fig,ax = plt.subplots(num=3, figsize=(10,2))\n",
    "plt.colorbar(ims[0],cax=ax,orientation='horizontal', extend='both', label='T [C]')\n",
    "fig.tight_layout()"
   ]
  },
  {
   "cell_type": "markdown",
   "id": "b370aaa0-62bf-4d28-ae82-f4819aee6d14",
   "metadata": {},
   "source": [
    "### Remove the residual seasonal cycle"
   ]
  },
  {
   "cell_type": "code",
   "execution_count": null,
   "id": "0a32ea4a-9511-4c04-a3d3-94950d403fd6",
   "metadata": {},
   "outputs": [],
   "source": [
    "final_temperature = detrended_temperature.data.copy()\n",
    "for i in range(12):\n",
    "    final_temperature[i::12] -= seasonal.data[i]\n",
    "    \n",
    "final_temperature = xr.DataArray(final_temperature, coords=detrended_temperature.coords)\n",
    "final_temperature"
   ]
  },
  {
   "cell_type": "markdown",
   "id": "5ccd8a56-0bcd-493a-bf66-79c3c4a419a8",
   "metadata": {},
   "source": [
    "## Try rolling mean instead"
   ]
  },
  {
   "cell_type": "code",
   "execution_count": null,
   "id": "438ac74b-677e-4ecb-b8dd-60786fa232cf",
   "metadata": {},
   "outputs": [],
   "source": [
    "annual_smoothed = detrended_temperature.rolling(time=12, center=False).mean()\n",
    "annual_smoothed"
   ]
  },
  {
   "cell_type": "markdown",
   "id": "6d1d0320-364c-4439-ab64-04e4e320b849",
   "metadata": {},
   "source": [
    "## Try differencing"
   ]
  },
  {
   "cell_type": "code",
   "execution_count": null,
   "id": "c9b999e3-391f-4bd5-b811-d9fb0bc9cccc",
   "metadata": {},
   "outputs": [],
   "source": [
    "differenced = detrended_temperature - detrended_temperature.shift(time=12)"
   ]
  },
  {
   "cell_type": "markdown",
   "id": "848fe575-4e34-4120-894a-813a45473d0e",
   "metadata": {},
   "source": [
    "## Try differencing with long term preservation"
   ]
  },
  {
   "cell_type": "code",
   "execution_count": null,
   "id": "70af29e2-ad59-4837-821d-03281f02a2bf",
   "metadata": {},
   "outputs": [],
   "source": [
    "resid = detrended_temperature - annual_smoothed\n",
    "resid = resid - resid.shift(time=12)\n",
    "resid = resid + annual_smoothed"
   ]
  },
  {
   "cell_type": "code",
   "execution_count": null,
   "id": "3851eedc-8ecd-4705-91e7-27510938933e",
   "metadata": {},
   "outputs": [],
   "source": [
    "lon = -6\n",
    "lat = 75\n",
    "ilon = np.argmin((ts.longitude.data - lon)**2)\n",
    "ilat = np.argmin((ts.latitude.data - lat)**2)\n",
    "lon = ts.longitude.data[ilon]\n",
    "lat = ts.latitude.data[ilat]\n",
    "\n",
    "plt.close(9)\n",
    "fig,ax = plt.subplots(num=9, figsize=(9,6))\n",
    "ts.temperature.isel(longitude=ilon, latitude=ilat).plot(label='original')\n",
    "detrended_temperature.isel(longitude=ilon, latitude=ilat).plot(label='detrended')\n",
    "final_temperature.isel(longitude=ilon, latitude=ilat).plot(label='removing climatology')\n",
    "# annual_smoothed.isel(longitude=ilon, latitude=ilat).plot(label='annual smoothing')\n",
    "# differenced.isel(longitude=ilon, latitude=ilat).plot(label='differenced')\n",
    "# resid.isel(longitude=ilon, latitude=ilat).plot(label='weird')\n",
    "\n",
    "plt.axhline(0, linestyle='dashed', color='black')\n",
    "\n",
    "plt.legend()\n",
    "\n",
    "fig.tight_layout()"
   ]
  },
  {
   "cell_type": "code",
   "execution_count": null,
   "id": "42e9f01c-b92f-4379-8ea8-5f2def45471c",
   "metadata": {},
   "outputs": [],
   "source": [
    "plt.close(9)\n",
    "fig,ax = plt.subplots(num=9, figsize=(9,6))\n",
    "# detrended_temperature.isel(longitude=ilon, latitude=ilat).plot(label='original')\n",
    "# final_temperature.isel(longitude=ilon, latitude=ilat).plot(label='removing climatology')\n",
    "# annual_smoothed.isel(longitude=ilon, latitude=ilat).plot(label='annual smoothing')\n",
    "(resid.isel(longitude=ilon, latitude=ilat) - differenced.isel(longitude=ilon, latitude=ilat)).plot()\n",
    "\n",
    "\n",
    "plt.axhline(0, linestyle='dashed', color='black')\n",
    "\n",
    "\n",
    "fig.tight_layout()"
   ]
  },
  {
   "cell_type": "markdown",
   "id": "a9738781-5a50-4854-8e50-5a6a0eb29355",
   "metadata": {},
   "source": [
    "# Save the final product"
   ]
  },
  {
   "cell_type": "code",
   "execution_count": null,
   "id": "94776835-f40e-404f-9c56-a0d3025819d3",
   "metadata": {},
   "outputs": [],
   "source": [
    "final_temperature.to_netcdf(f'HEAVY--detrended_temperature_{first_year}-_no_seasonal.nc')"
   ]
  },
  {
   "cell_type": "code",
   "execution_count": null,
   "id": "4e7aed67-1727-4d98-af06-11a410f0b21f",
   "metadata": {},
   "outputs": [],
   "source": []
  }
 ],
 "metadata": {
  "kernelspec": {
   "display_name": "mlk",
   "language": "python",
   "name": "mlk"
  },
  "language_info": {
   "codemirror_mode": {
    "name": "ipython",
    "version": 3
   },
   "file_extension": ".py",
   "mimetype": "text/x-python",
   "name": "python",
   "nbconvert_exporter": "python",
   "pygments_lexer": "ipython3",
   "version": "3.9.16"
  }
 },
 "nbformat": 4,
 "nbformat_minor": 5
}
