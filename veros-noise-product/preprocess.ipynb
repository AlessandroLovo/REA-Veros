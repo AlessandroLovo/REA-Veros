{
 "cells": [
  {
   "cell_type": "code",
   "execution_count": null,
   "id": "3ceccad5-49bc-4c2b-9610-7f6a6248b355",
   "metadata": {},
   "outputs": [],
   "source": [
    "import numpy as np\n",
    "import matplotlib.pyplot as plt\n",
    "%matplotlib widget\n",
    "\n",
    "import pandas as pd\n",
    "import xarray as xr\n",
    "\n",
    "import sys\n",
    "sys.path.append('../')\n",
    "\n",
    "from general_purpose import cartopy_plots as cplt"
   ]
  },
  {
   "cell_type": "code",
   "execution_count": null,
   "id": "fde846ba-6067-4d7c-8db7-9fc404475b34",
   "metadata": {},
   "outputs": [],
   "source": [
    "ts = xr.open_dataset('HEAVY--Land_and_Ocean_LatLong1.nc')"
   ]
  },
  {
   "cell_type": "code",
   "execution_count": null,
   "id": "abc728b9-8b5b-4cf0-98a6-b86ecffa0089",
   "metadata": {},
   "outputs": [],
   "source": [
    "ts"
   ]
  },
  {
   "cell_type": "code",
   "execution_count": null,
   "id": "14999685-ec02-4701-be57-d871a50bf909",
   "metadata": {},
   "outputs": [],
   "source": [
    "LON,LAT = np.meshgrid(ts.longitude.data,ts.latitude.data)"
   ]
  },
  {
   "cell_type": "markdown",
   "id": "4c71b960-f647-42e2-a4a6-6f35d8615317",
   "metadata": {},
   "source": [
    "## Plot the land_mask"
   ]
  },
  {
   "cell_type": "code",
   "execution_count": null,
   "id": "3a61eed6-ae79-4504-80b2-5e2f8bc78a9f",
   "metadata": {},
   "outputs": [],
   "source": [
    "cplt.mfp(LON, LAT, ts.land_mask.data.reshape(*mean.shape,1),\n",
    "         figsize=(12,6),\n",
    "         # draw_coastlines=False,\n",
    "         projections=cplt.ccrs.PlateCarree(),\n",
    "         colorbar='shared',\n",
    "         extents=None,\n",
    "         titles=['Annual mean temperature [C]'],\n",
    "        )"
   ]
  },
  {
   "cell_type": "markdown",
   "id": "f5402229-766e-4c99-8c7c-f4ebe68ced18",
   "metadata": {},
   "source": [
    "## Plot the climatology"
   ]
  },
  {
   "cell_type": "code",
   "execution_count": null,
   "id": "a5fa90ef-4a7f-4261-969a-dc7fe93c81f7",
   "metadata": {},
   "outputs": [],
   "source": [
    "ts.climatology.shape"
   ]
  },
  {
   "cell_type": "code",
   "execution_count": null,
   "id": "7367939c-0a37-4418-a833-ac0d3eb0e74c",
   "metadata": {},
   "outputs": [],
   "source": [
    "months=['Jan','Feb','Mar','Apr','May','Jun','Jul','Aug','Sep','Oct','Nov','Dec']\n",
    "ofl = (4,3)\n",
    "cplt.mfp(LON, LAT, ts.climatology.data.transpose(1,2,0),\n",
    "         figsize=(16,9),\n",
    "         one_fig_layout=ofl,\n",
    "         # draw_coastlines=False,\n",
    "         projections=cplt.ccrs.PlateCarree(),\n",
    "         colorbar='shared',\n",
    "         extents=None,\n",
    "         titles=months,\n",
    "        )"
   ]
  },
  {
   "cell_type": "markdown",
   "id": "ff611aec-2164-41f6-8c8d-34b479c6d99f",
   "metadata": {},
   "source": [
    "### Compute climatology anomaly"
   ]
  },
  {
   "cell_type": "code",
   "execution_count": null,
   "id": "1239c881-25c8-4490-a831-3b2b9f907b02",
   "metadata": {},
   "outputs": [],
   "source": [
    "mean = ts.climatology.mean('month_number')"
   ]
  },
  {
   "cell_type": "code",
   "execution_count": null,
   "id": "d5a9a845-f54d-4412-a24b-5f463b8d93bf",
   "metadata": {},
   "outputs": [],
   "source": [
    "cplt.mfp(LON, LAT, mean.data.reshape(*mean.shape,1),\n",
    "         figsize=(12,6),\n",
    "         # draw_coastlines=False,\n",
    "         projections=cplt.ccrs.PlateCarree(),\n",
    "         colorbar='shared',\n",
    "         extents=None,\n",
    "         titles=['Annual mean temperature [C]'],\n",
    "         draw_labels=True,\n",
    "         draw_gridlines=True\n",
    "        )"
   ]
  },
  {
   "cell_type": "code",
   "execution_count": null,
   "id": "a782a654-e4ef-4f64-891f-411cf60c5bf7",
   "metadata": {},
   "outputs": [],
   "source": [
    "ano_clim = ts.climatology - mean"
   ]
  },
  {
   "cell_type": "code",
   "execution_count": null,
   "id": "5aeb7e31-e7be-4ce8-97b8-2ad081ef06b9",
   "metadata": {},
   "outputs": [],
   "source": [
    "months=['Jan','Feb','Mar','Apr','May','Jun','Jul','Aug','Sep','Oct','Nov','Dec']\n",
    "ofl = (4,3)\n",
    "cplt.mfp(LON, LAT, ano_clim.data.transpose(1,2,0),\n",
    "         figsize=(16,9),\n",
    "         one_fig_layout=ofl,\n",
    "         # draw_coastlines=False,\n",
    "         projections=cplt.ccrs.PlateCarree(),\n",
    "         colorbar='shared',\n",
    "         extents=None,\n",
    "         titles=months,\n",
    "        )"
   ]
  },
  {
   "cell_type": "code",
   "execution_count": null,
   "id": "dfc8b1db-088e-44f6-a49a-df65ee6105a5",
   "metadata": {},
   "outputs": [],
   "source": [
    "ano_clim_periodic = np.zeros_like(ts.temperature.data)\n",
    "\n",
    "for i in range(12):\n",
    "    ano_clim_periodic[i::12] = ano_clim.data[i]"
   ]
  },
  {
   "cell_type": "markdown",
   "id": "c848094b-783d-4ff6-9737-364053c19291",
   "metadata": {},
   "source": [
    "## Plot a few snapshots"
   ]
  },
  {
   "cell_type": "code",
   "execution_count": null,
   "id": "1e71a7cd-fe35-4c19-ab23-8a919fec0971",
   "metadata": {},
   "outputs": [],
   "source": [
    "ts.temperature.shape"
   ]
  },
  {
   "cell_type": "code",
   "execution_count": null,
   "id": "d4694f7d-7275-4f5c-9a3e-3af953cd87e3",
   "metadata": {},
   "outputs": [],
   "source": [
    "i = 12*100\n",
    "ofl = (4,3)\n",
    "cplt.mfp(LON, LAT, ts.temperature.data[i:i+np.prod(ofl)].transpose(1,2,0),\n",
    "         figsize=(16,9),\n",
    "         one_fig_layout=ofl,\n",
    "         # draw_coastlines=False,\n",
    "         projections=cplt.ccrs.PlateCarree(),\n",
    "         colorbar='shared',\n",
    "         extents=None,\n",
    "         titles=None,\n",
    "        )"
   ]
  },
  {
   "cell_type": "code",
   "execution_count": null,
   "id": "25b5b026-e745-4c00-9d5d-d8b13455d061",
   "metadata": {},
   "outputs": [],
   "source": [
    "plt.close(19)\n",
    "plt.figure(figsize=(9,6), num=19)\n",
    "ts.temperature.isel(latitude=125, longitude=200).plot()\n",
    "plt.plot(ts.time.data, ts.temperature.isel(longitude=200, latitude=125).data - ano_clim_periodic[:,125,200])\n",
    "fig.tight_layout()"
   ]
  },
  {
   "cell_type": "code",
   "execution_count": null,
   "id": "df4fe544-11a9-437b-9a73-f5dbde9af292",
   "metadata": {},
   "outputs": [],
   "source": []
  }
 ],
 "metadata": {
  "kernelspec": {
   "display_name": "py3.9",
   "language": "python",
   "name": "py3.9"
  },
  "language_info": {
   "codemirror_mode": {
    "name": "ipython",
    "version": 3
   },
   "file_extension": ".py",
   "mimetype": "text/x-python",
   "name": "python",
   "nbconvert_exporter": "python",
   "pygments_lexer": "ipython3",
   "version": "3.9.12"
  }
 },
 "nbformat": 4,
 "nbformat_minor": 5
}
