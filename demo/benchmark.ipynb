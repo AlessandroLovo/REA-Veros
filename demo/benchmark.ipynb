{
 "cells": [
  {
   "cell_type": "code",
   "execution_count": null,
   "id": "33a46ac0-2d32-4575-969d-63385e2d48fa",
   "metadata": {},
   "outputs": [],
   "source": [
    "import numpy as np\n",
    "import matplotlib\n",
    "import matplotlib.pyplot as plt\n",
    "%matplotlib widget\n",
    "matplotlib.rc('font', size=18)\n",
    "import uncertainties as unc\n",
    "import scipy.special as ss\n",
    "\n",
    "from tqdm.notebook import tqdm\n",
    "\n",
    "import sys\n",
    "sys.path.append('../')\n",
    "import general_purpose.utilities as ut\n",
    "import general_purpose.uplotlib as uplt\n",
    "\n",
    "from importlib import reload\n",
    "\n",
    "import rea.reconstruct as rec"
   ]
  },
  {
   "cell_type": "code",
   "execution_count": null,
   "id": "4ced20f6-1a54-4884-9467-bcd6d03f5878",
   "metadata": {},
   "outputs": [],
   "source": [
    "def get_run(folder):\n",
    "    run = {'rec_dict': ut.json2dict(f'{folder}/reconstructed.json')}\n",
    "    \n",
    "    run['observables'] = {}\n",
    "    for rname, r in run['rec_dict']['members'].items():\n",
    "        last_segment_traj = np.load(f\"{folder}/{run['rec_dict']['folders'][-1]}/{r['ancestry'][-1]}-traj.npy\")\n",
    "        run['observables'][rname] = last_segment_traj[-1,1]\n",
    "        \n",
    "    return run\n",
    "\n",
    "def expectation(run, func, **kwargs):\n",
    "    _f = np.array([func(x, **kwargs) for x in run['observables'].values()])\n",
    "    _w = np.array([r['weight'] for r in run['rec_dict']['members'].values()])\n",
    "    # _w = np.exp(-np.array([r['cum_log_escore'] for r in rec_dict['members'].values()]))\n",
    "    # _n = np.exp(rec_dict['cum_log_norm_factor'])\n",
    "\n",
    "    mean = np.mean(_f*_w)\n",
    "    std = np.sqrt(np.mean((_f*_w)**2)/len(_w))\n",
    "\n",
    "    return unc.ufloat(mean,std)"
   ]
  },
  {
   "cell_type": "code",
   "execution_count": null,
   "id": "1ce3715b-e74f-4d7e-b83d-eda6aee08aef",
   "metadata": {},
   "outputs": [],
   "source": [
    "def f(x, a):\n",
    "    return float(x>a)\n",
    "\n",
    "lam = 1\n",
    "sig = 1\n",
    "def ou_var(t):\n",
    "    return sig**2/(2*lam)*(1 - np.exp(-2*lam*t))\n",
    "\n",
    "cum_gaus = lambda x: 0.5*(1 + ss.erf(x/np.sqrt(2)))\n",
    "\n",
    "overcoming_prob = lambda x,v: cum_gaus(-x/np.sqrt(v))\n",
    "\n",
    "v = ou_var(2)"
   ]
  },
  {
   "cell_type": "code",
   "execution_count": null,
   "id": "a00c5d88-ced5-4e72-9ad3-0fc06f4fb59c",
   "metadata": {},
   "outputs": [],
   "source": [
    "c_runs = [get_run(f'./__test__/c{i}--k__0--nens__999--T__10/') for i in range(6)]\n",
    "# c_runs = [get_run(f'./__test__/c{i}--k__0--nens__100--T__10/') for i in range(6)]\n",
    "# runs = [get_run(f'./__test__/f{i}--k__4--nens__999--T__10') for i in range(6)]\n",
    "runs = [get_run(f'./__test__/f{i}--k__2--nens__999--T__10') for i in range(8)]\n",
    "# runs = [get_run(f'./__test__/f{i}--k__4--nens__100--T__10') for i in range(14)]"
   ]
  },
  {
   "cell_type": "code",
   "execution_count": null,
   "id": "0f055c97-67dc-494b-8b6e-c5ca63cb1ff9",
   "metadata": {},
   "outputs": [],
   "source": [
    "a = np.linspace(0,4,101)\n",
    "\n",
    "es = [np.array([expectation(run, f, a=_a) for _a in a]) for run in runs]\n",
    "c_es = [np.array([expectation(run, f, a=_a) for _a in a]) for run in c_runs]\n",
    "e_th = overcoming_prob(a,v)"
   ]
  },
  {
   "cell_type": "code",
   "execution_count": null,
   "id": "11eda9a3-6389-4f18-9382-79f70e916c7e",
   "metadata": {},
   "outputs": [],
   "source": [
    "n_es = np.vstack([uplt.nominal_value(e) for e in es])\n",
    "c_n_es = np.vstack([uplt.nominal_value(e) for e in c_es])\n",
    "\n",
    "s_es = np.vstack([uplt.std_dev(e) for e in es])\n",
    "c_s_es = np.vstack([uplt.std_dev(e) for e in c_es])\n",
    "\n",
    "m_es = uplt.avg(n_es, axis=0)\n",
    "c_m_es = uplt.avg(c_n_es, axis=0)\n",
    "\n",
    "relative_error = np.sqrt(np.mean((n_es/uplt.nominal_value(m_es) - 1)**2, axis=0))\n",
    "c_relative_error = np.sqrt(np.mean((c_n_es/uplt.nominal_value(c_m_es) - 1)**2, axis=0))\n",
    "\n",
    "est_rel_err = uplt.avg(s_es/n_es, axis=0)\n",
    "c_est_rel_err = uplt.avg(c_s_es/c_n_es, axis=0)\n",
    "\n",
    "ms_bias = np.sqrt(np.mean((n_es/e_th - 1)**2, axis=0))\n",
    "c_ms_bias = np.sqrt(np.mean((c_n_es/e_th - 1)**2, axis=0))"
   ]
  },
  {
   "cell_type": "code",
   "execution_count": null,
   "id": "3c180faa-3141-4c3c-ba28-6bb3b2c67e24",
   "metadata": {},
   "outputs": [],
   "source": [
    "plt.close(2)\n",
    "fig,ax = plt.subplots(num=2, figsize=(9,6))\n",
    "\n",
    "plt.semilogy(a, e_th, color='black', label='theoretical', linestyle='dashed')\n",
    "uplt.errorband(a, m_es, color='red', label='estimated')\n",
    "uplt.errorband(a, c_m_es, alpha=0.5, color='blue', label=r'control: $k=0$')\n",
    "\n",
    "# for e in es:\n",
    "#     uplt.plot(a,e, alpha=0.5)\n",
    "# plt.plot(a,uplt.std_dev(e)/uplt.nominal_value(e))\n",
    "\n",
    "plt.xlabel(r'$a$')\n",
    "plt.ylabel(r'$\\mathbb{P}\\left[ x(t) > a|x(0) = 0 \\right]$')\n",
    "\n",
    "plt.title(r'$N = 1000,\\, k=2$')\n",
    "\n",
    "plt.legend()\n",
    "\n",
    "fig.tight_layout()"
   ]
  },
  {
   "cell_type": "code",
   "execution_count": null,
   "id": "d9ad405a-6bef-4c6c-9277-8d5f7ea58507",
   "metadata": {},
   "outputs": [],
   "source": [
    "plt.close(3)\n",
    "fig,ax = plt.subplots(num=3, figsize=(9,6))\n",
    "\n",
    "plt.plot(a, relative_error, color='red', label='$k=2$') # error between different realization of the algorithm\n",
    "plt.plot(a, ms_bias, color='red', linestyle='dashed') # mean square bias\n",
    "\n",
    "plt.plot(a, c_relative_error, color='blue', label='$k=0$') # error between different realization of the algorithm\n",
    "plt.plot(a, c_ms_bias, color='blue', linestyle='dashed') # mean square bias\n",
    "\n",
    "# for e in es:\n",
    "#     plt.plot(a, uplt.std_dev(e)/uplt.nominal_value(e)) # error estimated by each realization\n",
    "\n",
    "plt.legend()\n",
    "plt.xlabel('$a$')\n",
    "plt.ylabel('relative error')\n",
    "fig.tight_layout()"
   ]
  },
  {
   "cell_type": "code",
   "execution_count": null,
   "id": "19d4d125-b2ce-4456-b376-9f52eaff3ec1",
   "metadata": {},
   "outputs": [],
   "source": [
    "plt.close(4)\n",
    "fig,ax = plt.subplots(num=4, figsize=(9,6))\n",
    "\n",
    "uplt.plot(a, m_es)\n",
    "plt.plot(a, e_th, color='black')\n",
    "\n",
    "fig.tight_layout()"
   ]
  },
  {
   "cell_type": "code",
   "execution_count": null,
   "id": "c1bd9d1e-5bed-4965-8849-b520ee3bbf00",
   "metadata": {},
   "outputs": [],
   "source": [
    "plt.close(5)\n",
    "fig,ax = plt.subplots(num=5, figsize=(9,6))\n",
    "\n",
    "plt.plot(a, relative_error, color='red', label='$k=2$') # error between different realization of the algorithm\n",
    "plt.plot(a, ms_bias, color='red', linestyle='dashed') # mean square bias\n",
    "uplt.errorband(a, est_rel_err, color='red', linestyle='dotted')\n",
    "\n",
    "plt.plot(a, c_relative_error, color='blue', label='$k=0$') # error between different realization of the algorithm\n",
    "plt.plot(a, c_ms_bias, color='blue', linestyle='dashed') # mean square bias\n",
    "uplt.errorband(a, c_est_rel_err, color='blue', linestyle='dotted')\n",
    "\n",
    "# for e in es:\n",
    "#     plt.plot(a, uplt.std_dev(e)/uplt.nominal_value(e)) # error estimated by each realization\n",
    "\n",
    "plt.ylim(0,1)\n",
    "plt.legend()\n",
    "plt.xlabel('$a$')\n",
    "plt.ylabel('relative error')\n",
    "fig.tight_layout()"
   ]
  },
  {
   "cell_type": "code",
   "execution_count": null,
   "id": "921c2a5e-a95e-4140-964c-6f1edbc115c4",
   "metadata": {},
   "outputs": [],
   "source": [
    "np.nanmean(relative_error/est_rel_err)"
   ]
  },
  {
   "cell_type": "code",
   "execution_count": null,
   "id": "07e304fb-7a69-4a1a-8eb7-cfef4e7492ab",
   "metadata": {},
   "outputs": [],
   "source": []
  }
 ],
 "metadata": {
  "kernelspec": {
   "display_name": "mlk",
   "language": "python",
   "name": "mlk"
  },
  "language_info": {
   "codemirror_mode": {
    "name": "ipython",
    "version": 3
   },
   "file_extension": ".py",
   "mimetype": "text/x-python",
   "name": "python",
   "nbconvert_exporter": "python",
   "pygments_lexer": "ipython3",
   "version": "3.9.16"
  }
 },
 "nbformat": 4,
 "nbformat_minor": 5
}
