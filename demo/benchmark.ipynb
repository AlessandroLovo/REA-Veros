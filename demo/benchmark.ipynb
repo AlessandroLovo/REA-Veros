{
 "cells": [
  {
   "cell_type": "markdown",
   "id": "e3803300-9ca1-4b85-b4d6-479d6b8b7842",
   "metadata": {},
   "source": [
    "# Benchmark of GKTL on the Ornstein-Uhlenbeck process"
   ]
  },
  {
   "cell_type": "code",
   "execution_count": null,
   "id": "33a46ac0-2d32-4575-969d-63385e2d48fa",
   "metadata": {},
   "outputs": [],
   "source": [
    "import numpy as np\n",
    "import matplotlib\n",
    "import matplotlib.pyplot as plt\n",
    "%matplotlib widget\n",
    "matplotlib.rc('font', size=18)\n",
    "import uncertainties as unc\n",
    "import scipy.special as ss\n",
    "\n",
    "from tqdm.notebook import tqdm\n",
    "\n",
    "import sys\n",
    "sys.path.append('../')\n",
    "import general_purpose.utilities as ut\n",
    "import general_purpose.uplotlib as uplt\n",
    "\n",
    "from importlib import reload\n",
    "\n",
    "import rea.reconstruct as rec"
   ]
  },
  {
   "cell_type": "code",
   "execution_count": null,
   "id": "4ced20f6-1a54-4884-9467-bcd6d03f5878",
   "metadata": {},
   "outputs": [],
   "source": [
    "def get_run(folder, iteration=None):\n",
    "    if iteration is None:\n",
    "        try:\n",
    "            run = {'folder': folder, 'rec_dict': ut.json2dict(f'{folder}/reconstructed.json')}\n",
    "        except FileNotFoundError:\n",
    "            # detect last iteration\n",
    "            iterations = [int(f[1:]) for f in os.listdir(folder) if f[0] == 'i']\n",
    "            iteration = np.max(iterations)\n",
    "            run = {'folder': folder, 'rec_dict': rec.reconstruct(f'{folder}/i{iteration:04d}')}\n",
    "            ut.dict2json(run['rec_dict'], f'{folder}/reconstructed.json')\n",
    "    else:\n",
    "        run = {'folder': folder, 'rec_dict': rec.reconstruct(f'{folder}/i{iteration:04d}')}\n",
    "        \n",
    "    return run\n",
    "\n",
    "def compute_trajectories(run):\n",
    "    folder = run['folder']\n",
    "    rec_dict = run['rec_dict']\n",
    "    rec_trajs = {}\n",
    "\n",
    "    for rname, r in tqdm(rec_dict['members'].items()):\n",
    "        traj = []\n",
    "        for subfolder,e in zip(rec_dict['folders'], r['ancestry']):\n",
    "            traj.append(np.load(f'{folder}/{subfolder}/{e}-traj.npy'))\n",
    "        traj = np.concatenate(traj)\n",
    "\n",
    "        rec_trajs[rname] = traj\n",
    "    \n",
    "    run['traj'] = rec_trajs\n",
    "    \n",
    "    return rec_trajs\n",
    "\n",
    "def plot_traj(run, start=0, **kwargs):\n",
    "    if 'traj' not in run:\n",
    "        compute_trajectories(run)\n",
    "    label = kwargs.pop('label', None)\n",
    "    for traj in run['traj'].values():\n",
    "        plt.plot(traj[start:,0]-traj[0,0], -traj[start:,1], label=label, **kwargs)\n",
    "        label = None\n",
    "\n",
    "\n",
    "def expectation(run, func, **kwargs):\n",
    "    _f = np.array([func(x, **kwargs) for x in run['observables'].values()])\n",
    "    _w = np.array([r['weight'] for r in run['rec_dict']['members'].values()])\n",
    "    # _w = np.exp(-np.array([r['cum_log_escore'] for r in rec_dict['members'].values()]))\n",
    "    # _n = np.exp(rec_dict['cum_log_norm_factor'])\n",
    "\n",
    "    mean = np.mean(_f*_w)\n",
    "    std = np.sqrt(np.mean((_f*_w)**2)/len(_w))\n",
    "\n",
    "    return unc.ufloat(mean,std)"
   ]
  },
  {
   "cell_type": "code",
   "execution_count": null,
   "id": "1ce3715b-e74f-4d7e-b83d-eda6aee08aef",
   "metadata": {},
   "outputs": [],
   "source": [
    "def f(x, a):\n",
    "    return float(x>=a)\n",
    "\n",
    "lam = 1\n",
    "sig = 1\n",
    "def ou_var(t):\n",
    "    return sig**2/(2*lam)*(1 - np.exp(-2*lam*t))\n",
    "\n",
    "cum_gaus = lambda x: 0.5*(1 + ss.erf(x/np.sqrt(2)))\n",
    "\n",
    "overcoming_prob = lambda x,v: cum_gaus(-x/np.sqrt(v))\n",
    "\n",
    "v = ou_var(2)"
   ]
  },
  {
   "cell_type": "markdown",
   "id": "d87ed027-0702-46c7-8e13-f3b183fc1496",
   "metadata": {},
   "source": [
    "## Get the runs"
   ]
  },
  {
   "cell_type": "code",
   "execution_count": null,
   "id": "a00c5d88-ced5-4e72-9ad3-0fc06f4fb59c",
   "metadata": {},
   "outputs": [],
   "source": [
    "c_runs = [get_run(f'./__test__old/c{i}--k__0--nens__999--T__10/') for i in tqdm(range(6))]\n",
    "# c_runs = [get_run(f'./__test__old/c{i}--k__0--nens__100--T__10/') for i in range(6)]\n",
    "runs = [get_run(f'./__test__old/f{i}--k__4--nens__999--T__10') for i in tqdm(range(6))]\n",
    "# runs = [get_run(f'./__test__old/f{i}--k__2--nens__999--T__10') for i in range(8)]\n",
    "# runs = [get_run(f'./__test__old/f{i}--k__4--nens__100--T__10') for i in range(14)]"
   ]
  },
  {
   "cell_type": "markdown",
   "id": "55caadaf-4fc7-453b-9680-e00987c2b555",
   "metadata": {},
   "source": [
    "## Plot trajectories"
   ]
  },
  {
   "cell_type": "code",
   "execution_count": null,
   "id": "5e70cf68-9b78-4709-a6e0-5a7c29999c48",
   "metadata": {},
   "outputs": [],
   "source": [
    "run  = runs[0]\n",
    "_ = compute_trajectories(run)\n",
    "\n",
    "c_run = c_runs[0]\n",
    "_ = compute_trajectories(c_run)"
   ]
  },
  {
   "cell_type": "code",
   "execution_count": null,
   "id": "8e8589a2-ecf5-4991-8bb2-635671b8cb1d",
   "metadata": {},
   "outputs": [],
   "source": [
    "plt.close(1)\n",
    "fig,ax = plt.subplots(num=1, figsize=(9,6))\n",
    "\n",
    "plot_traj(run, color='gray', alpha=0.2)\n",
    "\n",
    "t = np.linspace(0,2,100)\n",
    "plt.plot(t, -2*np.sqrt(ou_var(t)), color='black', linestyle='dashed')\n",
    "\n",
    "fig.tight_layout()"
   ]
  },
  {
   "cell_type": "code",
   "execution_count": null,
   "id": "fb11a59e-d716-4fbb-b7c3-b6d11f183113",
   "metadata": {},
   "outputs": [],
   "source": [
    "from matplotlib.gridspec import GridSpec"
   ]
  },
  {
   "cell_type": "code",
   "execution_count": null,
   "id": "ae4c5d17-1964-49cb-8dcc-ddbf70a9fc00",
   "metadata": {},
   "outputs": [],
   "source": [
    "c_run['traj']['r001'][1,0]"
   ]
  },
  {
   "cell_type": "code",
   "execution_count": null,
   "id": "a4935746-291f-410a-adb1-da032d9f102a",
   "metadata": {},
   "outputs": [],
   "source": [
    "plt.close(4)\n",
    "fig = plt.figure(num=4, figsize=(10,6))\n",
    "gs = GridSpec(4,6)\n",
    "ax_plot = fig.add_subplot(gs[:,0:4])\n",
    "\n",
    "# plot_traj(c_run, alpha=0.2, color='blue')\n",
    "plot_traj(run, alpha=0.1, color='black')\n",
    "plt.plot(t, -3*np.sqrt(ou_var(t)), color='red', linestyle='dashed')\n",
    "plt.plot(t, 3*np.sqrt(ou_var(t)), color='red', linestyle='dashed')\n",
    "\n",
    "plt.xlabel('time')\n",
    "plt.ylabel('$X$')\n",
    "\n",
    "\n",
    "\n",
    "ax_hist = fig.add_subplot(gs[:,4:])\n",
    "\n",
    "bin_edges = np.linspace(ax_plot.get_ylim()[0], ax_plot.get_ylim()[1], 30)\n",
    "\n",
    "#hist of the old attractor\n",
    "c_pts = -np.array([c[-1,-1] for c in c_run['traj'].values()])\n",
    "hist, bin_edges = np.histogram(c_pts, bins=bin_edges, density=True)\n",
    "ax_hist.plot(hist, 0.5*(bin_edges[:-1] + bin_edges[1:]), color='blue')\n",
    "\n",
    "# #hist of the new attractor\n",
    "pts = -np.array([c[-1,-1] for c in run['traj'].values()])\n",
    "hist, bin_edges = np.histogram(pts, bins=bin_edges, density=True)\n",
    "ax_hist.plot(hist, 0.5*(bin_edges[:-1] + bin_edges[1:]), color='black')\n",
    "\n",
    "ax_hist.set_ylim(*ax_plot.get_ylim())\n",
    "ax_hist.set_yticklabels([])\n",
    "\n",
    "fig.tight_layout()"
   ]
  },
  {
   "cell_type": "code",
   "execution_count": null,
   "id": "22e4ba0a-2c67-4d8e-bfb2-9d51502e8a0e",
   "metadata": {},
   "outputs": [],
   "source": [
    "fig.savefig('../../download/ou-side-hist-N1000.pdf')"
   ]
  },
  {
   "cell_type": "markdown",
   "id": "3e8ec807-44c6-4312-9a9f-c674379cefab",
   "metadata": {},
   "source": [
    "## Probabilities"
   ]
  },
  {
   "cell_type": "code",
   "execution_count": null,
   "id": "0f055c97-67dc-494b-8b6e-c5ca63cb1ff9",
   "metadata": {},
   "outputs": [],
   "source": [
    "a = np.linspace(0,4,101)\n",
    "\n",
    "es = [np.array([expectation(run, f, a=_a) for _a in a]) for run in runs]\n",
    "c_es = [np.array([expectation(run, f, a=_a) for _a in a]) for run in c_runs]\n",
    "e_th = overcoming_prob(a,v)"
   ]
  },
  {
   "cell_type": "code",
   "execution_count": null,
   "id": "11eda9a3-6389-4f18-9382-79f70e916c7e",
   "metadata": {},
   "outputs": [],
   "source": [
    "n_es = np.vstack([uplt.nominal_value(e) for e in es])\n",
    "c_n_es = np.vstack([uplt.nominal_value(e) for e in c_es])\n",
    "\n",
    "s_es = np.vstack([uplt.std_dev(e) for e in es])\n",
    "c_s_es = np.vstack([uplt.std_dev(e) for e in c_es])\n",
    "\n",
    "m_es = uplt.avg(n_es, axis=0)\n",
    "c_m_es = uplt.avg(c_n_es, axis=0)\n",
    "\n",
    "relative_error = np.sqrt(np.mean((n_es/uplt.nominal_value(m_es) - 1)**2, axis=0))\n",
    "c_relative_error = np.sqrt(np.mean((c_n_es/uplt.nominal_value(c_m_es) - 1)**2, axis=0))\n",
    "\n",
    "est_rel_err = uplt.avg(s_es/n_es, axis=0)\n",
    "c_est_rel_err = uplt.avg(c_s_es/c_n_es, axis=0)\n",
    "\n",
    "ms_bias = np.sqrt(np.mean((n_es/e_th - 1)**2, axis=0))\n",
    "c_ms_bias = np.sqrt(np.mean((c_n_es/e_th - 1)**2, axis=0))"
   ]
  },
  {
   "cell_type": "code",
   "execution_count": null,
   "id": "3c180faa-3141-4c3c-ba28-6bb3b2c67e24",
   "metadata": {},
   "outputs": [],
   "source": [
    "plt.close(2)\n",
    "fig,ax = plt.subplots(num=2, figsize=(9,6))\n",
    "\n",
    "uplt.errorband(a, m_es, color='black', label='REA: $k=4$')\n",
    "uplt.errorband(a, c_m_es, alpha=0.5, color='blue', label=r'control: $k=0$')\n",
    "\n",
    "plt.semilogy(a, e_th, color='red', label='theoretical', linestyle='dashed')\n",
    "\n",
    "# for e in es:\n",
    "#     uplt.plot(a,e, alpha=0.5)\n",
    "# plt.plot(a,uplt.std_dev(e)/uplt.nominal_value(e))\n",
    "\n",
    "plt.xlabel(r'$a$')\n",
    "ax.set_xticklabels([-t if t>0 else t for t in ax.get_xticks()])\n",
    "\n",
    "plt.ylabel(r'$\\mathbb{P}\\left( X(T) \\leq a \\right)$')\n",
    "\n",
    "# plt.title(r'$N = 1000,\\, k=4$')\n",
    "\n",
    "plt.legend()\n",
    "\n",
    "fig.tight_layout()"
   ]
  },
  {
   "cell_type": "code",
   "execution_count": null,
   "id": "de117924-29a6-4f1d-8326-3b9db561c5ff",
   "metadata": {},
   "outputs": [],
   "source": [
    "fig.savefig('../../download/ou-prob-N1000.pdf')"
   ]
  },
  {
   "cell_type": "code",
   "execution_count": null,
   "id": "2ad596b2-c5ce-4ea5-bde7-eed488fc9232",
   "metadata": {},
   "outputs": [],
   "source": [
    "plt.close(2)\n",
    "fig,ax = plt.subplots(num=2, figsize=(9,6))\n",
    "\n",
    "\n",
    "plt.plot(a, uplt.nominal_value(m_es), color='black', label='REA: $k=4$')\n",
    "plt.plot(a, uplt.nominal_value(c_m_es), color='blue', label=r'control: $k=0$')\n",
    "\n",
    "plt.plot(a, n_es.T, color='black', alpha=0.2)\n",
    "plt.plot(a, c_n_es.T, color='blue', alpha=0.2)\n",
    "\n",
    "plt.semilogy(a, e_th, color='red', label='theoretical', linestyle='dashed')\n",
    "\n",
    "\n",
    "# for e in es:\n",
    "#     uplt.plot(a,e, alpha=0.5)\n",
    "# plt.plot(a,uplt.std_dev(e)/uplt.nominal_value(e))\n",
    "\n",
    "plt.xlabel(r'$a$')\n",
    "ax.set_xticklabels([-t if t>0 else t for t in ax.get_xticks()])\n",
    "\n",
    "plt.ylabel(r'$\\mathbb{P}\\left( X(T) \\leq a \\right)$')\n",
    "\n",
    "# plt.title(r'$N = 1000,\\, k=4$')\n",
    "\n",
    "plt.legend()\n",
    "\n",
    "fig.tight_layout()"
   ]
  },
  {
   "cell_type": "markdown",
   "id": "6f8daa81-cf0b-4797-8b7b-2f8c584e2b52",
   "metadata": {},
   "source": [
    "### Relative error"
   ]
  },
  {
   "cell_type": "code",
   "execution_count": null,
   "id": "d9ad405a-6bef-4c6c-9277-8d5f7ea58507",
   "metadata": {},
   "outputs": [],
   "source": [
    "plt.close(3)\n",
    "fig,ax = plt.subplots(num=3, figsize=(9,6))\n",
    "\n",
    "plt.plot(a, relative_error, color='red', label='$k=4$') # error between different realization of the algorithm\n",
    "plt.plot(a, ms_bias, color='red', linestyle='dashed') # mean square bias\n",
    "\n",
    "plt.plot(a, c_relative_error, color='blue', label='$k=0$') # error between different realization of the algorithm\n",
    "plt.plot(a, c_ms_bias, color='blue', linestyle='dashed') # mean square bias\n",
    "\n",
    "# for e in es:\n",
    "#     plt.plot(a, uplt.std_dev(e)/uplt.nominal_value(e)) # error estimated by each realization\n",
    "\n",
    "plt.legend()\n",
    "plt.xlabel('$a$')\n",
    "plt.ylabel('relative error')\n",
    "fig.tight_layout()"
   ]
  },
  {
   "cell_type": "code",
   "execution_count": null,
   "id": "19d4d125-b2ce-4456-b376-9f52eaff3ec1",
   "metadata": {},
   "outputs": [],
   "source": [
    "plt.close(4)\n",
    "fig,ax = plt.subplots(num=4, figsize=(9,6))\n",
    "\n",
    "uplt.plot(a, m_es)\n",
    "plt.plot(a, e_th, color='black')\n",
    "\n",
    "fig.tight_layout()"
   ]
  },
  {
   "cell_type": "code",
   "execution_count": null,
   "id": "c1bd9d1e-5bed-4965-8849-b520ee3bbf00",
   "metadata": {},
   "outputs": [],
   "source": [
    "plt.close(5)\n",
    "fig,ax = plt.subplots(num=5, figsize=(9,6))\n",
    "\n",
    "plt.plot(a, relative_error, color='red', label='$k=2$') # error between different realization of the algorithm\n",
    "plt.plot(a, ms_bias, color='red', linestyle='dashed') # mean square bias\n",
    "uplt.errorband(a, est_rel_err, color='red', linestyle='dotted')\n",
    "\n",
    "plt.plot(a, c_relative_error, color='blue', label='$k=0$') # error between different realization of the algorithm\n",
    "plt.plot(a, c_ms_bias, color='blue', linestyle='dashed') # mean square bias\n",
    "uplt.errorband(a, c_est_rel_err, color='blue', linestyle='dotted')\n",
    "\n",
    "# for e in es:\n",
    "#     plt.plot(a, uplt.std_dev(e)/uplt.nominal_value(e)) # error estimated by each realization\n",
    "\n",
    "plt.ylim(0,1)\n",
    "plt.legend()\n",
    "plt.xlabel('$a$')\n",
    "plt.ylabel('relative error')\n",
    "fig.tight_layout()"
   ]
  },
  {
   "cell_type": "code",
   "execution_count": null,
   "id": "921c2a5e-a95e-4140-964c-6f1edbc115c4",
   "metadata": {},
   "outputs": [],
   "source": [
    "np.nanmean(relative_error/est_rel_err)"
   ]
  },
  {
   "cell_type": "code",
   "execution_count": null,
   "id": "07e304fb-7a69-4a1a-8eb7-cfef4e7492ab",
   "metadata": {},
   "outputs": [],
   "source": []
  }
 ],
 "metadata": {
  "kernelspec": {
   "display_name": "ink",
   "language": "python",
   "name": "ink"
  },
  "language_info": {
   "codemirror_mode": {
    "name": "ipython",
    "version": 3
   },
   "file_extension": ".py",
   "mimetype": "text/x-python",
   "name": "python",
   "nbconvert_exporter": "python",
   "pygments_lexer": "ipython3",
   "version": "3.10.8"
  }
 },
 "nbformat": 4,
 "nbformat_minor": 5
}
