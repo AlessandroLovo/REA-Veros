{
 "cells": [
  {
   "cell_type": "code",
   "execution_count": null,
   "id": "a855a245-05bb-4d9e-924b-0c1bd4ff210e",
   "metadata": {},
   "outputs": [],
   "source": [
    "import numpy as np\n",
    "import matplotlib\n",
    "import matplotlib.pyplot as plt\n",
    "%matplotlib widget\n",
    "matplotlib.rc('font', size=18)\n",
    "import os\n",
    "import uncertainties as unc\n",
    "import scipy.special as ss\n",
    "\n",
    "from tqdm.notebook import tqdm\n",
    "\n",
    "import sys\n",
    "sys.path.append('../')\n",
    "import general_purpose.utilities as ut\n",
    "import general_purpose.uplotlib as uplt\n",
    "\n",
    "from importlib import reload\n",
    "\n",
    "import rea.reconstruct as rec"
   ]
  },
  {
   "cell_type": "code",
   "execution_count": null,
   "id": "1959d3f2-d2c2-4f62-874e-187c06327886",
   "metadata": {},
   "outputs": [],
   "source": [
    "def get_run(folder, iteration=None):\n",
    "    if iteration is None:\n",
    "        try:\n",
    "            run = {'folder': folder, 'rec_dict': ut.json2dict(f'{folder}/reconstructed.json')}\n",
    "        except FileNotFoundError:\n",
    "            # detect last iteration\n",
    "            iterations = [int(f[1:]) for f in os.listdir(folder) if f[0] == 'i']\n",
    "            iteration = np.max(iterations)\n",
    "            run = {'folder': folder, 'rec_dict': rec.reconstruct(f'{folder}/i{iteration:04d}')}\n",
    "            ut.dict2json(run['rec_dict'], f'{folder}/reconstructed.json')\n",
    "    else:\n",
    "        run = {'folder': folder, 'rec_dict': rec.reconstruct(f'{folder}/i{iteration:04d}')}\n",
    "    \n",
    "    run['abs_observables'] = {}\n",
    "    run['rel_observables'] = {}\n",
    "    for rname, r in run['rec_dict']['members'].items():\n",
    "        last_segment_traj = np.load(f\"{folder}/{run['rec_dict']['folders'][-1]}/{r['ancestry'][-1]}-traj.npy\")\n",
    "        first_segment_traj = np.load(f\"{folder}/{run['rec_dict']['folders'][0]}/{r['ancestry'][0]}-traj.npy\")\n",
    "        run['abs_observables'][rname] = last_segment_traj[-1,1]\n",
    "        run['rel_observables'][rname] = last_segment_traj[-1,1] - first_segment_traj[0,1]\n",
    "        \n",
    "    first_segment_traj = np.load(f\"{folder}/{run['rec_dict']['folders'][0]}/{r['ancestry'][0]}-traj.npy\")\n",
    "    run['duration'] = last_segment_traj[-1,0] - first_segment_traj[0,0]\n",
    "        \n",
    "    return run\n",
    "\n",
    "def compute_trajectories(run):\n",
    "    folder = run['folder']\n",
    "    rec_dict = run['rec_dict']\n",
    "    rec_trajs = {}\n",
    "\n",
    "    for rname, r in tqdm(rec_dict['members'].items()):\n",
    "        traj = []\n",
    "        for subfolder,e in zip(rec_dict['folders'], r['ancestry']):\n",
    "            traj.append(np.load(f'{folder}/{subfolder}/{e}-traj.npy'))\n",
    "        traj = np.concatenate(traj)\n",
    "\n",
    "        rec_trajs[rname] = traj\n",
    "    \n",
    "    run['traj'] = rec_trajs\n",
    "    \n",
    "    return rec_trajs\n",
    "\n",
    "def plot_traj(run, start=0, **kwargs):\n",
    "    if 'traj' not in run:\n",
    "        compute_trajectories(run)\n",
    "    for traj in run['traj'].values():\n",
    "        plt.plot(traj[start:,0]-traj[0,0], -traj[start:,1], **kwargs)\n",
    "\n",
    "def expectation(run, func, mode='abs', **kwargs):\n",
    "    _f = np.array([func(x, **kwargs) for x in run[f'{mode}_observables'].values()])\n",
    "    _w = np.array([r['weight'] for r in run['rec_dict']['members'].values()])\n",
    "    # _w = np.exp(-np.array([r['cum_log_escore'] for r in rec_dict['members'].values()]))\n",
    "    # _n = np.exp(rec_dict['cum_log_norm_factor'])\n",
    "\n",
    "    mean = np.mean(_f*_w)\n",
    "    std = np.sqrt(np.mean((_f*_w)**2)/len(_w))\n",
    "\n",
    "    return unc.ufloat(mean,std)\n",
    "\n",
    "def f(x, a):\n",
    "    return float(x>a)\n",
    "\n",
    "def get_infos(folder):\n",
    "    i = 0\n",
    "    infos = {}\n",
    "    while True:\n",
    "        try:\n",
    "            infos[i] = ut.json2dict(f'{folder}/i{i:04d}/info.json')\n",
    "            i += 1\n",
    "        except FileNotFoundError:\n",
    "            break\n",
    "            \n",
    "    return infos\n"
   ]
  },
  {
   "cell_type": "code",
   "execution_count": null,
   "id": "c8725eab-ea19-47f3-b1d5-33bd21bf5360",
   "metadata": {},
   "outputs": [],
   "source": [
    "# folder = '../veros/__test__/r3_minimal'\n",
    "# folder = '../veros/__test__/r2_minimal'\n",
    "# folder = '../veros/__test__/r01--k__16--nens__50--T__5_minimal'\n",
    "# folder = '../veros/__test__/rA-k20t50_minimal'\n",
    "\n",
    "# folder = '../veros/__test__/rf1_minimal'\n",
    "# folder = '../veros/__test__/rk50_minimal'\n",
    "# folder = '../veros/__test__/rk1000t5_minimal'\n",
    "\n",
    "# folder = '../veros-temp-noise-old/__test__/rn-k10t5_minimal'\n",
    "# folder = '../veros-temp-noise-old/__test__/rn-k20t5_minimal'\n",
    "# folder = '../veros-temp-noise-old/__test__/rn-k30t5_minimal'\n",
    "# folder = '../veros-temp-noise-old/__test__/rn-k10t10_minimal'\n",
    "# folder = '../veros-temp-noise-old/__test__/rn-k10t20_minimal'\n",
    "\n",
    "# folder = '../veros-temp-noise/__test__/rN-k10t5_minimal'\n",
    "# folder = '../veros-temp-noise/__test__/rAN-k10t5_minimal'\n",
    "\n",
    "# folder = '../veros-temp-noise/__test__/rAAtlN-k20t10_minimal'\n",
    "# folder = '../veros-temp-noise/__test__/rAAtlN_s1-k20t25_minimal'\n",
    "# folder = '../veros-temp-noise/__test__/rAAtlN_s1-k20_minimal'\n",
    "\n",
    "# folder = '../veros-temp-noise/__test__/rY1AAtlN-k10t1_minimal'\n",
    "# folder = '../veros-temp-noise/__test__/rY1AAtlN-k20t1_minimal'\n",
    "folder = '../veros-temp-noise/__test__/rY1AAtlN-k30t1_minimal'"
   ]
  },
  {
   "cell_type": "markdown",
   "id": "439b491c-223c-4ea5-b878-041a7ba35ee7",
   "metadata": {},
   "source": [
    "## Trajectory"
   ]
  },
  {
   "cell_type": "code",
   "execution_count": null,
   "id": "af18e669-465b-4573-b1b7-b07750c0ade5",
   "metadata": {},
   "outputs": [],
   "source": [
    "run = get_run(folder)\n",
    "_ = compute_trajectories(run)"
   ]
  },
  {
   "cell_type": "code",
   "execution_count": null,
   "id": "344b0d7e-e07c-4e1c-88b9-a002995497db",
   "metadata": {},
   "outputs": [],
   "source": [
    "plt.close(1)\n",
    "fig,ax = plt.subplots(figsize=(9,6), num=1)\n",
    "\n",
    "plot_traj(run, color='gray', alpha=0.2,\n",
    "          # marker='o'\n",
    "         )\n",
    "\n",
    "fig.tight_layout()"
   ]
  },
  {
   "cell_type": "markdown",
   "id": "49fc08ae-dd9c-4efd-82ba-7993b6f56d07",
   "metadata": {},
   "source": [
    "## Probabilities"
   ]
  },
  {
   "cell_type": "code",
   "execution_count": null,
   "id": "ae5bb66a-8c21-41d0-b832-736469259d1b",
   "metadata": {},
   "outputs": [],
   "source": [
    "iterations = [5,10,15,20]\n",
    "runs = [get_run(folder, iteration=i) for i in iterations]"
   ]
  },
  {
   "cell_type": "code",
   "execution_count": null,
   "id": "d14232a7-ea11-4d78-9ee0-9eed03853a2a",
   "metadata": {},
   "outputs": [],
   "source": [
    "mode = 'abs'\n",
    "# mode = 'rel'\n",
    "\n",
    "plt.close(1)\n",
    "fig,ax = plt.subplots(num=1, figsize=(9,6))\n",
    "\n",
    "min_obs = np.infty\n",
    "max_obs = -np.infty\n",
    "\n",
    "for run in runs:\n",
    "    m = np.min(list(run[f'{mode}_observables'].values()))\n",
    "    M = np.max(list(run[f'{mode}_observables'].values()))\n",
    "    if m < min_obs:\n",
    "        min_obs = m\n",
    "    if M > max_obs:\n",
    "        max_obs = M\n",
    "    plt.scatter([run['duration'] + 5]*2, [m, M], color='black')\n",
    "\n",
    "fig.tight_layout()\n",
    "\n",
    "print(f'{min_obs = }, {max_obs = }')"
   ]
  },
  {
   "cell_type": "code",
   "execution_count": null,
   "id": "436bb564-b6e9-444e-95e4-f90737a71443",
   "metadata": {},
   "outputs": [],
   "source": [
    "a = np.linspace(min_obs, max_obs, 101)\n",
    "es = np.array([[expectation(run, f, a=_a, mode=mode) for _a in a] for run in runs])"
   ]
  },
  {
   "cell_type": "code",
   "execution_count": null,
   "id": "31155bfe-9419-4799-8630-95f1205b0778",
   "metadata": {},
   "outputs": [],
   "source": [
    "plt.close(11)\n",
    "fig,ax = plt.subplots(num=11, figsize=(9,6))\n",
    "\n",
    "for i,run in enumerate(runs):\n",
    "    uplt.errorband(-a, es[i], label=f\"After {run['duration'] + 5:.0f} years\")\n",
    "    \n",
    "plt.yscale('log')\n",
    "# plt.ylim(1e-6,3)\n",
    "plt.axhline(1, color='black', linestyle='dashed')\n",
    "\n",
    "if mode == 'abs':\n",
    "    plt.xlabel('AMOC strength [Sv]')\n",
    "else:\n",
    "    plt.xlabel('AMOC strength difference [Sv]')\n",
    "\n",
    "plt.ylabel('probability')\n",
    "\n",
    "plt.legend()\n",
    "\n",
    "fig.tight_layout()"
   ]
  },
  {
   "cell_type": "markdown",
   "id": "fb2a565f-1424-45db-aeba-d0ea02e833b3",
   "metadata": {},
   "source": [
    "## Time-probability plot"
   ]
  },
  {
   "cell_type": "code",
   "execution_count": null,
   "id": "738dd761-ed52-47fc-82bc-aaaac0d8fc49",
   "metadata": {},
   "outputs": [],
   "source": [
    "nits = int(run['rec_dict']['last_folder'][1:])\n",
    "print(f'detected {nits} iterations')\n",
    "iterations = np.arange(nits) + 1\n",
    "runs = [get_run(folder, iteration=i) for i in iterations]"
   ]
  },
  {
   "cell_type": "code",
   "execution_count": null,
   "id": "36c42f19-4aa6-494c-aa02-c01b160aff54",
   "metadata": {},
   "outputs": [],
   "source": [
    "mode = 'abs'\n",
    "# mode = 'rel'\n",
    "\n",
    "plt.close(2)\n",
    "fig,ax = plt.subplots(num=2, figsize=(9,6))\n",
    "\n",
    "min_obs = np.infty\n",
    "max_obs = -np.infty\n",
    "\n",
    "for run in runs:\n",
    "    obs = np.array(list(run[f'{mode}_observables'].values()))\n",
    "    dur = run['duration'] + 5\n",
    "    m = np.min(obs)\n",
    "    M = np.max(obs)\n",
    "    if m < min_obs:\n",
    "        min_obs = m\n",
    "    if M > max_obs:\n",
    "        max_obs = M\n",
    "    # plt.scatter([run['duration'] + 5], [-M], color='blue')\n",
    "    # plt.scatter([run['duration'] + 5], [-m], color='red')\n",
    "    \n",
    "    plt.scatter([dur]*len(obs), -obs, alpha=0.2, color='gray', marker='.')\n",
    "\n",
    "plt.xlabel('simulation time [yr]')\n",
    "plt.ylabel('AMOC strength' + (' difference' if mode == 'rel' else '') + ' [Sv]')\n",
    "fig.tight_layout()\n",
    "\n",
    "print(f'{min_obs = }, {max_obs = }')"
   ]
  },
  {
   "cell_type": "code",
   "execution_count": null,
   "id": "7a5c02e4-6e68-42df-8138-77a1954c437d",
   "metadata": {},
   "outputs": [],
   "source": [
    "min_obs = -8.5\n",
    "max_obs = -7.5"
   ]
  },
  {
   "cell_type": "code",
   "execution_count": null,
   "id": "41b0d2ea-dfe4-4230-a734-671475dff11d",
   "metadata": {},
   "outputs": [],
   "source": [
    "a = np.linspace(min_obs, max_obs, 101)"
   ]
  },
  {
   "cell_type": "code",
   "execution_count": null,
   "id": "bbcfe36d-0770-4c8b-a3e5-8bebc7650f78",
   "metadata": {},
   "outputs": [],
   "source": [
    "dur = np.array([run['duration'] + 5 for run in runs])\n",
    "es = np.array([[expectation(run, f, a=_a, mode=mode) for _a in a] for run in runs])"
   ]
  },
  {
   "cell_type": "code",
   "execution_count": null,
   "id": "86fadff1-ed0b-4f0f-a2f8-14ec029e89fb",
   "metadata": {},
   "outputs": [],
   "source": [
    "plt.close(2)\n",
    "fig,ax = plt.subplots(num=2, figsize=(9,6))\n",
    "\n",
    "min_es = uplt.nominal_value(np.min(es[es > 0]))\n",
    "print(min_es)\n",
    "first_lev = np.floor(np.log10(min_es))\n",
    "\n",
    "plt.contourf(-a, dur, np.log10(uplt.nominal_value(es) + 10**(first_lev - 1)),\n",
    "             # levels=np.linspace(-4,0,9),\n",
    "             levels = np.arange(first_lev,0.2, 0.5),\n",
    "             # cmap='Greys_r',\n",
    "             cmap='inferno',\n",
    "             extend='both')\n",
    "\n",
    "plt.colorbar(label=r'$\\log_{10}p$')\n",
    "\n",
    "if mode == 'abs':\n",
    "    plt.xlabel('AMOC strength [Sv]')\n",
    "else:\n",
    "    plt.xlabel('AMOC strength difference [Sv]')\n",
    "plt.ylabel('Simulation time [yr]')\n",
    "\n",
    "fig.tight_layout()"
   ]
  },
  {
   "cell_type": "code",
   "execution_count": null,
   "id": "40f2131f-bf8e-40da-9216-92c515d3daba",
   "metadata": {},
   "outputs": [],
   "source": [
    "infos = get_infos(folder)"
   ]
  },
  {
   "cell_type": "code",
   "execution_count": null,
   "id": "c08bb7ee-f70e-4886-9024-d1ef782bd69a",
   "metadata": {},
   "outputs": [],
   "source": [
    "kill_ratios = {k:v['kill_ratio'] for k,v in infos.items() if 'kill_ratio' in v}\n",
    "kill_ratios"
   ]
  },
  {
   "cell_type": "code",
   "execution_count": null,
   "id": "68fbb4f2-b4f2-48cc-8863-f7feb4173997",
   "metadata": {},
   "outputs": [],
   "source": []
  }
 ],
 "metadata": {
  "kernelspec": {
   "display_name": "mlk",
   "language": "python",
   "name": "mlk"
  },
  "language_info": {
   "codemirror_mode": {
    "name": "ipython",
    "version": 3
   },
   "file_extension": ".py",
   "mimetype": "text/x-python",
   "name": "python",
   "nbconvert_exporter": "python",
   "pygments_lexer": "ipython3",
   "version": "3.9.16"
  }
 },
 "nbformat": 4,
 "nbformat_minor": 5
}
