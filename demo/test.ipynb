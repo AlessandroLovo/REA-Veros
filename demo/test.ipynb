{
 "cells": [
  {
   "cell_type": "code",
   "execution_count": null,
   "metadata": {},
   "outputs": [],
   "source": [
    "import numpy as np\n",
    "import matplotlib\n",
    "import matplotlib.pyplot as plt\n",
    "%matplotlib widget\n",
    "matplotlib.rc('font', size=18)\n",
    "import uncertainties as unc\n",
    "import scipy.special as ss\n",
    "\n",
    "from tqdm.notebook import tqdm\n",
    "\n",
    "import sys\n",
    "sys.path.append('../')\n",
    "import general_purpose.utilities as ut\n",
    "import general_purpose.uplotlib as uplt\n",
    "\n",
    "from importlib import reload\n",
    "\n",
    "import rea.reconstruct as rec\n"
   ]
  },
  {
   "cell_type": "code",
   "execution_count": null,
   "metadata": {},
   "outputs": [],
   "source": [
    "# folder = '../veros/__test__/r01--k__16--nens__50--T__5_minimal'\n",
    "# folder = '__test__/n--k__10--nens__10--T__5'\n",
    "# folder = '__test__/i1--k__10--nens__10--T__5'\n",
    "# folder = './__test__/i10--k__10--nens__10--T__5'\n",
    "# folder = './__test__/i10m10--k__10--nens__10--T__5'\n",
    "folder = './__test__/i0m0--k__10--nens__1000--T__5'\n",
    "# folder = './__test__/i0m0--k__10--nens__100--T__5'"
   ]
  },
  {
   "cell_type": "code",
   "execution_count": null,
   "metadata": {},
   "outputs": [],
   "source": [
    "info = ut.json2dict(f'{folder}/i0001/info.json')"
   ]
  },
  {
   "cell_type": "code",
   "execution_count": null,
   "metadata": {},
   "outputs": [],
   "source": [
    "s = 0\n",
    "for e in info['members'].values():\n",
    "    s += e['weight']\n",
    "s"
   ]
  },
  {
   "cell_type": "code",
   "execution_count": null,
   "metadata": {},
   "outputs": [],
   "source": [
    "rec_dict = rec.reconstruct(f'{folder}/i0010')"
   ]
  },
  {
   "cell_type": "code",
   "execution_count": null,
   "metadata": {},
   "outputs": [],
   "source": [
    "weights = np.array([e['weight'] for e in rec_dict['members'].values()])"
   ]
  },
  {
   "cell_type": "code",
   "execution_count": null,
   "metadata": {},
   "outputs": [],
   "source": [
    "np.min(weights), np.max(weights)"
   ]
  },
  {
   "cell_type": "code",
   "execution_count": null,
   "metadata": {},
   "outputs": [],
   "source": [
    "np.argmax(weights)"
   ]
  },
  {
   "cell_type": "code",
   "execution_count": null,
   "metadata": {},
   "outputs": [],
   "source": [
    "np.mean(weights)"
   ]
  },
  {
   "cell_type": "code",
   "execution_count": null,
   "metadata": {},
   "outputs": [],
   "source": [
    "for i in range(1,11):\n",
    "    rec_dict = rec.reconstruct(f'{folder}/i{i:04d}')\n",
    "    weights = np.array([e['weight'] for e in rec_dict['members'].values()])\n",
    "    print(np.min(weights), np.max(weights), np.mean(weights))"
   ]
  },
  {
   "cell_type": "code",
   "execution_count": null,
   "metadata": {},
   "outputs": [],
   "source": [
    "for i in range(1,11):\n",
    "    rec_dict = rec.reconstruct(f'{folder}/i{i:04d}')\n",
    "    weights = np.array([e['weight'] for e in rec_dict['members'].values()])\n",
    "    print(np.min(weights), np.max(weights), np.mean(weights))"
   ]
  },
  {
   "cell_type": "code",
   "execution_count": null,
   "metadata": {},
   "outputs": [],
   "source": []
  }
 ],
 "metadata": {
  "kernelspec": {
   "display_name": "Python 3 (ipykernel)",
   "language": "python",
   "name": "python3"
  },
  "language_info": {
   "codemirror_mode": {
    "name": "ipython",
    "version": 3
   },
   "file_extension": ".py",
   "mimetype": "text/x-python",
   "name": "python",
   "nbconvert_exporter": "python",
   "pygments_lexer": "ipython3",
   "version": "3.9.16"
  },
  "vscode": {
   "interpreter": {
    "hash": "5a0ac5ce8bb8c88950cbb5884951ac07e03bb695621e79d254d25c8e1304a15f"
   }
  }
 },
 "nbformat": 4,
 "nbformat_minor": 4
}
