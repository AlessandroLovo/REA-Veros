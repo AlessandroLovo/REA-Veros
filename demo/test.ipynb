{
 "cells": [
  {
   "cell_type": "code",
   "execution_count": 1,
   "metadata": {},
   "outputs": [],
   "source": [
    "import numpy as np\n",
    "import matplotlib\n",
    "import matplotlib.pyplot as plt\n",
    "%matplotlib widget\n",
    "matplotlib.rc('font', size=18)\n",
    "import uncertainties as unc\n",
    "import scipy.special as ss\n",
    "\n",
    "from tqdm.notebook import tqdm\n",
    "\n",
    "import sys\n",
    "sys.path.append('../')\n",
    "import general_purpose.utilities as ut\n",
    "import general_purpose.uplotlib as uplt\n",
    "\n",
    "from importlib import reload\n",
    "\n",
    "import rea.reconstruct as rec\n"
   ]
  },
  {
   "cell_type": "code",
   "execution_count": 88,
   "metadata": {},
   "outputs": [],
   "source": [
    "# folder = '../veros/__test__/r01--k__16--nens__50--T__5_minimal'\n",
    "# folder = '__test__/n--k__10--nens__10--T__5'\n",
    "# folder = '__test__/i1--k__10--nens__10--T__5'\n",
    "# folder = './__test__/i10--k__10--nens__10--T__5'\n",
    "# folder = './__test__/i10m10--k__10--nens__10--T__5'\n",
    "folder = './__test__/i0m0--k__10--nens__1000--T__5'\n",
    "# folder = './__test__/i0m0--k__10--nens__100--T__5'"
   ]
  },
  {
   "cell_type": "code",
   "execution_count": 11,
   "metadata": {},
   "outputs": [],
   "source": [
    "info = ut.json2dict(f'{folder}/i0001/info.json')"
   ]
  },
  {
   "cell_type": "code",
   "execution_count": 12,
   "metadata": {},
   "outputs": [
    {
     "data": {
      "text/plain": [
       "1.0"
      ]
     },
     "execution_count": 12,
     "metadata": {},
     "output_type": "execute_result"
    }
   ],
   "source": [
    "s = 0\n",
    "for e in info['members'].values():\n",
    "    s += e['weight']\n",
    "s"
   ]
  },
  {
   "cell_type": "code",
   "execution_count": 62,
   "metadata": {},
   "outputs": [
    {
     "name": "stderr",
     "output_type": "stream",
     "text": [
      "DONE\n"
     ]
    }
   ],
   "source": [
    "rec_dict = rec.reconstruct(f'{folder}/i0010')"
   ]
  },
  {
   "cell_type": "code",
   "execution_count": 63,
   "metadata": {},
   "outputs": [],
   "source": [
    "weights = np.array([e['weight'] for e in rec_dict['members'].values()])"
   ]
  },
  {
   "cell_type": "code",
   "execution_count": 64,
   "metadata": {},
   "outputs": [
    {
     "data": {
      "text/plain": [
       "(0.0031649218095621975, 0.034360076009777876)"
      ]
     },
     "execution_count": 64,
     "metadata": {},
     "output_type": "execute_result"
    }
   ],
   "source": [
    "np.min(weights), np.max(weights)"
   ]
  },
  {
   "cell_type": "code",
   "execution_count": 65,
   "metadata": {},
   "outputs": [
    {
     "data": {
      "text/plain": [
       "0"
      ]
     },
     "execution_count": 65,
     "metadata": {},
     "output_type": "execute_result"
    }
   ],
   "source": [
    "np.argmax(weights)"
   ]
  },
  {
   "cell_type": "code",
   "execution_count": 66,
   "metadata": {},
   "outputs": [
    {
     "data": {
      "text/plain": [
       "0.00790330660926124"
      ]
     },
     "execution_count": 66,
     "metadata": {},
     "output_type": "execute_result"
    }
   ],
   "source": [
    "np.mean(weights)"
   ]
  },
  {
   "cell_type": "code",
   "execution_count": 89,
   "metadata": {},
   "outputs": [
    {
     "name": "stderr",
     "output_type": "stream",
     "text": [
      "DONE\n",
      "DONE\n",
      "DONE\n",
      "DONE\n",
      "DONE\n"
     ]
    },
    {
     "name": "stdout",
     "output_type": "stream",
     "text": [
      "0.07778354156334245 35.88720131925429 1.0548068006254774\n",
      "0.013193949569244568 40.17633290494412 1.0440019954665571\n",
      "0.006207715250805476 46.1228521534461 1.0285229336714135\n",
      "0.0011694440288272166 158.07657266517575 1.1942951376570377\n",
      "0.00041196774293441414 87.84215755089843 0.9257296591144138\n"
     ]
    },
    {
     "name": "stderr",
     "output_type": "stream",
     "text": [
      "DONE\n",
      "DONE\n",
      "DONE\n",
      "DONE\n"
     ]
    },
    {
     "name": "stdout",
     "output_type": "stream",
     "text": [
      "0.00035228042666514344 49.988655346560655 0.7606390137418224\n",
      "0.00017651387488546667 76.35665544292371 0.8697911643978815\n",
      "7.269194061031484e-05 102.40102606764766 0.7419257234435302\n",
      "3.808771702573109e-05 127.7488337686428 0.47685564839899985\n"
     ]
    },
    {
     "name": "stderr",
     "output_type": "stream",
     "text": [
      "DONE\n"
     ]
    },
    {
     "name": "stdout",
     "output_type": "stream",
     "text": [
      "1.5201119763815128e-05 86.3441268658155 0.351114119905893\n"
     ]
    }
   ],
   "source": [
    "for i in range(1,11):\n",
    "    rec_dict = rec.reconstruct(f'{folder}/i{i:04d}')\n",
    "    weights = np.array([e['weight'] for e in rec_dict['members'].values()])\n",
    "    print(np.min(weights), np.max(weights), np.mean(weights))"
   ]
  },
  {
   "cell_type": "code",
   "execution_count": 81,
   "metadata": {},
   "outputs": [
    {
     "name": "stderr",
     "output_type": "stream",
     "text": [
      "DONE\n",
      "DONE\n",
      "DONE\n",
      "DONE\n",
      "DONE\n",
      "DONE\n",
      "DONE\n",
      "DONE\n",
      "DONE\n",
      "DONE\n"
     ]
    },
    {
     "name": "stdout",
     "output_type": "stream",
     "text": [
      "0.2055967181965069 30.923951103473495 1.2489888700396938\n",
      "0.029214988774960572 21.983808817969365 1.697001484472349\n",
      "0.013168974391573812 14.013716937194122 1.3283539578978576\n",
      "0.017106917263756783 15.744114956042345 0.7429526180882909\n",
      "0.008593948326626558 5.688287320764358 0.46839922736239\n",
      "0.002708428665126804 18.86193732345207 0.48931120138213374\n",
      "0.0008574743495293159 2.5864963447544533 0.24219596251030087\n",
      "0.00011818392051976182 4.0749565488023025 0.19763230588217165\n",
      "4.2581301579847274e-05 3.9717180102539116 0.1983131090074471\n",
      "3.871087454541162e-05 4.540814437932726 0.17406466381115876\n"
     ]
    }
   ],
   "source": [
    "for i in range(1,11):\n",
    "    rec_dict = rec.reconstruct(f'{folder}/i{i:04d}')\n",
    "    weights = np.array([e['weight'] for e in rec_dict['members'].values()])\n",
    "    print(np.min(weights), np.max(weights), np.mean(weights))"
   ]
  },
  {
   "cell_type": "code",
   "execution_count": null,
   "metadata": {},
   "outputs": [],
   "source": []
  }
 ],
 "metadata": {
  "kernelspec": {
   "display_name": "Python 3.9.12 ('python3.9')",
   "language": "python",
   "name": "python3"
  },
  "language_info": {
   "codemirror_mode": {
    "name": "ipython",
    "version": 3
   },
   "file_extension": ".py",
   "mimetype": "text/x-python",
   "name": "python",
   "nbconvert_exporter": "python",
   "pygments_lexer": "ipython3",
   "version": "3.9.12"
  },
  "orig_nbformat": 4,
  "vscode": {
   "interpreter": {
    "hash": "5a0ac5ce8bb8c88950cbb5884951ac07e03bb695621e79d254d25c8e1304a15f"
   }
  }
 },
 "nbformat": 4,
 "nbformat_minor": 2
}
