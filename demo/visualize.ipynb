{
 "cells": [
  {
   "cell_type": "code",
   "execution_count": null,
   "metadata": {},
   "outputs": [],
   "source": [
    "import numpy as np\n",
    "import matplotlib\n",
    "import matplotlib.pyplot as plt\n",
    "%matplotlib widget\n",
    "matplotlib.rc('font', size=18)\n",
    "import uncertainties as unc\n",
    "import scipy.special as ss\n",
    "\n",
    "from tqdm.notebook import tqdm\n",
    "\n",
    "import sys\n",
    "sys.path.append('../')\n",
    "import general_purpose.utilities as ut\n",
    "import general_purpose.uplotlib as uplt\n",
    "\n",
    "from importlib import reload\n",
    "\n",
    "import rea.reconstruct as rec\n"
   ]
  },
  {
   "cell_type": "code",
   "execution_count": null,
   "metadata": {},
   "outputs": [],
   "source": [
    "# folder = './__test__/n--k__10--nens__10--T__5'\n",
    "# folder = './__test__/i1--k__10--nens__10--T__5'\n",
    "# folder = './__test__/i10--k__10--nens__10--T__5'\n",
    "# folder = './__test__/i0m0--k__10--nens__1000--T__5'\n",
    "\n",
    "# folder = './__test__/0--k__0--nens__999--T__10'\n",
    "# folder = './__test__/rv--k__4--nens__999--T__10'\n",
    "# folder = './__test__/rv--k__4--nens__20--T__10'\n",
    "# folder = './__test__/0--k__4--nens__100--T__10'\n",
    "# folder = './__test__/c--k__0--nens__999--T__10'\n",
    "# folder = './__test__/c--k__0--nens__100--T__10'\n",
    "# folder = './__test__/f1--k__4--nens__999--T__10'\n",
    "# folder = './__test__/c0--k__0--nens__999--T__10'\n",
    "# folder = './__test__/av_f0--k__4--nens__1000--T__50/'\n",
    "# folder = './__test__/av_c0--k__0--nens__10000--T__1000'\n",
    "\n",
    "# folder = '../veros/__test__/r1_minimal'\n",
    "# folder = '../veros/__test__/r2_minimal'\n",
    "# folder = '../veros/__test__/r3_minimal/'\n",
    "# folder = '../veros/__test__/r01--k__16--nens__50--T__5_minimal'\n",
    "# folder = '../veros/__test__/r2-relax_minimal'\n",
    "\n",
    "folder = '../veros/__test__/rf1_minimal'\n",
    "\n",
    "# folder = '../veros/__test__/t01--k__16--nens__50--T__10_minimal'\n",
    "# folder = '../veros/__test__/t02--k__16--nens__5--T__15_minimal'\n",
    "rec_dict = ut.json2dict(f'{folder}/reconstructed.json')"
   ]
  },
  {
   "cell_type": "code",
   "execution_count": null,
   "metadata": {},
   "outputs": [],
   "source": [
    "reload(rec)"
   ]
  },
  {
   "cell_type": "code",
   "execution_count": null,
   "metadata": {},
   "outputs": [],
   "source": [
    "rec_dict = rec.reconstruct(f'{folder}/i0015', write=True)\n",
    "# rec_dict = rec.reconstruct(f'{folder}/i0011')"
   ]
  },
  {
   "cell_type": "code",
   "execution_count": null,
   "metadata": {},
   "outputs": [],
   "source": [
    "rec_dict['folders']"
   ]
  },
  {
   "cell_type": "code",
   "execution_count": null,
   "metadata": {},
   "outputs": [],
   "source": [
    "rec_trajs = {}\n",
    "\n",
    "for rname, r in tqdm(rec_dict['members'].items()):\n",
    "    traj = []\n",
    "    for subfolder,e in zip(rec_dict['folders'], r['ancestry']):\n",
    "        traj.append(np.load(f'{folder}/{subfolder}/{e}-traj.npy'))\n",
    "    traj = np.concatenate(traj)\n",
    "\n",
    "    rec_trajs[rname] = traj\n",
    "\n",
    "# observables = {r: traj[-1,1] for r,traj in rec_trajs.items()}\n",
    "observables = {r: traj[-1,1] - traj[0,1] for r,traj in rec_trajs.items()}\n",
    "# observables = {r: np.mean(traj[-5:,1]) for r,traj in rec_trajs.items()}"
   ]
  },
  {
   "cell_type": "code",
   "execution_count": null,
   "metadata": {},
   "outputs": [],
   "source": [
    "observables = {r: np.load(f'{folder}/i0019/e{i+1:03d}-traj.npy')[-1,1] for i,r in enumerate(observables)}"
   ]
  },
  {
   "cell_type": "code",
   "execution_count": null,
   "metadata": {},
   "outputs": [],
   "source": [
    "## get the killed trajectories\n",
    "\n",
    "nens = len(rec_dict['members'])\n",
    "enss = set([f'e{i+1:0{len(str(nens))}d}' for i in range(nens)])\n",
    "\n",
    "killed_trajs = []\n",
    "for i,f in tqdm(enumerate(rec_dict['folders'])):\n",
    "    kens = enss - set([r['ancestry'][i] for r in rec_dict['members'].values()])\n",
    "    killed_trajs.append({ke: np.load(f'{folder}/{f}/{ke}-traj.npy') for ke in kens})"
   ]
  },
  {
   "cell_type": "markdown",
   "metadata": {},
   "source": [
    "## Plot trajectories"
   ]
  },
  {
   "cell_type": "code",
   "execution_count": null,
   "metadata": {},
   "outputs": [],
   "source": [
    "start=110\n",
    "for traj in rec_trajs.values():\n",
    "    plt.plot(traj[start:,0]-traj[0,0], -traj[start:,1], color='blue', alpha=0.2)\n",
    "    \n",
    "plt.axvline(traj[start,0]-traj[0,0], color='blue', linestyle='dashed')"
   ]
  },
  {
   "cell_type": "code",
   "execution_count": null,
   "metadata": {},
   "outputs": [],
   "source": [
    "plt.close(1)\n",
    "fig, ax = plt.subplots(num=1, figsize=(9,6))\n",
    "\n",
    "for traj in rec_trajs.values():\n",
    "    plt.plot(traj[:,0]-traj[0,0], -traj[:,1], color='gray', alpha=0.2)\n",
    "    \n",
    "# for seg in killed_trajs:\n",
    "#     for traj in seg.values():\n",
    "#         plt.plot(traj[:,0], -traj[:,1], color='red', alpha=0.2)\n",
    "    \n",
    "# plt.axhline(0, color='black', linestyle='dashed')\n",
    "\n",
    "plt.xlabel('t [years]')\n",
    "plt.ylabel('AMOC strenght [Sv]')\n",
    "# plt.title('N = 1000, k=0')\n",
    "\n",
    "fig.tight_layout()"
   ]
  },
  {
   "cell_type": "code",
   "execution_count": null,
   "metadata": {},
   "outputs": [],
   "source": [
    "(1000-680)/20"
   ]
  },
  {
   "cell_type": "code",
   "execution_count": null,
   "metadata": {},
   "outputs": [],
   "source": [
    "traj.shape"
   ]
  },
  {
   "cell_type": "code",
   "execution_count": null,
   "metadata": {},
   "outputs": [],
   "source": [
    "for e in rec_dict['members'].items():\n",
    "    print(e)"
   ]
  },
  {
   "cell_type": "code",
   "execution_count": null,
   "metadata": {},
   "outputs": [],
   "source": [
    "# check the scores"
   ]
  },
  {
   "cell_type": "code",
   "execution_count": null,
   "metadata": {},
   "outputs": [],
   "source": [
    "first_info = ut.json2dict(f\"{folder}/{rec_dict['folders'][0]}/info.json\")\n",
    "last_info = ut.json2dict(f\"{folder}/{rec_dict['last_folder']}/info.json\")\n",
    "for rname, e in rec_dict['members'].items():\n",
    "    ename = rname.replace('r','e')\n",
    "    \n",
    "    cum_score = last_info['members'][ename]['cum_score_i'] - first_info['members'][e['ancestry'][0]]['cum_score_i']\n",
    "    cum_log_escore = last_info['members'][ename]['cum_log_escore_i'] - first_info['members'][e['ancestry'][0]]['cum_log_escore_i']\n",
    "    print(rname, cum_score - e['cum_score'], cum_log_escore - e['cum_log_escore'])"
   ]
  },
  {
   "cell_type": "code",
   "execution_count": null,
   "metadata": {},
   "outputs": [],
   "source": [
    "plt.close('all')"
   ]
  },
  {
   "cell_type": "code",
   "execution_count": null,
   "metadata": {},
   "outputs": [],
   "source": [
    "np.min(list(observables.values()))"
   ]
  },
  {
   "cell_type": "code",
   "execution_count": null,
   "metadata": {},
   "outputs": [],
   "source": [
    "rec_dict['independent_parents']"
   ]
  },
  {
   "cell_type": "markdown",
   "metadata": {},
   "source": [
    "## Compute expectations"
   ]
  },
  {
   "cell_type": "code",
   "execution_count": null,
   "metadata": {},
   "outputs": [],
   "source": [
    "def f(x, a):\n",
    "    return float(x > a)\n",
    "\n",
    "def expectation(func, **kwargs):\n",
    "    _f = np.array([func(x, **kwargs) for x in observables.values()])\n",
    "    # print(np.mean(_f))\n",
    "    _w = np.array([r['weight'] for r in rec_dict['members'].values()])\n",
    "    # print(np.sum(_w))\n",
    "    # _w = np.exp(-np.array([r['cum_log_escore'] for r in rec_dict['members'].values()]))\n",
    "    # _n = np.exp(rec_dict['cum_log_norm_factor'])\n",
    "\n",
    "    mean = np.mean(_f*_w)\n",
    "    std = np.sqrt(np.mean(_f*_w**2)/len(_w))\n",
    "\n",
    "    return unc.ufloat(mean,std)"
   ]
  },
  {
   "cell_type": "code",
   "execution_count": null,
   "metadata": {},
   "outputs": [],
   "source": [
    "min_obs = np.min(list(observables.values()))\n",
    "max_obs = np.max(list(observables.values()))\n",
    "\n",
    "print(min_obs, max_obs)"
   ]
  },
  {
   "cell_type": "code",
   "execution_count": null,
   "metadata": {},
   "outputs": [],
   "source": [
    "expectation(f, a=-8.1)"
   ]
  },
  {
   "cell_type": "code",
   "execution_count": null,
   "metadata": {},
   "outputs": [],
   "source": [
    "max_obs = -7.5\n",
    "min_obs = -8.3"
   ]
  },
  {
   "cell_type": "code",
   "execution_count": null,
   "metadata": {},
   "outputs": [],
   "source": [
    "a = np.linspace(min_obs*0.99, max_obs*1.01, 100)\n",
    "probs = np.array([expectation(f, a=_a) for _a in a])"
   ]
  },
  {
   "cell_type": "code",
   "execution_count": null,
   "metadata": {},
   "outputs": [],
   "source": [
    "traj.shape"
   ]
  },
  {
   "cell_type": "code",
   "execution_count": null,
   "metadata": {},
   "outputs": [],
   "source": [
    "traj[-1,0]-traj[0,0] + 5"
   ]
  },
  {
   "cell_type": "code",
   "execution_count": null,
   "metadata": {},
   "outputs": [],
   "source": [
    "plt.close(3)\n",
    "fig, ax = plt.subplots(num=3, figsize=(9,6))\n",
    "\n",
    "uplt.errorband(-a,probs, label=f'After {traj[-1,0]-traj[0,0] + 5:.0f} years')\n",
    "plt.yscale('log')\n",
    "# plt.ylim(1e-5,3)\n",
    "plt.axhline(1, color='black', linestyle='dashed')\n",
    "\n",
    "plt.xlabel('AMOC strenght [Sv]')\n",
    "plt.ylabel('probability')\n",
    "\n",
    "# plt.title(f'After {traj[-1,0]-traj[0,0] + 5:.0f} years')\n",
    "\n",
    "fig.tight_layout()"
   ]
  },
  {
   "cell_type": "code",
   "execution_count": null,
   "metadata": {},
   "outputs": [],
   "source": [
    "uplt.errorband(-a,probs, label=f'After {traj[-1,0]-traj[0,0] + 5:.0f} years')"
   ]
  },
  {
   "cell_type": "code",
   "execution_count": null,
   "metadata": {},
   "outputs": [],
   "source": [
    "plt.xlabel('AMOC strenght variation [Sv]')\n",
    "plt.legend()"
   ]
  },
  {
   "cell_type": "markdown",
   "metadata": {},
   "source": [
    "## Theoretical probability of overcoming threshold"
   ]
  },
  {
   "cell_type": "code",
   "execution_count": null,
   "metadata": {},
   "outputs": [],
   "source": [
    "lam = 1\n",
    "sig = 1\n",
    "def ou_var(t):\n",
    "    return sig**2/(2*lam)*(1 - np.exp(-2*lam*t))\n",
    "\n",
    "cum_gaus = lambda x: 0.5*(1 + ss.erf(x/np.sqrt(2)))\n",
    "\n",
    "overcoming_prob = lambda x,v: cum_gaus(-x/np.sqrt(v))"
   ]
  },
  {
   "cell_type": "code",
   "execution_count": null,
   "metadata": {},
   "outputs": [],
   "source": [
    "t = 0.1\n",
    "v = ou_var(t)"
   ]
  },
  {
   "cell_type": "code",
   "execution_count": null,
   "metadata": {},
   "outputs": [],
   "source": [
    "a = np.linspace(0,4,101)\n",
    "\n",
    "e = np.array([expectation(f, a=_a) for _a in a])\n",
    "e_th = overcoming_prob(a,v)"
   ]
  },
  {
   "cell_type": "code",
   "execution_count": null,
   "metadata": {},
   "outputs": [],
   "source": [
    "plt.close(2)\n",
    "fig,ax = plt.subplots(figsize=(9,6))\n",
    "\n",
    "uplt.plot(a,e)\n",
    "plt.plot(a, e_th)\n",
    "# plt.plot(a,uplt.std_dev(e)/uplt.nominal_value(e))\n",
    "# plt.plot(a, uplt.nominal_value(e)/e_th - 1)\n",
    "\n",
    "fig.tight_layout()"
   ]
  },
  {
   "cell_type": "code",
   "execution_count": null,
   "metadata": {},
   "outputs": [],
   "source": [
    "uplt.plot(a,e)\n",
    "# plt.plot(a,uplt.std_dev(e)/uplt.nominal_value(e))"
   ]
  },
  {
   "cell_type": "code",
   "execution_count": null,
   "metadata": {},
   "outputs": [],
   "source": []
  }
 ],
 "metadata": {
  "kernelspec": {
   "display_name": "Python 3 (ipykernel)",
   "language": "python",
   "name": "python3"
  },
  "language_info": {
   "codemirror_mode": {
    "name": "ipython",
    "version": 3
   },
   "file_extension": ".py",
   "mimetype": "text/x-python",
   "name": "python",
   "nbconvert_exporter": "python",
   "pygments_lexer": "ipython3",
   "version": "3.9.12"
  },
  "vscode": {
   "interpreter": {
    "hash": "5a0ac5ce8bb8c88950cbb5884951ac07e03bb695621e79d254d25c8e1304a15f"
   }
  }
 },
 "nbformat": 4,
 "nbformat_minor": 4
}
