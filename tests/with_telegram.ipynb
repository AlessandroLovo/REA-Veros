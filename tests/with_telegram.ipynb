{
 "cells": [
  {
   "cell_type": "code",
   "execution_count": 2,
   "metadata": {},
   "outputs": [],
   "source": [
    "import sys\n",
    "sys.path.append('../')\n",
    "from general_purpose import utilities as ut\n",
    "import logging"
   ]
  },
  {
   "cell_type": "code",
   "execution_count": 3,
   "metadata": {},
   "outputs": [],
   "source": [
    "logger = logging.getLogger()\n",
    "logger.handlers = [logging.StreamHandler(sys.stdout)]\n",
    "logger.level = logging.INFO"
   ]
  },
  {
   "cell_type": "code",
   "execution_count": 13,
   "metadata": {},
   "outputs": [],
   "source": [
    "class TelegramLogger():\n",
    "    def __init__(self, logger: logging.Logger, chat_ID: int=None, token: str=None, level=logging.INFO):\n",
    "        '''\n",
    "        Telegram logger to be used with a `with` statement\n",
    "\n",
    "        Parameters\n",
    "        ----------\n",
    "        logger : logging.Logger\n",
    "            logger to which to add a telegram handler\n",
    "        chat_ID : int or str\n",
    "            telegram chat id of to user to which send messages or path to a file containing this number\n",
    "        token : str\n",
    "            telegram bot token or path to a file containing it\n",
    "        level : int, optional\n",
    "            logging level, by default logging.INFO\n",
    "        '''\n",
    "        self.logger = logger\n",
    "        self.chat_ID = chat_ID\n",
    "        self.token = token\n",
    "        self.level = level\n",
    "        self.th = None\n",
    "\n",
    "    def __enter__(self):\n",
    "        try:\n",
    "            self.th = ut.new_telegram_handler(self.chat_ID, self.token, level=self.level)\n",
    "        except:\n",
    "            logger.warning('Failed to add telegram logger')\n",
    "\n",
    "        if self.th is not None:\n",
    "            self.logger.handlers.append(self.th)\n",
    "            self.logger.debug('Added telegram logger')\n",
    "\n",
    "        return self\n",
    "\n",
    "    def __exit__(self, type, value, traceback):\n",
    "        if self.th is not None:\n",
    "            self.logger.handlers.remove(self.th)\n",
    "            self.logger.info('Removed telegram logger')"
   ]
  },
  {
   "cell_type": "code",
   "execution_count": 5,
   "metadata": {},
   "outputs": [
    {
     "name": "stdout",
     "output_type": "stream",
     "text": [
      "hi\n"
     ]
    }
   ],
   "source": [
    "logger.info('hi')"
   ]
  },
  {
   "cell_type": "code",
   "execution_count": 20,
   "metadata": {},
   "outputs": [
    {
     "name": "stdout",
     "output_type": "stream",
     "text": [
      "test\n"
     ]
    },
    {
     "name": "stderr",
     "output_type": "stream",
     "text": [
      "Error while making POST to https://api.telegram.org/bot/home/alessandro/REAVbost.txt/sendMessage\n",
      "Traceback (most recent call last):\n",
      "  File \"/home/alessandro/anaconda3/envs/python3.9/lib/python3.9/site-packages/telegram_handler/handlers.py\", line 63, in request\n",
      "    response.raise_for_status()\n",
      "  File \"/home/alessandro/anaconda3/envs/python3.9/lib/python3.9/site-packages/requests/models.py\", line 1021, in raise_for_status\n",
      "    raise HTTPError(http_error_msg, response=self)\n",
      "requests.exceptions.HTTPError: 404 Client Error: Not Found for url: https://api.telegram.org/bot/home/alessandro/REAVbost.txt/sendMessage\n"
     ]
    },
    {
     "name": "stdout",
     "output_type": "stream",
     "text": [
      "Removed telegram logger\n"
     ]
    }
   ],
   "source": [
    "with TelegramLogger(logger, '~/telegram_chat_ID.txt', '~/REAVbot.txt') as t:\n",
    "    logger.info('test')\n",
    "    # raise ValueError"
   ]
  },
  {
   "cell_type": "code",
   "execution_count": 19,
   "metadata": {},
   "outputs": [
    {
     "name": "stdout",
     "output_type": "stream",
     "text": [
      "test\n"
     ]
    }
   ],
   "source": [
    "logger.info('test')"
   ]
  },
  {
   "cell_type": "code",
   "execution_count": 3,
   "metadata": {},
   "outputs": [],
   "source": [
    "a = [1,2,3,4]"
   ]
  },
  {
   "cell_type": "code",
   "execution_count": 1,
   "metadata": {},
   "outputs": [],
   "source": [
    "def f(*args):\n",
    "    for a in args:\n",
    "        print(a)"
   ]
  },
  {
   "cell_type": "code",
   "execution_count": 5,
   "metadata": {},
   "outputs": [
    {
     "name": "stdout",
     "output_type": "stream",
     "text": [
      "3\n",
      "4\n"
     ]
    }
   ],
   "source": [
    "f(*(a[2:]))"
   ]
  },
  {
   "cell_type": "code",
   "execution_count": null,
   "metadata": {},
   "outputs": [],
   "source": []
  }
 ],
 "metadata": {
  "kernelspec": {
   "display_name": "Python 3.9.12 ('python3.9')",
   "language": "python",
   "name": "python3"
  },
  "language_info": {
   "codemirror_mode": {
    "name": "ipython",
    "version": 3
   },
   "file_extension": ".py",
   "mimetype": "text/x-python",
   "name": "python",
   "nbconvert_exporter": "python",
   "pygments_lexer": "ipython3",
   "version": "3.9.12"
  },
  "orig_nbformat": 4,
  "vscode": {
   "interpreter": {
    "hash": "5a0ac5ce8bb8c88950cbb5884951ac07e03bb695621e79d254d25c8e1304a15f"
   }
  }
 },
 "nbformat": 4,
 "nbformat_minor": 2
}
