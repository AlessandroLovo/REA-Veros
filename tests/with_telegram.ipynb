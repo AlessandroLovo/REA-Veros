{
 "cells": [
  {
   "cell_type": "code",
   "execution_count": 25,
   "metadata": {},
   "outputs": [],
   "source": [
    "import sys\n",
    "sys.path.append('../')\n",
    "from general_purpose import utilities as ut\n",
    "import logging\n",
    "import traceback"
   ]
  },
  {
   "cell_type": "code",
   "execution_count": 2,
   "metadata": {},
   "outputs": [],
   "source": [
    "logger = logging.getLogger()\n",
    "logger.handlers = [logging.StreamHandler(sys.stdout)]\n",
    "logger.level = logging.INFO"
   ]
  },
  {
   "cell_type": "code",
   "execution_count": 29,
   "metadata": {},
   "outputs": [],
   "source": [
    "class TelegramLogger():\n",
    "    def __init__(self, logger: logging.Logger, chat_ID: int=None, token: str=None, level=logging.INFO):\n",
    "        '''\n",
    "        Telegram logger to be used with a `with` statement\n",
    "\n",
    "        Parameters\n",
    "        ----------\n",
    "        logger : logging.Logger\n",
    "            logger to which to add a telegram handler\n",
    "        chat_ID : int or str\n",
    "            telegram chat id of to user to which send messages or path to a file containing this number\n",
    "        token : str\n",
    "            telegram bot token or path to a file containing it\n",
    "        level : int, optional\n",
    "            logging level, by default logging.INFO\n",
    "        '''\n",
    "        self.logger = logger\n",
    "        self.chat_ID = chat_ID\n",
    "        self.token = token\n",
    "        self.level = level\n",
    "        self.th = None\n",
    "\n",
    "    def __enter__(self):\n",
    "        try:\n",
    "            self.th = ut.new_telegram_handler(self.chat_ID, self.token, level=self.level)\n",
    "        except:\n",
    "            logger.warning('Failed to add telegram logger')\n",
    "\n",
    "        if self.th is not None:\n",
    "            self.logger.handlers.append(self.th)\n",
    "            self.logger.debug('Added telegram logger')\n",
    "\n",
    "        return self\n",
    "\n",
    "    def __exit__(self, exc_type, exc_value, exc_traceback):\n",
    "        if exc_type is not None:\n",
    "            self.logger.error(traceback.format_exc())\n",
    "        if self.th is not None:\n",
    "            self.logger.handlers.remove(self.th)\n",
    "            self.logger.info('Removed telegram logger')"
   ]
  },
  {
   "cell_type": "code",
   "execution_count": 4,
   "metadata": {},
   "outputs": [
    {
     "name": "stdout",
     "output_type": "stream",
     "text": [
      "hi\n"
     ]
    }
   ],
   "source": [
    "logger.info('hi')"
   ]
  },
  {
   "cell_type": "code",
   "execution_count": 30,
   "metadata": {},
   "outputs": [
    {
     "name": "stdout",
     "output_type": "stream",
     "text": [
      "test\n",
      "Traceback (most recent call last):\n",
      "  File \"/tmp/ipykernel_4805/169288034.py\", line 3, in <cell line: 1>\n",
      "    raise ValueError\n",
      "ValueError\n",
      "\n",
      "Removed telegram logger\n"
     ]
    },
    {
     "ename": "ValueError",
     "evalue": "",
     "output_type": "error",
     "traceback": [
      "\u001b[0;31m---------------------------------------------------------------------------\u001b[0m",
      "\u001b[0;31mValueError\u001b[0m                                Traceback (most recent call last)",
      "\u001b[1;32m/media/alessandro/OS/Users/ale57/Documents/0. Lyon/WORK/REA-Veros/tests/with_telegram.ipynb Cell 5\u001b[0m in \u001b[0;36m<cell line: 1>\u001b[0;34m()\u001b[0m\n\u001b[1;32m      <a href='vscode-notebook-cell:/media/alessandro/OS/Users/ale57/Documents/0.%20Lyon/WORK/REA-Veros/tests/with_telegram.ipynb#W4sZmlsZQ%3D%3D?line=0'>1</a>\u001b[0m \u001b[39mwith\u001b[39;00m TelegramLogger(logger, \u001b[39m'\u001b[39m\u001b[39m~/telegram_chat_ID.txt\u001b[39m\u001b[39m'\u001b[39m, \u001b[39m'\u001b[39m\u001b[39m~/REAVbot.txt\u001b[39m\u001b[39m'\u001b[39m) \u001b[39mas\u001b[39;00m t:\n\u001b[1;32m      <a href='vscode-notebook-cell:/media/alessandro/OS/Users/ale57/Documents/0.%20Lyon/WORK/REA-Veros/tests/with_telegram.ipynb#W4sZmlsZQ%3D%3D?line=1'>2</a>\u001b[0m     logger\u001b[39m.\u001b[39minfo(\u001b[39m'\u001b[39m\u001b[39mtest\u001b[39m\u001b[39m'\u001b[39m)\n\u001b[0;32m----> <a href='vscode-notebook-cell:/media/alessandro/OS/Users/ale57/Documents/0.%20Lyon/WORK/REA-Veros/tests/with_telegram.ipynb#W4sZmlsZQ%3D%3D?line=2'>3</a>\u001b[0m     \u001b[39mraise\u001b[39;00m \u001b[39mValueError\u001b[39;00m\n",
      "\u001b[0;31mValueError\u001b[0m: "
     ]
    }
   ],
   "source": [
    "with TelegramLogger(logger, '~/telegram_chat_ID.txt', '~/REAVbot.txt') as t:\n",
    "    logger.info('test')\n",
    "    raise ValueError"
   ]
  },
  {
   "cell_type": "code",
   "execution_count": 24,
   "metadata": {},
   "outputs": [
    {
     "data": {
      "text/plain": [
       "<traceback at 0x7f2ecdda6080>"
      ]
     },
     "execution_count": 24,
     "metadata": {},
     "output_type": "execute_result"
    }
   ],
   "source": [
    "t.tb"
   ]
  },
  {
   "cell_type": "code",
   "execution_count": 19,
   "metadata": {},
   "outputs": [
    {
     "name": "stdout",
     "output_type": "stream",
     "text": [
      "test\n"
     ]
    }
   ],
   "source": [
    "logger.info('test')"
   ]
  },
  {
   "cell_type": "code",
   "execution_count": 3,
   "metadata": {},
   "outputs": [],
   "source": [
    "a = [1,2,3,4]"
   ]
  },
  {
   "cell_type": "code",
   "execution_count": 1,
   "metadata": {},
   "outputs": [],
   "source": [
    "def f(*args):\n",
    "    for a in args:\n",
    "        print(a)"
   ]
  },
  {
   "cell_type": "code",
   "execution_count": 5,
   "metadata": {},
   "outputs": [
    {
     "name": "stdout",
     "output_type": "stream",
     "text": [
      "3\n",
      "4\n"
     ]
    }
   ],
   "source": [
    "f(*(a[2:]))"
   ]
  },
  {
   "cell_type": "code",
   "execution_count": 28,
   "metadata": {},
   "outputs": [
    {
     "data": {
      "text/plain": [
       "[<StreamHandler stdout (NOTSET)>]"
      ]
     },
     "execution_count": 28,
     "metadata": {},
     "output_type": "execute_result"
    }
   ],
   "source": [
    "logger.handlers"
   ]
  },
  {
   "cell_type": "code",
   "execution_count": null,
   "metadata": {},
   "outputs": [],
   "source": []
  }
 ],
 "metadata": {
  "kernelspec": {
   "display_name": "Python 3.9.12 ('python3.9')",
   "language": "python",
   "name": "python3"
  },
  "language_info": {
   "codemirror_mode": {
    "name": "ipython",
    "version": 3
   },
   "file_extension": ".py",
   "mimetype": "text/x-python",
   "name": "python",
   "nbconvert_exporter": "python",
   "pygments_lexer": "ipython3",
   "version": "3.9.12"
  },
  "orig_nbformat": 4,
  "vscode": {
   "interpreter": {
    "hash": "5a0ac5ce8bb8c88950cbb5884951ac07e03bb695621e79d254d25c8e1304a15f"
   }
  }
 },
 "nbformat": 4,
 "nbformat_minor": 2
}
